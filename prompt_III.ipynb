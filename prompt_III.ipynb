{
 "cells": [
  {
   "cell_type": "markdown",
   "metadata": {},
   "source": [
    "# Practical Application III: Comparing Classifiers\n",
    "\n",
    "**Overview**: In this practical application, your goal is to compare the performance of the classifiers we encountered in this section, namely K Nearest Neighbor, Logistic Regression, Decision Trees, and Support Vector Machines.  We will utilize a dataset related to marketing bank products over the telephone.  \n",
    "\n"
   ]
  },
  {
   "cell_type": "markdown",
   "metadata": {},
   "source": [
    "## Getting Started\n",
    "\n",
    "Our dataset comes from the UCI Machine Learning repository [link](https://archive.ics.uci.edu/ml/datasets/bank+marketing).  The data is from a Portugese banking institution and is a collection of the results of multiple marketing campaigns.  We will make use of the article accompanying the dataset [here](CRISP-DM-BANK.pdf) for more information on the data and features.\n",
    "\n"
   ]
  },
  {
   "cell_type": "markdown",
   "metadata": {},
   "source": [
    "## Problem 1: Understanding the Data\n",
    "\n",
    "To gain a better understanding of the data, please read the information provided in the UCI link above, and examine the **Materials and Methods** section of the paper.  How many marketing campaigns does this data represent?"
   ]
  },
  {
   "cell_type": "markdown",
   "metadata": {},
   "source": [
    "#### Answer: 17 campaigns"
   ]
  },
  {
   "cell_type": "markdown",
   "metadata": {},
   "source": [
    "## Problem 2: Read in the Data\n",
    "\n",
    "Use pandas to read in the dataset `bank-additional-full.csv` and assign to a meaningful variable name."
   ]
  },
  {
   "cell_type": "code",
   "execution_count": null,
   "metadata": {},
   "outputs": [],
   "source": []
  },
  {
   "cell_type": "code",
   "execution_count": 1591,
   "metadata": {},
   "outputs": [],
   "source": [
    "import pandas as pd\n",
    "import numpy as np\n",
    "from sklearn.preprocessing import OneHotEncoder, StandardScaler\n",
    "from sklearn.preprocessing import PolynomialFeatures\n",
    "from sklearn.compose import make_column_selector\n",
    "from sklearn.compose import ColumnTransformer\n",
    "from sklearn.model_selection import train_test_split\n",
    "from sklearn.dummy import DummyClassifier"
   ]
  },
  {
   "cell_type": "code",
   "execution_count": 1593,
   "metadata": {},
   "outputs": [],
   "source": [
    "import matplotlib.pyplot as plt\n",
    "from sklearn.linear_model import LogisticRegression\n",
    "from sklearn.metrics import accuracy_score\n",
    "from sklearn.neighbors import KNeighborsClassifier\n",
    "from sklearn.pipeline import Pipeline\n",
    "from sklearn.tree import DecisionTreeClassifier, export_text, plot_tree\n",
    "from sklearn.metrics import confusion_matrix, ConfusionMatrixDisplay\n",
    "from sklearn.model_selection import GridSearchCV\n",
    "from sklearn.svm import SVC\n",
    "import time"
   ]
  },
  {
   "cell_type": "code",
   "execution_count": 1595,
   "metadata": {},
   "outputs": [],
   "source": [
    "pd.options.display.max_columns = None"
   ]
  },
  {
   "cell_type": "code",
   "execution_count": 1597,
   "metadata": {},
   "outputs": [],
   "source": [
    "df = pd.read_csv('data/bank-additional-full.csv', sep = ';')"
   ]
  },
  {
   "cell_type": "code",
   "execution_count": 1599,
   "metadata": {},
   "outputs": [
    {
     "data": {
      "text/html": [
       "<div>\n",
       "<style scoped>\n",
       "    .dataframe tbody tr th:only-of-type {\n",
       "        vertical-align: middle;\n",
       "    }\n",
       "\n",
       "    .dataframe tbody tr th {\n",
       "        vertical-align: top;\n",
       "    }\n",
       "\n",
       "    .dataframe thead th {\n",
       "        text-align: right;\n",
       "    }\n",
       "</style>\n",
       "<table border=\"1\" class=\"dataframe\">\n",
       "  <thead>\n",
       "    <tr style=\"text-align: right;\">\n",
       "      <th></th>\n",
       "      <th>age</th>\n",
       "      <th>job</th>\n",
       "      <th>marital</th>\n",
       "      <th>education</th>\n",
       "      <th>default</th>\n",
       "      <th>housing</th>\n",
       "      <th>loan</th>\n",
       "      <th>contact</th>\n",
       "      <th>month</th>\n",
       "      <th>day_of_week</th>\n",
       "      <th>duration</th>\n",
       "      <th>campaign</th>\n",
       "      <th>pdays</th>\n",
       "      <th>previous</th>\n",
       "      <th>poutcome</th>\n",
       "      <th>emp.var.rate</th>\n",
       "      <th>cons.price.idx</th>\n",
       "      <th>cons.conf.idx</th>\n",
       "      <th>euribor3m</th>\n",
       "      <th>nr.employed</th>\n",
       "      <th>y</th>\n",
       "    </tr>\n",
       "  </thead>\n",
       "  <tbody>\n",
       "    <tr>\n",
       "      <th>0</th>\n",
       "      <td>56</td>\n",
       "      <td>housemaid</td>\n",
       "      <td>married</td>\n",
       "      <td>basic.4y</td>\n",
       "      <td>no</td>\n",
       "      <td>no</td>\n",
       "      <td>no</td>\n",
       "      <td>telephone</td>\n",
       "      <td>may</td>\n",
       "      <td>mon</td>\n",
       "      <td>261</td>\n",
       "      <td>1</td>\n",
       "      <td>999</td>\n",
       "      <td>0</td>\n",
       "      <td>nonexistent</td>\n",
       "      <td>1.1</td>\n",
       "      <td>93.994</td>\n",
       "      <td>-36.4</td>\n",
       "      <td>4.857</td>\n",
       "      <td>5191.0</td>\n",
       "      <td>no</td>\n",
       "    </tr>\n",
       "    <tr>\n",
       "      <th>1</th>\n",
       "      <td>57</td>\n",
       "      <td>services</td>\n",
       "      <td>married</td>\n",
       "      <td>high.school</td>\n",
       "      <td>unknown</td>\n",
       "      <td>no</td>\n",
       "      <td>no</td>\n",
       "      <td>telephone</td>\n",
       "      <td>may</td>\n",
       "      <td>mon</td>\n",
       "      <td>149</td>\n",
       "      <td>1</td>\n",
       "      <td>999</td>\n",
       "      <td>0</td>\n",
       "      <td>nonexistent</td>\n",
       "      <td>1.1</td>\n",
       "      <td>93.994</td>\n",
       "      <td>-36.4</td>\n",
       "      <td>4.857</td>\n",
       "      <td>5191.0</td>\n",
       "      <td>no</td>\n",
       "    </tr>\n",
       "    <tr>\n",
       "      <th>2</th>\n",
       "      <td>37</td>\n",
       "      <td>services</td>\n",
       "      <td>married</td>\n",
       "      <td>high.school</td>\n",
       "      <td>no</td>\n",
       "      <td>yes</td>\n",
       "      <td>no</td>\n",
       "      <td>telephone</td>\n",
       "      <td>may</td>\n",
       "      <td>mon</td>\n",
       "      <td>226</td>\n",
       "      <td>1</td>\n",
       "      <td>999</td>\n",
       "      <td>0</td>\n",
       "      <td>nonexistent</td>\n",
       "      <td>1.1</td>\n",
       "      <td>93.994</td>\n",
       "      <td>-36.4</td>\n",
       "      <td>4.857</td>\n",
       "      <td>5191.0</td>\n",
       "      <td>no</td>\n",
       "    </tr>\n",
       "    <tr>\n",
       "      <th>3</th>\n",
       "      <td>40</td>\n",
       "      <td>admin.</td>\n",
       "      <td>married</td>\n",
       "      <td>basic.6y</td>\n",
       "      <td>no</td>\n",
       "      <td>no</td>\n",
       "      <td>no</td>\n",
       "      <td>telephone</td>\n",
       "      <td>may</td>\n",
       "      <td>mon</td>\n",
       "      <td>151</td>\n",
       "      <td>1</td>\n",
       "      <td>999</td>\n",
       "      <td>0</td>\n",
       "      <td>nonexistent</td>\n",
       "      <td>1.1</td>\n",
       "      <td>93.994</td>\n",
       "      <td>-36.4</td>\n",
       "      <td>4.857</td>\n",
       "      <td>5191.0</td>\n",
       "      <td>no</td>\n",
       "    </tr>\n",
       "    <tr>\n",
       "      <th>4</th>\n",
       "      <td>56</td>\n",
       "      <td>services</td>\n",
       "      <td>married</td>\n",
       "      <td>high.school</td>\n",
       "      <td>no</td>\n",
       "      <td>no</td>\n",
       "      <td>yes</td>\n",
       "      <td>telephone</td>\n",
       "      <td>may</td>\n",
       "      <td>mon</td>\n",
       "      <td>307</td>\n",
       "      <td>1</td>\n",
       "      <td>999</td>\n",
       "      <td>0</td>\n",
       "      <td>nonexistent</td>\n",
       "      <td>1.1</td>\n",
       "      <td>93.994</td>\n",
       "      <td>-36.4</td>\n",
       "      <td>4.857</td>\n",
       "      <td>5191.0</td>\n",
       "      <td>no</td>\n",
       "    </tr>\n",
       "  </tbody>\n",
       "</table>\n",
       "</div>"
      ],
      "text/plain": [
       "   age        job  marital    education  default housing loan    contact  \\\n",
       "0   56  housemaid  married     basic.4y       no      no   no  telephone   \n",
       "1   57   services  married  high.school  unknown      no   no  telephone   \n",
       "2   37   services  married  high.school       no     yes   no  telephone   \n",
       "3   40     admin.  married     basic.6y       no      no   no  telephone   \n",
       "4   56   services  married  high.school       no      no  yes  telephone   \n",
       "\n",
       "  month day_of_week  duration  campaign  pdays  previous     poutcome  \\\n",
       "0   may         mon       261         1    999         0  nonexistent   \n",
       "1   may         mon       149         1    999         0  nonexistent   \n",
       "2   may         mon       226         1    999         0  nonexistent   \n",
       "3   may         mon       151         1    999         0  nonexistent   \n",
       "4   may         mon       307         1    999         0  nonexistent   \n",
       "\n",
       "   emp.var.rate  cons.price.idx  cons.conf.idx  euribor3m  nr.employed   y  \n",
       "0           1.1          93.994          -36.4      4.857       5191.0  no  \n",
       "1           1.1          93.994          -36.4      4.857       5191.0  no  \n",
       "2           1.1          93.994          -36.4      4.857       5191.0  no  \n",
       "3           1.1          93.994          -36.4      4.857       5191.0  no  \n",
       "4           1.1          93.994          -36.4      4.857       5191.0  no  "
      ]
     },
     "execution_count": 1599,
     "metadata": {},
     "output_type": "execute_result"
    }
   ],
   "source": [
    "df.head()"
   ]
  },
  {
   "cell_type": "code",
   "execution_count": 1601,
   "metadata": {},
   "outputs": [
    {
     "data": {
      "text/html": [
       "<div>\n",
       "<style scoped>\n",
       "    .dataframe tbody tr th:only-of-type {\n",
       "        vertical-align: middle;\n",
       "    }\n",
       "\n",
       "    .dataframe tbody tr th {\n",
       "        vertical-align: top;\n",
       "    }\n",
       "\n",
       "    .dataframe thead th {\n",
       "        text-align: right;\n",
       "    }\n",
       "</style>\n",
       "<table border=\"1\" class=\"dataframe\">\n",
       "  <thead>\n",
       "    <tr style=\"text-align: right;\">\n",
       "      <th></th>\n",
       "      <th>age</th>\n",
       "      <th>job</th>\n",
       "      <th>marital</th>\n",
       "      <th>education</th>\n",
       "      <th>default</th>\n",
       "      <th>housing</th>\n",
       "      <th>loan</th>\n",
       "      <th>contact</th>\n",
       "      <th>month</th>\n",
       "      <th>day_of_week</th>\n",
       "      <th>duration</th>\n",
       "      <th>campaign</th>\n",
       "      <th>pdays</th>\n",
       "      <th>previous</th>\n",
       "      <th>poutcome</th>\n",
       "      <th>emp.var.rate</th>\n",
       "      <th>cons.price.idx</th>\n",
       "      <th>cons.conf.idx</th>\n",
       "      <th>euribor3m</th>\n",
       "      <th>nr.employed</th>\n",
       "      <th>y</th>\n",
       "    </tr>\n",
       "  </thead>\n",
       "  <tbody>\n",
       "    <tr>\n",
       "      <th>0</th>\n",
       "      <td>56</td>\n",
       "      <td>housemaid</td>\n",
       "      <td>married</td>\n",
       "      <td>basic.4y</td>\n",
       "      <td>no</td>\n",
       "      <td>no</td>\n",
       "      <td>no</td>\n",
       "      <td>telephone</td>\n",
       "      <td>may</td>\n",
       "      <td>mon</td>\n",
       "      <td>261</td>\n",
       "      <td>1</td>\n",
       "      <td>999</td>\n",
       "      <td>0</td>\n",
       "      <td>nonexistent</td>\n",
       "      <td>1.1</td>\n",
       "      <td>93.994</td>\n",
       "      <td>-36.4</td>\n",
       "      <td>4.857</td>\n",
       "      <td>5191.0</td>\n",
       "      <td>no</td>\n",
       "    </tr>\n",
       "    <tr>\n",
       "      <th>1</th>\n",
       "      <td>57</td>\n",
       "      <td>services</td>\n",
       "      <td>married</td>\n",
       "      <td>high.school</td>\n",
       "      <td>unknown</td>\n",
       "      <td>no</td>\n",
       "      <td>no</td>\n",
       "      <td>telephone</td>\n",
       "      <td>may</td>\n",
       "      <td>mon</td>\n",
       "      <td>149</td>\n",
       "      <td>1</td>\n",
       "      <td>999</td>\n",
       "      <td>0</td>\n",
       "      <td>nonexistent</td>\n",
       "      <td>1.1</td>\n",
       "      <td>93.994</td>\n",
       "      <td>-36.4</td>\n",
       "      <td>4.857</td>\n",
       "      <td>5191.0</td>\n",
       "      <td>no</td>\n",
       "    </tr>\n",
       "    <tr>\n",
       "      <th>2</th>\n",
       "      <td>37</td>\n",
       "      <td>services</td>\n",
       "      <td>married</td>\n",
       "      <td>high.school</td>\n",
       "      <td>no</td>\n",
       "      <td>yes</td>\n",
       "      <td>no</td>\n",
       "      <td>telephone</td>\n",
       "      <td>may</td>\n",
       "      <td>mon</td>\n",
       "      <td>226</td>\n",
       "      <td>1</td>\n",
       "      <td>999</td>\n",
       "      <td>0</td>\n",
       "      <td>nonexistent</td>\n",
       "      <td>1.1</td>\n",
       "      <td>93.994</td>\n",
       "      <td>-36.4</td>\n",
       "      <td>4.857</td>\n",
       "      <td>5191.0</td>\n",
       "      <td>no</td>\n",
       "    </tr>\n",
       "    <tr>\n",
       "      <th>3</th>\n",
       "      <td>40</td>\n",
       "      <td>admin.</td>\n",
       "      <td>married</td>\n",
       "      <td>basic.6y</td>\n",
       "      <td>no</td>\n",
       "      <td>no</td>\n",
       "      <td>no</td>\n",
       "      <td>telephone</td>\n",
       "      <td>may</td>\n",
       "      <td>mon</td>\n",
       "      <td>151</td>\n",
       "      <td>1</td>\n",
       "      <td>999</td>\n",
       "      <td>0</td>\n",
       "      <td>nonexistent</td>\n",
       "      <td>1.1</td>\n",
       "      <td>93.994</td>\n",
       "      <td>-36.4</td>\n",
       "      <td>4.857</td>\n",
       "      <td>5191.0</td>\n",
       "      <td>no</td>\n",
       "    </tr>\n",
       "    <tr>\n",
       "      <th>4</th>\n",
       "      <td>56</td>\n",
       "      <td>services</td>\n",
       "      <td>married</td>\n",
       "      <td>high.school</td>\n",
       "      <td>no</td>\n",
       "      <td>no</td>\n",
       "      <td>yes</td>\n",
       "      <td>telephone</td>\n",
       "      <td>may</td>\n",
       "      <td>mon</td>\n",
       "      <td>307</td>\n",
       "      <td>1</td>\n",
       "      <td>999</td>\n",
       "      <td>0</td>\n",
       "      <td>nonexistent</td>\n",
       "      <td>1.1</td>\n",
       "      <td>93.994</td>\n",
       "      <td>-36.4</td>\n",
       "      <td>4.857</td>\n",
       "      <td>5191.0</td>\n",
       "      <td>no</td>\n",
       "    </tr>\n",
       "    <tr>\n",
       "      <th>...</th>\n",
       "      <td>...</td>\n",
       "      <td>...</td>\n",
       "      <td>...</td>\n",
       "      <td>...</td>\n",
       "      <td>...</td>\n",
       "      <td>...</td>\n",
       "      <td>...</td>\n",
       "      <td>...</td>\n",
       "      <td>...</td>\n",
       "      <td>...</td>\n",
       "      <td>...</td>\n",
       "      <td>...</td>\n",
       "      <td>...</td>\n",
       "      <td>...</td>\n",
       "      <td>...</td>\n",
       "      <td>...</td>\n",
       "      <td>...</td>\n",
       "      <td>...</td>\n",
       "      <td>...</td>\n",
       "      <td>...</td>\n",
       "      <td>...</td>\n",
       "    </tr>\n",
       "    <tr>\n",
       "      <th>41183</th>\n",
       "      <td>73</td>\n",
       "      <td>retired</td>\n",
       "      <td>married</td>\n",
       "      <td>professional.course</td>\n",
       "      <td>no</td>\n",
       "      <td>yes</td>\n",
       "      <td>no</td>\n",
       "      <td>cellular</td>\n",
       "      <td>nov</td>\n",
       "      <td>fri</td>\n",
       "      <td>334</td>\n",
       "      <td>1</td>\n",
       "      <td>999</td>\n",
       "      <td>0</td>\n",
       "      <td>nonexistent</td>\n",
       "      <td>-1.1</td>\n",
       "      <td>94.767</td>\n",
       "      <td>-50.8</td>\n",
       "      <td>1.028</td>\n",
       "      <td>4963.6</td>\n",
       "      <td>yes</td>\n",
       "    </tr>\n",
       "    <tr>\n",
       "      <th>41184</th>\n",
       "      <td>46</td>\n",
       "      <td>blue-collar</td>\n",
       "      <td>married</td>\n",
       "      <td>professional.course</td>\n",
       "      <td>no</td>\n",
       "      <td>no</td>\n",
       "      <td>no</td>\n",
       "      <td>cellular</td>\n",
       "      <td>nov</td>\n",
       "      <td>fri</td>\n",
       "      <td>383</td>\n",
       "      <td>1</td>\n",
       "      <td>999</td>\n",
       "      <td>0</td>\n",
       "      <td>nonexistent</td>\n",
       "      <td>-1.1</td>\n",
       "      <td>94.767</td>\n",
       "      <td>-50.8</td>\n",
       "      <td>1.028</td>\n",
       "      <td>4963.6</td>\n",
       "      <td>no</td>\n",
       "    </tr>\n",
       "    <tr>\n",
       "      <th>41185</th>\n",
       "      <td>56</td>\n",
       "      <td>retired</td>\n",
       "      <td>married</td>\n",
       "      <td>university.degree</td>\n",
       "      <td>no</td>\n",
       "      <td>yes</td>\n",
       "      <td>no</td>\n",
       "      <td>cellular</td>\n",
       "      <td>nov</td>\n",
       "      <td>fri</td>\n",
       "      <td>189</td>\n",
       "      <td>2</td>\n",
       "      <td>999</td>\n",
       "      <td>0</td>\n",
       "      <td>nonexistent</td>\n",
       "      <td>-1.1</td>\n",
       "      <td>94.767</td>\n",
       "      <td>-50.8</td>\n",
       "      <td>1.028</td>\n",
       "      <td>4963.6</td>\n",
       "      <td>no</td>\n",
       "    </tr>\n",
       "    <tr>\n",
       "      <th>41186</th>\n",
       "      <td>44</td>\n",
       "      <td>technician</td>\n",
       "      <td>married</td>\n",
       "      <td>professional.course</td>\n",
       "      <td>no</td>\n",
       "      <td>no</td>\n",
       "      <td>no</td>\n",
       "      <td>cellular</td>\n",
       "      <td>nov</td>\n",
       "      <td>fri</td>\n",
       "      <td>442</td>\n",
       "      <td>1</td>\n",
       "      <td>999</td>\n",
       "      <td>0</td>\n",
       "      <td>nonexistent</td>\n",
       "      <td>-1.1</td>\n",
       "      <td>94.767</td>\n",
       "      <td>-50.8</td>\n",
       "      <td>1.028</td>\n",
       "      <td>4963.6</td>\n",
       "      <td>yes</td>\n",
       "    </tr>\n",
       "    <tr>\n",
       "      <th>41187</th>\n",
       "      <td>74</td>\n",
       "      <td>retired</td>\n",
       "      <td>married</td>\n",
       "      <td>professional.course</td>\n",
       "      <td>no</td>\n",
       "      <td>yes</td>\n",
       "      <td>no</td>\n",
       "      <td>cellular</td>\n",
       "      <td>nov</td>\n",
       "      <td>fri</td>\n",
       "      <td>239</td>\n",
       "      <td>3</td>\n",
       "      <td>999</td>\n",
       "      <td>1</td>\n",
       "      <td>failure</td>\n",
       "      <td>-1.1</td>\n",
       "      <td>94.767</td>\n",
       "      <td>-50.8</td>\n",
       "      <td>1.028</td>\n",
       "      <td>4963.6</td>\n",
       "      <td>no</td>\n",
       "    </tr>\n",
       "  </tbody>\n",
       "</table>\n",
       "<p>41188 rows × 21 columns</p>\n",
       "</div>"
      ],
      "text/plain": [
       "       age          job  marital            education  default housing loan  \\\n",
       "0       56    housemaid  married             basic.4y       no      no   no   \n",
       "1       57     services  married          high.school  unknown      no   no   \n",
       "2       37     services  married          high.school       no     yes   no   \n",
       "3       40       admin.  married             basic.6y       no      no   no   \n",
       "4       56     services  married          high.school       no      no  yes   \n",
       "...    ...          ...      ...                  ...      ...     ...  ...   \n",
       "41183   73      retired  married  professional.course       no     yes   no   \n",
       "41184   46  blue-collar  married  professional.course       no      no   no   \n",
       "41185   56      retired  married    university.degree       no     yes   no   \n",
       "41186   44   technician  married  professional.course       no      no   no   \n",
       "41187   74      retired  married  professional.course       no     yes   no   \n",
       "\n",
       "         contact month day_of_week  duration  campaign  pdays  previous  \\\n",
       "0      telephone   may         mon       261         1    999         0   \n",
       "1      telephone   may         mon       149         1    999         0   \n",
       "2      telephone   may         mon       226         1    999         0   \n",
       "3      telephone   may         mon       151         1    999         0   \n",
       "4      telephone   may         mon       307         1    999         0   \n",
       "...          ...   ...         ...       ...       ...    ...       ...   \n",
       "41183   cellular   nov         fri       334         1    999         0   \n",
       "41184   cellular   nov         fri       383         1    999         0   \n",
       "41185   cellular   nov         fri       189         2    999         0   \n",
       "41186   cellular   nov         fri       442         1    999         0   \n",
       "41187   cellular   nov         fri       239         3    999         1   \n",
       "\n",
       "          poutcome  emp.var.rate  cons.price.idx  cons.conf.idx  euribor3m  \\\n",
       "0      nonexistent           1.1          93.994          -36.4      4.857   \n",
       "1      nonexistent           1.1          93.994          -36.4      4.857   \n",
       "2      nonexistent           1.1          93.994          -36.4      4.857   \n",
       "3      nonexistent           1.1          93.994          -36.4      4.857   \n",
       "4      nonexistent           1.1          93.994          -36.4      4.857   \n",
       "...            ...           ...             ...            ...        ...   \n",
       "41183  nonexistent          -1.1          94.767          -50.8      1.028   \n",
       "41184  nonexistent          -1.1          94.767          -50.8      1.028   \n",
       "41185  nonexistent          -1.1          94.767          -50.8      1.028   \n",
       "41186  nonexistent          -1.1          94.767          -50.8      1.028   \n",
       "41187      failure          -1.1          94.767          -50.8      1.028   \n",
       "\n",
       "       nr.employed    y  \n",
       "0           5191.0   no  \n",
       "1           5191.0   no  \n",
       "2           5191.0   no  \n",
       "3           5191.0   no  \n",
       "4           5191.0   no  \n",
       "...            ...  ...  \n",
       "41183       4963.6  yes  \n",
       "41184       4963.6   no  \n",
       "41185       4963.6   no  \n",
       "41186       4963.6  yes  \n",
       "41187       4963.6   no  \n",
       "\n",
       "[41188 rows x 21 columns]"
      ]
     },
     "execution_count": 1601,
     "metadata": {},
     "output_type": "execute_result"
    }
   ],
   "source": [
    "df"
   ]
  },
  {
   "cell_type": "code",
   "execution_count": null,
   "metadata": {},
   "outputs": [],
   "source": []
  },
  {
   "cell_type": "code",
   "execution_count": null,
   "metadata": {},
   "outputs": [],
   "source": []
  },
  {
   "cell_type": "markdown",
   "metadata": {},
   "source": [
    "## Problem 3: Understanding the Features\n",
    "\n",
    "\n",
    "Examine the data description below, and determine if any of the features are missing values or need to be coerced to a different data type.\n",
    "\n",
    "\n",
    "```\n",
    "Input variables:\n",
    "# bank client data:\n",
    "1 - age (numeric)\n",
    "2 - job : type of job (categorical: 'admin.','blue-collar','entrepreneur','housemaid','management','retired','self-employed','services','student','technician','unemployed','unknown')\n",
    "3 - marital : marital status (categorical: 'divorced','married','single','unknown'; note: 'divorced' means divorced or widowed)\n",
    "4 - education (categorical: 'basic.4y','basic.6y','basic.9y','high.school','illiterate','professional.course','university.degree','unknown')\n",
    "5 - default: has credit in default? (categorical: 'no','yes','unknown')\n",
    "6 - housing: has housing loan? (categorical: 'no','yes','unknown')\n",
    "7 - loan: has personal loan? (categorical: 'no','yes','unknown')\n",
    "# related with the last contact of the current campaign:\n",
    "8 - contact: contact communication type (categorical: 'cellular','telephone')\n",
    "9 - month: last contact month of year (categorical: 'jan', 'feb', 'mar', ..., 'nov', 'dec')\n",
    "10 - day_of_week: last contact day of the week (categorical: 'mon','tue','wed','thu','fri')\n",
    "11 - duration: last contact duration, in seconds (numeric). Important note: this attribute highly affects the output target (e.g., if duration=0 then y='no'). Yet, the duration is not known before a call is performed. Also, after the end of the call y is obviously known. Thus, this input should only be included for benchmark purposes and should be discarded if the intention is to have a realistic predictive model.\n",
    "# other attributes:\n",
    "12 - campaign: number of contacts performed during this campaign and for this client (numeric, includes last contact)\n",
    "13 - pdays: number of days that passed by after the client was last contacted from a previous campaign (numeric; 999 means client was not previously contacted)\n",
    "14 - previous: number of contacts performed before this campaign and for this client (numeric)\n",
    "15 - poutcome: outcome of the previous marketing campaign (categorical: 'failure','nonexistent','success')\n",
    "# social and economic context attributes\n",
    "16 - emp.var.rate: employment variation rate - quarterly indicator (numeric)\n",
    "17 - cons.price.idx: consumer price index - monthly indicator (numeric)\n",
    "18 - cons.conf.idx: consumer confidence index - monthly indicator (numeric)\n",
    "19 - euribor3m: euribor 3 month rate - daily indicator (numeric)\n",
    "20 - nr.employed: number of employees - quarterly indicator (numeric)\n",
    "\n",
    "Output variable (desired target):\n",
    "21 - y - has the client subscribed a term deposit? (binary: 'yes','no')\n",
    "```\n",
    "\n"
   ]
  },
  {
   "cell_type": "code",
   "execution_count": 1606,
   "metadata": {},
   "outputs": [
    {
     "name": "stdout",
     "output_type": "stream",
     "text": [
      "<class 'pandas.core.frame.DataFrame'>\n",
      "RangeIndex: 41188 entries, 0 to 41187\n",
      "Data columns (total 21 columns):\n",
      " #   Column          Non-Null Count  Dtype  \n",
      "---  ------          --------------  -----  \n",
      " 0   age             41188 non-null  int64  \n",
      " 1   job             41188 non-null  object \n",
      " 2   marital         41188 non-null  object \n",
      " 3   education       41188 non-null  object \n",
      " 4   default         41188 non-null  object \n",
      " 5   housing         41188 non-null  object \n",
      " 6   loan            41188 non-null  object \n",
      " 7   contact         41188 non-null  object \n",
      " 8   month           41188 non-null  object \n",
      " 9   day_of_week     41188 non-null  object \n",
      " 10  duration        41188 non-null  int64  \n",
      " 11  campaign        41188 non-null  int64  \n",
      " 12  pdays           41188 non-null  int64  \n",
      " 13  previous        41188 non-null  int64  \n",
      " 14  poutcome        41188 non-null  object \n",
      " 15  emp.var.rate    41188 non-null  float64\n",
      " 16  cons.price.idx  41188 non-null  float64\n",
      " 17  cons.conf.idx   41188 non-null  float64\n",
      " 18  euribor3m       41188 non-null  float64\n",
      " 19  nr.employed     41188 non-null  float64\n",
      " 20  y               41188 non-null  object \n",
      "dtypes: float64(5), int64(5), object(11)\n",
      "memory usage: 6.6+ MB\n"
     ]
    }
   ],
   "source": [
    "df.info()"
   ]
  },
  {
   "cell_type": "markdown",
   "metadata": {},
   "source": [
    "### using the pandas value_counts() function, I found the following cloumns have unknow or nonexistent values:\n",
    "##### job\n",
    "##### marital\n",
    "##### poutcome\n",
    "##### education\n",
    "##### default\n",
    "##### housing\n",
    "##### loan"
   ]
  },
  {
   "cell_type": "code",
   "execution_count": null,
   "metadata": {},
   "outputs": [],
   "source": []
  },
  {
   "cell_type": "code",
   "execution_count": null,
   "metadata": {},
   "outputs": [],
   "source": []
  },
  {
   "cell_type": "code",
   "execution_count": 1611,
   "metadata": {},
   "outputs": [
    {
     "data": {
      "text/plain": [
       "job\n",
       "admin.           10422\n",
       "blue-collar       9254\n",
       "technician        6743\n",
       "services          3969\n",
       "management        2924\n",
       "retired           1720\n",
       "entrepreneur      1456\n",
       "self-employed     1421\n",
       "housemaid         1060\n",
       "unemployed        1014\n",
       "student            875\n",
       "unknown            330\n",
       "Name: count, dtype: int64"
      ]
     },
     "execution_count": 1611,
     "metadata": {},
     "output_type": "execute_result"
    }
   ],
   "source": [
    "df['job'].value_counts()"
   ]
  },
  {
   "cell_type": "code",
   "execution_count": null,
   "metadata": {},
   "outputs": [],
   "source": []
  },
  {
   "cell_type": "code",
   "execution_count": 1614,
   "metadata": {},
   "outputs": [
    {
     "data": {
      "text/plain": [
       "marital\n",
       "married     24928\n",
       "single      11568\n",
       "divorced     4612\n",
       "unknown        80\n",
       "Name: count, dtype: int64"
      ]
     },
     "execution_count": 1614,
     "metadata": {},
     "output_type": "execute_result"
    }
   ],
   "source": [
    "df['marital'].value_counts()"
   ]
  },
  {
   "cell_type": "code",
   "execution_count": 1616,
   "metadata": {},
   "outputs": [
    {
     "data": {
      "text/plain": [
       "poutcome\n",
       "nonexistent    35563\n",
       "failure         4252\n",
       "success         1373\n",
       "Name: count, dtype: int64"
      ]
     },
     "execution_count": 1616,
     "metadata": {},
     "output_type": "execute_result"
    }
   ],
   "source": [
    "df['poutcome'].value_counts()"
   ]
  },
  {
   "cell_type": "code",
   "execution_count": 1618,
   "metadata": {},
   "outputs": [
    {
     "data": {
      "text/plain": [
       "education\n",
       "university.degree      12168\n",
       "high.school             9515\n",
       "basic.9y                6045\n",
       "professional.course     5243\n",
       "basic.4y                4176\n",
       "basic.6y                2292\n",
       "unknown                 1731\n",
       "illiterate                18\n",
       "Name: count, dtype: int64"
      ]
     },
     "execution_count": 1618,
     "metadata": {},
     "output_type": "execute_result"
    }
   ],
   "source": [
    "df['education'].value_counts()"
   ]
  },
  {
   "cell_type": "code",
   "execution_count": 1620,
   "metadata": {},
   "outputs": [
    {
     "data": {
      "text/plain": [
       "default\n",
       "no         32588\n",
       "unknown     8597\n",
       "yes            3\n",
       "Name: count, dtype: int64"
      ]
     },
     "execution_count": 1620,
     "metadata": {},
     "output_type": "execute_result"
    }
   ],
   "source": [
    "df['default'].value_counts()"
   ]
  },
  {
   "cell_type": "code",
   "execution_count": 1622,
   "metadata": {},
   "outputs": [
    {
     "data": {
      "text/plain": [
       "housing\n",
       "yes        21576\n",
       "no         18622\n",
       "unknown      990\n",
       "Name: count, dtype: int64"
      ]
     },
     "execution_count": 1622,
     "metadata": {},
     "output_type": "execute_result"
    }
   ],
   "source": [
    "df['housing'].value_counts()"
   ]
  },
  {
   "cell_type": "code",
   "execution_count": 1624,
   "metadata": {},
   "outputs": [
    {
     "data": {
      "text/plain": [
       "loan\n",
       "no         33950\n",
       "yes         6248\n",
       "unknown      990\n",
       "Name: count, dtype: int64"
      ]
     },
     "execution_count": 1624,
     "metadata": {},
     "output_type": "execute_result"
    }
   ],
   "source": [
    "df['loan'].value_counts()"
   ]
  },
  {
   "cell_type": "code",
   "execution_count": 1626,
   "metadata": {},
   "outputs": [
    {
     "data": {
      "text/plain": [
       "contact\n",
       "cellular     26144\n",
       "telephone    15044\n",
       "Name: count, dtype: int64"
      ]
     },
     "execution_count": 1626,
     "metadata": {},
     "output_type": "execute_result"
    }
   ],
   "source": [
    "df['contact'].value_counts()"
   ]
  },
  {
   "cell_type": "code",
   "execution_count": 1628,
   "metadata": {},
   "outputs": [
    {
     "data": {
      "text/plain": [
       "month\n",
       "may    13769\n",
       "jul     7174\n",
       "aug     6178\n",
       "jun     5318\n",
       "nov     4101\n",
       "apr     2632\n",
       "oct      718\n",
       "sep      570\n",
       "mar      546\n",
       "dec      182\n",
       "Name: count, dtype: int64"
      ]
     },
     "execution_count": 1628,
     "metadata": {},
     "output_type": "execute_result"
    }
   ],
   "source": [
    "df['month'].value_counts()"
   ]
  },
  {
   "cell_type": "code",
   "execution_count": 1630,
   "metadata": {},
   "outputs": [
    {
     "data": {
      "text/plain": [
       "day_of_week\n",
       "thu    8623\n",
       "mon    8514\n",
       "wed    8134\n",
       "tue    8090\n",
       "fri    7827\n",
       "Name: count, dtype: int64"
      ]
     },
     "execution_count": 1630,
     "metadata": {},
     "output_type": "execute_result"
    }
   ],
   "source": [
    "df['day_of_week'].value_counts()"
   ]
  },
  {
   "cell_type": "code",
   "execution_count": 1632,
   "metadata": {},
   "outputs": [
    {
     "data": {
      "text/plain": [
       "duration\n",
       "90      170\n",
       "85      170\n",
       "136     168\n",
       "73      167\n",
       "124     164\n",
       "       ... \n",
       "1569      1\n",
       "1053      1\n",
       "1263      1\n",
       "1169      1\n",
       "1868      1\n",
       "Name: count, Length: 1544, dtype: int64"
      ]
     },
     "execution_count": 1632,
     "metadata": {},
     "output_type": "execute_result"
    }
   ],
   "source": [
    "df['duration'].value_counts()"
   ]
  },
  {
   "cell_type": "code",
   "execution_count": 1634,
   "metadata": {},
   "outputs": [
    {
     "data": {
      "text/plain": [
       "4918"
      ]
     },
     "execution_count": 1634,
     "metadata": {},
     "output_type": "execute_result"
    }
   ],
   "source": [
    "df['duration'].max()"
   ]
  },
  {
   "cell_type": "code",
   "execution_count": 1636,
   "metadata": {},
   "outputs": [
    {
     "data": {
      "text/plain": [
       "0"
      ]
     },
     "execution_count": 1636,
     "metadata": {},
     "output_type": "execute_result"
    }
   ],
   "source": [
    "df['duration'].min()"
   ]
  },
  {
   "cell_type": "code",
   "execution_count": 1638,
   "metadata": {},
   "outputs": [
    {
     "data": {
      "text/plain": [
       "campaign\n",
       "1     17642\n",
       "2     10570\n",
       "3      5341\n",
       "4      2651\n",
       "5      1599\n",
       "6       979\n",
       "7       629\n",
       "8       400\n",
       "9       283\n",
       "10      225\n",
       "11      177\n",
       "12      125\n",
       "13       92\n",
       "14       69\n",
       "17       58\n",
       "16       51\n",
       "15       51\n",
       "18       33\n",
       "20       30\n",
       "19       26\n",
       "21       24\n",
       "22       17\n",
       "23       16\n",
       "24       15\n",
       "27       11\n",
       "29       10\n",
       "28        8\n",
       "26        8\n",
       "25        8\n",
       "31        7\n",
       "30        7\n",
       "35        5\n",
       "32        4\n",
       "33        4\n",
       "34        3\n",
       "42        2\n",
       "40        2\n",
       "43        2\n",
       "56        1\n",
       "39        1\n",
       "41        1\n",
       "37        1\n",
       "Name: count, dtype: int64"
      ]
     },
     "execution_count": 1638,
     "metadata": {},
     "output_type": "execute_result"
    }
   ],
   "source": [
    "df['campaign'].value_counts()"
   ]
  },
  {
   "cell_type": "code",
   "execution_count": 1640,
   "metadata": {},
   "outputs": [
    {
     "data": {
      "text/plain": [
       "pdays\n",
       "999    39673\n",
       "3        439\n",
       "6        412\n",
       "4        118\n",
       "9         64\n",
       "2         61\n",
       "7         60\n",
       "12        58\n",
       "10        52\n",
       "5         46\n",
       "13        36\n",
       "11        28\n",
       "1         26\n",
       "15        24\n",
       "14        20\n",
       "8         18\n",
       "0         15\n",
       "16        11\n",
       "17         8\n",
       "18         7\n",
       "22         3\n",
       "19         3\n",
       "21         2\n",
       "25         1\n",
       "26         1\n",
       "27         1\n",
       "20         1\n",
       "Name: count, dtype: int64"
      ]
     },
     "execution_count": 1640,
     "metadata": {},
     "output_type": "execute_result"
    }
   ],
   "source": [
    "df['pdays'].value_counts()"
   ]
  },
  {
   "cell_type": "code",
   "execution_count": 1642,
   "metadata": {},
   "outputs": [
    {
     "data": {
      "text/plain": [
       "previous\n",
       "0    35563\n",
       "1     4561\n",
       "2      754\n",
       "3      216\n",
       "4       70\n",
       "5       18\n",
       "6        5\n",
       "7        1\n",
       "Name: count, dtype: int64"
      ]
     },
     "execution_count": 1642,
     "metadata": {},
     "output_type": "execute_result"
    }
   ],
   "source": [
    "df['previous'].value_counts()"
   ]
  },
  {
   "cell_type": "code",
   "execution_count": 1644,
   "metadata": {},
   "outputs": [
    {
     "data": {
      "text/plain": [
       "poutcome\n",
       "nonexistent    35563\n",
       "failure         4252\n",
       "success         1373\n",
       "Name: count, dtype: int64"
      ]
     },
     "execution_count": 1644,
     "metadata": {},
     "output_type": "execute_result"
    }
   ],
   "source": [
    "df['poutcome'].value_counts()"
   ]
  },
  {
   "cell_type": "code",
   "execution_count": 1646,
   "metadata": {},
   "outputs": [
    {
     "data": {
      "text/plain": [
       "job\n",
       "admin.           10422\n",
       "blue-collar       9254\n",
       "technician        6743\n",
       "services          3969\n",
       "management        2924\n",
       "retired           1720\n",
       "entrepreneur      1456\n",
       "self-employed     1421\n",
       "housemaid         1060\n",
       "unemployed        1014\n",
       "student            875\n",
       "unknown            330\n",
       "Name: count, dtype: int64"
      ]
     },
     "execution_count": 1646,
     "metadata": {},
     "output_type": "execute_result"
    }
   ],
   "source": [
    "df['job'].value_counts()"
   ]
  },
  {
   "cell_type": "code",
   "execution_count": 1648,
   "metadata": {},
   "outputs": [
    {
     "data": {
      "text/plain": [
       "job\n",
       "admin.           10422\n",
       "blue-collar       9254\n",
       "technician        6743\n",
       "services          3969\n",
       "management        2924\n",
       "retired           1720\n",
       "entrepreneur      1456\n",
       "self-employed     1421\n",
       "housemaid         1060\n",
       "unemployed        1014\n",
       "student            875\n",
       "unknown            330\n",
       "Name: count, dtype: int64"
      ]
     },
     "execution_count": 1648,
     "metadata": {},
     "output_type": "execute_result"
    }
   ],
   "source": [
    "df['job'].value_counts()"
   ]
  },
  {
   "cell_type": "code",
   "execution_count": 1650,
   "metadata": {},
   "outputs": [
    {
     "data": {
      "text/plain": [
       "job\n",
       "admin.           10422\n",
       "blue-collar       9254\n",
       "technician        6743\n",
       "services          3969\n",
       "management        2924\n",
       "retired           1720\n",
       "entrepreneur      1456\n",
       "self-employed     1421\n",
       "housemaid         1060\n",
       "unemployed        1014\n",
       "student            875\n",
       "unknown            330\n",
       "Name: count, dtype: int64"
      ]
     },
     "execution_count": 1650,
     "metadata": {},
     "output_type": "execute_result"
    }
   ],
   "source": [
    "df['job'].value_counts()"
   ]
  },
  {
   "cell_type": "code",
   "execution_count": 1652,
   "metadata": {},
   "outputs": [
    {
     "data": {
      "text/plain": [
       "job\n",
       "admin.           10422\n",
       "blue-collar       9254\n",
       "technician        6743\n",
       "services          3969\n",
       "management        2924\n",
       "retired           1720\n",
       "entrepreneur      1456\n",
       "self-employed     1421\n",
       "housemaid         1060\n",
       "unemployed        1014\n",
       "student            875\n",
       "unknown            330\n",
       "Name: count, dtype: int64"
      ]
     },
     "execution_count": 1652,
     "metadata": {},
     "output_type": "execute_result"
    }
   ],
   "source": [
    "df['job'].value_counts()"
   ]
  },
  {
   "cell_type": "code",
   "execution_count": 1654,
   "metadata": {},
   "outputs": [
    {
     "data": {
      "text/plain": [
       "job\n",
       "admin.           10422\n",
       "blue-collar       9254\n",
       "technician        6743\n",
       "services          3969\n",
       "management        2924\n",
       "retired           1720\n",
       "entrepreneur      1456\n",
       "self-employed     1421\n",
       "housemaid         1060\n",
       "unemployed        1014\n",
       "student            875\n",
       "unknown            330\n",
       "Name: count, dtype: int64"
      ]
     },
     "execution_count": 1654,
     "metadata": {},
     "output_type": "execute_result"
    }
   ],
   "source": [
    "df['job'].value_counts()"
   ]
  },
  {
   "cell_type": "code",
   "execution_count": 1656,
   "metadata": {},
   "outputs": [
    {
     "data": {
      "text/plain": [
       "job\n",
       "admin.           10422\n",
       "blue-collar       9254\n",
       "technician        6743\n",
       "services          3969\n",
       "management        2924\n",
       "retired           1720\n",
       "entrepreneur      1456\n",
       "self-employed     1421\n",
       "housemaid         1060\n",
       "unemployed        1014\n",
       "student            875\n",
       "unknown            330\n",
       "Name: count, dtype: int64"
      ]
     },
     "execution_count": 1656,
     "metadata": {},
     "output_type": "execute_result"
    }
   ],
   "source": [
    "df['job'].value_counts()"
   ]
  },
  {
   "cell_type": "code",
   "execution_count": 1658,
   "metadata": {},
   "outputs": [
    {
     "data": {
      "text/plain": [
       "job\n",
       "admin.           10422\n",
       "blue-collar       9254\n",
       "technician        6743\n",
       "services          3969\n",
       "management        2924\n",
       "retired           1720\n",
       "entrepreneur      1456\n",
       "self-employed     1421\n",
       "housemaid         1060\n",
       "unemployed        1014\n",
       "student            875\n",
       "unknown            330\n",
       "Name: count, dtype: int64"
      ]
     },
     "execution_count": 1658,
     "metadata": {},
     "output_type": "execute_result"
    }
   ],
   "source": [
    "df['job'].value_counts()"
   ]
  },
  {
   "cell_type": "code",
   "execution_count": null,
   "metadata": {},
   "outputs": [],
   "source": []
  },
  {
   "cell_type": "code",
   "execution_count": null,
   "metadata": {},
   "outputs": [],
   "source": []
  },
  {
   "cell_type": "markdown",
   "metadata": {},
   "source": [
    "## Problem 4: Understanding the Task\n",
    "\n",
    "After examining the description and data, your goal now is to clearly state the *Business Objective* of the task.  State the objective below."
   ]
  },
  {
   "cell_type": "markdown",
   "metadata": {},
   "source": [
    "The business objective is to come up with a machine learning model that has a good performance in predicting the campaign results. The exact criteria of model performance will come from a balance of accuracy, recall, specificity...etc by examining the confusion matrix of the model."
   ]
  },
  {
   "cell_type": "code",
   "execution_count": null,
   "metadata": {},
   "outputs": [],
   "source": []
  },
  {
   "cell_type": "code",
   "execution_count": 1665,
   "metadata": {},
   "outputs": [
    {
     "name": "stdout",
     "output_type": "stream",
     "text": [
      "<class 'pandas.core.frame.DataFrame'>\n",
      "RangeIndex: 41188 entries, 0 to 41187\n",
      "Data columns (total 21 columns):\n",
      " #   Column          Non-Null Count  Dtype  \n",
      "---  ------          --------------  -----  \n",
      " 0   age             41188 non-null  int64  \n",
      " 1   job             41188 non-null  object \n",
      " 2   marital         41188 non-null  object \n",
      " 3   education       41188 non-null  object \n",
      " 4   default         41188 non-null  object \n",
      " 5   housing         41188 non-null  object \n",
      " 6   loan            41188 non-null  object \n",
      " 7   contact         41188 non-null  object \n",
      " 8   month           41188 non-null  object \n",
      " 9   day_of_week     41188 non-null  object \n",
      " 10  duration        41188 non-null  int64  \n",
      " 11  campaign        41188 non-null  int64  \n",
      " 12  pdays           41188 non-null  int64  \n",
      " 13  previous        41188 non-null  int64  \n",
      " 14  poutcome        41188 non-null  object \n",
      " 15  emp.var.rate    41188 non-null  float64\n",
      " 16  cons.price.idx  41188 non-null  float64\n",
      " 17  cons.conf.idx   41188 non-null  float64\n",
      " 18  euribor3m       41188 non-null  float64\n",
      " 19  nr.employed     41188 non-null  float64\n",
      " 20  y               41188 non-null  object \n",
      "dtypes: float64(5), int64(5), object(11)\n",
      "memory usage: 6.6+ MB\n"
     ]
    }
   ],
   "source": [
    "df.info()"
   ]
  },
  {
   "cell_type": "code",
   "execution_count": null,
   "metadata": {},
   "outputs": [],
   "source": []
  },
  {
   "cell_type": "code",
   "execution_count": null,
   "metadata": {},
   "outputs": [],
   "source": []
  },
  {
   "cell_type": "markdown",
   "metadata": {},
   "source": [
    "## Problem 5: Engineering Features\n",
    "\n",
    "Now that you understand your business objective, we will build a basic model to get started.  Before we can do this, we must work to encode the data.  Using just the bank information features, prepare the features and target column for modeling with appropriate encoding and transformations."
   ]
  },
  {
   "cell_type": "markdown",
   "metadata": {},
   "source": [
    "### save the original Dataframe"
   ]
  },
  {
   "cell_type": "code",
   "execution_count": 1671,
   "metadata": {},
   "outputs": [],
   "source": [
    "df0 = df.copy()"
   ]
  },
  {
   "cell_type": "markdown",
   "metadata": {},
   "source": [
    "#### Remove non-bank features ####\n",
    "I will remove columns the following columns: emp.var.rate\tcons.price.idx\tcons.conf.idx\teuribor3m\tnr.employed\t"
   ]
  },
  {
   "cell_type": "markdown",
   "metadata": {},
   "source": [
    "Then Scale the numerical features"
   ]
  },
  {
   "cell_type": "code",
   "execution_count": null,
   "metadata": {},
   "outputs": [],
   "source": []
  },
  {
   "cell_type": "code",
   "execution_count": 1676,
   "metadata": {},
   "outputs": [
    {
     "data": {
      "text/html": [
       "<div>\n",
       "<style scoped>\n",
       "    .dataframe tbody tr th:only-of-type {\n",
       "        vertical-align: middle;\n",
       "    }\n",
       "\n",
       "    .dataframe tbody tr th {\n",
       "        vertical-align: top;\n",
       "    }\n",
       "\n",
       "    .dataframe thead th {\n",
       "        text-align: right;\n",
       "    }\n",
       "</style>\n",
       "<table border=\"1\" class=\"dataframe\">\n",
       "  <thead>\n",
       "    <tr style=\"text-align: right;\">\n",
       "      <th></th>\n",
       "      <th>age</th>\n",
       "      <th>job</th>\n",
       "      <th>marital</th>\n",
       "      <th>education</th>\n",
       "      <th>default</th>\n",
       "      <th>housing</th>\n",
       "      <th>loan</th>\n",
       "      <th>contact</th>\n",
       "      <th>month</th>\n",
       "      <th>day_of_week</th>\n",
       "      <th>duration</th>\n",
       "      <th>campaign</th>\n",
       "      <th>pdays</th>\n",
       "      <th>previous</th>\n",
       "      <th>poutcome</th>\n",
       "      <th>y</th>\n",
       "    </tr>\n",
       "  </thead>\n",
       "  <tbody>\n",
       "    <tr>\n",
       "      <th>0</th>\n",
       "      <td>1.533034</td>\n",
       "      <td>housemaid</td>\n",
       "      <td>married</td>\n",
       "      <td>basic.4y</td>\n",
       "      <td>no</td>\n",
       "      <td>no</td>\n",
       "      <td>no</td>\n",
       "      <td>telephone</td>\n",
       "      <td>may</td>\n",
       "      <td>mon</td>\n",
       "      <td>0.010471</td>\n",
       "      <td>-0.565922</td>\n",
       "      <td>0.195414</td>\n",
       "      <td>-0.349494</td>\n",
       "      <td>nonexistent</td>\n",
       "      <td>no</td>\n",
       "    </tr>\n",
       "    <tr>\n",
       "      <th>1</th>\n",
       "      <td>1.628993</td>\n",
       "      <td>services</td>\n",
       "      <td>married</td>\n",
       "      <td>high.school</td>\n",
       "      <td>unknown</td>\n",
       "      <td>no</td>\n",
       "      <td>no</td>\n",
       "      <td>telephone</td>\n",
       "      <td>may</td>\n",
       "      <td>mon</td>\n",
       "      <td>-0.421501</td>\n",
       "      <td>-0.565922</td>\n",
       "      <td>0.195414</td>\n",
       "      <td>-0.349494</td>\n",
       "      <td>nonexistent</td>\n",
       "      <td>no</td>\n",
       "    </tr>\n",
       "    <tr>\n",
       "      <th>2</th>\n",
       "      <td>-0.290186</td>\n",
       "      <td>services</td>\n",
       "      <td>married</td>\n",
       "      <td>high.school</td>\n",
       "      <td>no</td>\n",
       "      <td>yes</td>\n",
       "      <td>no</td>\n",
       "      <td>telephone</td>\n",
       "      <td>may</td>\n",
       "      <td>mon</td>\n",
       "      <td>-0.124520</td>\n",
       "      <td>-0.565922</td>\n",
       "      <td>0.195414</td>\n",
       "      <td>-0.349494</td>\n",
       "      <td>nonexistent</td>\n",
       "      <td>no</td>\n",
       "    </tr>\n",
       "    <tr>\n",
       "      <th>3</th>\n",
       "      <td>-0.002309</td>\n",
       "      <td>admin.</td>\n",
       "      <td>married</td>\n",
       "      <td>basic.6y</td>\n",
       "      <td>no</td>\n",
       "      <td>no</td>\n",
       "      <td>no</td>\n",
       "      <td>telephone</td>\n",
       "      <td>may</td>\n",
       "      <td>mon</td>\n",
       "      <td>-0.413787</td>\n",
       "      <td>-0.565922</td>\n",
       "      <td>0.195414</td>\n",
       "      <td>-0.349494</td>\n",
       "      <td>nonexistent</td>\n",
       "      <td>no</td>\n",
       "    </tr>\n",
       "    <tr>\n",
       "      <th>4</th>\n",
       "      <td>1.533034</td>\n",
       "      <td>services</td>\n",
       "      <td>married</td>\n",
       "      <td>high.school</td>\n",
       "      <td>no</td>\n",
       "      <td>no</td>\n",
       "      <td>yes</td>\n",
       "      <td>telephone</td>\n",
       "      <td>may</td>\n",
       "      <td>mon</td>\n",
       "      <td>0.187888</td>\n",
       "      <td>-0.565922</td>\n",
       "      <td>0.195414</td>\n",
       "      <td>-0.349494</td>\n",
       "      <td>nonexistent</td>\n",
       "      <td>no</td>\n",
       "    </tr>\n",
       "    <tr>\n",
       "      <th>...</th>\n",
       "      <td>...</td>\n",
       "      <td>...</td>\n",
       "      <td>...</td>\n",
       "      <td>...</td>\n",
       "      <td>...</td>\n",
       "      <td>...</td>\n",
       "      <td>...</td>\n",
       "      <td>...</td>\n",
       "      <td>...</td>\n",
       "      <td>...</td>\n",
       "      <td>...</td>\n",
       "      <td>...</td>\n",
       "      <td>...</td>\n",
       "      <td>...</td>\n",
       "      <td>...</td>\n",
       "      <td>...</td>\n",
       "    </tr>\n",
       "    <tr>\n",
       "      <th>41183</th>\n",
       "      <td>3.164336</td>\n",
       "      <td>retired</td>\n",
       "      <td>married</td>\n",
       "      <td>professional.course</td>\n",
       "      <td>no</td>\n",
       "      <td>yes</td>\n",
       "      <td>no</td>\n",
       "      <td>cellular</td>\n",
       "      <td>nov</td>\n",
       "      <td>fri</td>\n",
       "      <td>0.292025</td>\n",
       "      <td>-0.565922</td>\n",
       "      <td>0.195414</td>\n",
       "      <td>-0.349494</td>\n",
       "      <td>nonexistent</td>\n",
       "      <td>yes</td>\n",
       "    </tr>\n",
       "    <tr>\n",
       "      <th>41184</th>\n",
       "      <td>0.573445</td>\n",
       "      <td>blue-collar</td>\n",
       "      <td>married</td>\n",
       "      <td>professional.course</td>\n",
       "      <td>no</td>\n",
       "      <td>no</td>\n",
       "      <td>no</td>\n",
       "      <td>cellular</td>\n",
       "      <td>nov</td>\n",
       "      <td>fri</td>\n",
       "      <td>0.481012</td>\n",
       "      <td>-0.565922</td>\n",
       "      <td>0.195414</td>\n",
       "      <td>-0.349494</td>\n",
       "      <td>nonexistent</td>\n",
       "      <td>no</td>\n",
       "    </tr>\n",
       "    <tr>\n",
       "      <th>41185</th>\n",
       "      <td>1.533034</td>\n",
       "      <td>retired</td>\n",
       "      <td>married</td>\n",
       "      <td>university.degree</td>\n",
       "      <td>no</td>\n",
       "      <td>yes</td>\n",
       "      <td>no</td>\n",
       "      <td>cellular</td>\n",
       "      <td>nov</td>\n",
       "      <td>fri</td>\n",
       "      <td>-0.267225</td>\n",
       "      <td>-0.204909</td>\n",
       "      <td>0.195414</td>\n",
       "      <td>-0.349494</td>\n",
       "      <td>nonexistent</td>\n",
       "      <td>no</td>\n",
       "    </tr>\n",
       "    <tr>\n",
       "      <th>41186</th>\n",
       "      <td>0.381527</td>\n",
       "      <td>technician</td>\n",
       "      <td>married</td>\n",
       "      <td>professional.course</td>\n",
       "      <td>no</td>\n",
       "      <td>no</td>\n",
       "      <td>no</td>\n",
       "      <td>cellular</td>\n",
       "      <td>nov</td>\n",
       "      <td>fri</td>\n",
       "      <td>0.708569</td>\n",
       "      <td>-0.565922</td>\n",
       "      <td>0.195414</td>\n",
       "      <td>-0.349494</td>\n",
       "      <td>nonexistent</td>\n",
       "      <td>yes</td>\n",
       "    </tr>\n",
       "    <tr>\n",
       "      <th>41187</th>\n",
       "      <td>3.260295</td>\n",
       "      <td>retired</td>\n",
       "      <td>married</td>\n",
       "      <td>professional.course</td>\n",
       "      <td>no</td>\n",
       "      <td>yes</td>\n",
       "      <td>no</td>\n",
       "      <td>cellular</td>\n",
       "      <td>nov</td>\n",
       "      <td>fri</td>\n",
       "      <td>-0.074380</td>\n",
       "      <td>0.156105</td>\n",
       "      <td>0.195414</td>\n",
       "      <td>1.671136</td>\n",
       "      <td>failure</td>\n",
       "      <td>no</td>\n",
       "    </tr>\n",
       "  </tbody>\n",
       "</table>\n",
       "<p>41188 rows × 16 columns</p>\n",
       "</div>"
      ],
      "text/plain": [
       "            age          job  marital            education  default housing  \\\n",
       "0      1.533034    housemaid  married             basic.4y       no      no   \n",
       "1      1.628993     services  married          high.school  unknown      no   \n",
       "2     -0.290186     services  married          high.school       no     yes   \n",
       "3     -0.002309       admin.  married             basic.6y       no      no   \n",
       "4      1.533034     services  married          high.school       no      no   \n",
       "...         ...          ...      ...                  ...      ...     ...   \n",
       "41183  3.164336      retired  married  professional.course       no     yes   \n",
       "41184  0.573445  blue-collar  married  professional.course       no      no   \n",
       "41185  1.533034      retired  married    university.degree       no     yes   \n",
       "41186  0.381527   technician  married  professional.course       no      no   \n",
       "41187  3.260295      retired  married  professional.course       no     yes   \n",
       "\n",
       "      loan    contact month day_of_week  duration  campaign     pdays  \\\n",
       "0       no  telephone   may         mon  0.010471 -0.565922  0.195414   \n",
       "1       no  telephone   may         mon -0.421501 -0.565922  0.195414   \n",
       "2       no  telephone   may         mon -0.124520 -0.565922  0.195414   \n",
       "3       no  telephone   may         mon -0.413787 -0.565922  0.195414   \n",
       "4      yes  telephone   may         mon  0.187888 -0.565922  0.195414   \n",
       "...    ...        ...   ...         ...       ...       ...       ...   \n",
       "41183   no   cellular   nov         fri  0.292025 -0.565922  0.195414   \n",
       "41184   no   cellular   nov         fri  0.481012 -0.565922  0.195414   \n",
       "41185   no   cellular   nov         fri -0.267225 -0.204909  0.195414   \n",
       "41186   no   cellular   nov         fri  0.708569 -0.565922  0.195414   \n",
       "41187   no   cellular   nov         fri -0.074380  0.156105  0.195414   \n",
       "\n",
       "       previous     poutcome    y  \n",
       "0     -0.349494  nonexistent   no  \n",
       "1     -0.349494  nonexistent   no  \n",
       "2     -0.349494  nonexistent   no  \n",
       "3     -0.349494  nonexistent   no  \n",
       "4     -0.349494  nonexistent   no  \n",
       "...         ...          ...  ...  \n",
       "41183 -0.349494  nonexistent  yes  \n",
       "41184 -0.349494  nonexistent   no  \n",
       "41185 -0.349494  nonexistent   no  \n",
       "41186 -0.349494  nonexistent  yes  \n",
       "41187  1.671136      failure   no  \n",
       "\n",
       "[41188 rows x 16 columns]"
      ]
     },
     "execution_count": 1676,
     "metadata": {},
     "output_type": "execute_result"
    }
   ],
   "source": [
    "df0 = df0.drop(columns = ['emp.var.rate', 'cons.price.idx', 'cons.conf.idx',\t'euribor3m', 'nr.employed'])\n",
    "df0[['age', 'duration', 'campaign', 'pdays', 'previous']] = StandardScaler().fit_transform(df0[['age', 'duration', 'campaign', 'pdays', 'previous']])\n",
    "df0"
   ]
  },
  {
   "cell_type": "code",
   "execution_count": null,
   "metadata": {},
   "outputs": [],
   "source": []
  },
  {
   "cell_type": "code",
   "execution_count": 1679,
   "metadata": {},
   "outputs": [
    {
     "name": "stdout",
     "output_type": "stream",
     "text": [
      "<class 'pandas.core.frame.DataFrame'>\n",
      "RangeIndex: 41188 entries, 0 to 41187\n",
      "Data columns (total 16 columns):\n",
      " #   Column       Non-Null Count  Dtype  \n",
      "---  ------       --------------  -----  \n",
      " 0   age          41188 non-null  float64\n",
      " 1   job          41188 non-null  object \n",
      " 2   marital      41188 non-null  object \n",
      " 3   education    41188 non-null  object \n",
      " 4   default      41188 non-null  object \n",
      " 5   housing      41188 non-null  object \n",
      " 6   loan         41188 non-null  object \n",
      " 7   contact      41188 non-null  object \n",
      " 8   month        41188 non-null  object \n",
      " 9   day_of_week  41188 non-null  object \n",
      " 10  duration     41188 non-null  float64\n",
      " 11  campaign     41188 non-null  float64\n",
      " 12  pdays        41188 non-null  float64\n",
      " 13  previous     41188 non-null  float64\n",
      " 14  poutcome     41188 non-null  object \n",
      " 15  y            41188 non-null  object \n",
      "dtypes: float64(5), object(11)\n",
      "memory usage: 5.0+ MB\n"
     ]
    }
   ],
   "source": [
    "df0.info()"
   ]
  },
  {
   "cell_type": "code",
   "execution_count": null,
   "metadata": {},
   "outputs": [],
   "source": []
  },
  {
   "cell_type": "markdown",
   "metadata": {},
   "source": [
    "#### define a function to remove entries with unknown values"
   ]
  },
  {
   "cell_type": "code",
   "execution_count": 1683,
   "metadata": {},
   "outputs": [],
   "source": [
    "def removeUnknown(df):\n",
    "    return df[(df.job != 'unknown') & (df.marital != 'unknown') & (df.poutcome != 'nonexistent') & (df.education != 'unknown') & (df.default != 'unknown') & (df.housing != 'unknown') & (df.loan != 'unknown')]"
   ]
  },
  {
   "cell_type": "code",
   "execution_count": 1685,
   "metadata": {},
   "outputs": [],
   "source": [
    "df1 = removeUnknown(df0)"
   ]
  },
  {
   "cell_type": "code",
   "execution_count": 1687,
   "metadata": {},
   "outputs": [
    {
     "data": {
      "text/html": [
       "<div>\n",
       "<style scoped>\n",
       "    .dataframe tbody tr th:only-of-type {\n",
       "        vertical-align: middle;\n",
       "    }\n",
       "\n",
       "    .dataframe tbody tr th {\n",
       "        vertical-align: top;\n",
       "    }\n",
       "\n",
       "    .dataframe thead th {\n",
       "        text-align: right;\n",
       "    }\n",
       "</style>\n",
       "<table border=\"1\" class=\"dataframe\">\n",
       "  <thead>\n",
       "    <tr style=\"text-align: right;\">\n",
       "      <th></th>\n",
       "      <th>age</th>\n",
       "      <th>job</th>\n",
       "      <th>marital</th>\n",
       "      <th>education</th>\n",
       "      <th>default</th>\n",
       "      <th>housing</th>\n",
       "      <th>loan</th>\n",
       "      <th>contact</th>\n",
       "      <th>month</th>\n",
       "      <th>day_of_week</th>\n",
       "      <th>duration</th>\n",
       "      <th>campaign</th>\n",
       "      <th>pdays</th>\n",
       "      <th>previous</th>\n",
       "      <th>poutcome</th>\n",
       "      <th>y</th>\n",
       "    </tr>\n",
       "  </thead>\n",
       "  <tbody>\n",
       "    <tr>\n",
       "      <th>24019</th>\n",
       "      <td>-0.002309</td>\n",
       "      <td>services</td>\n",
       "      <td>married</td>\n",
       "      <td>high.school</td>\n",
       "      <td>no</td>\n",
       "      <td>yes</td>\n",
       "      <td>no</td>\n",
       "      <td>telephone</td>\n",
       "      <td>oct</td>\n",
       "      <td>tue</td>\n",
       "      <td>-0.440785</td>\n",
       "      <td>-0.565922</td>\n",
       "      <td>0.195414</td>\n",
       "      <td>1.671136</td>\n",
       "      <td>failure</td>\n",
       "      <td>yes</td>\n",
       "    </tr>\n",
       "    <tr>\n",
       "      <th>24076</th>\n",
       "      <td>-0.386145</td>\n",
       "      <td>admin.</td>\n",
       "      <td>married</td>\n",
       "      <td>university.degree</td>\n",
       "      <td>no</td>\n",
       "      <td>yes</td>\n",
       "      <td>no</td>\n",
       "      <td>telephone</td>\n",
       "      <td>nov</td>\n",
       "      <td>wed</td>\n",
       "      <td>0.735567</td>\n",
       "      <td>-0.565922</td>\n",
       "      <td>0.195414</td>\n",
       "      <td>1.671136</td>\n",
       "      <td>failure</td>\n",
       "      <td>no</td>\n",
       "    </tr>\n",
       "    <tr>\n",
       "      <th>24102</th>\n",
       "      <td>-0.386145</td>\n",
       "      <td>admin.</td>\n",
       "      <td>married</td>\n",
       "      <td>high.school</td>\n",
       "      <td>no</td>\n",
       "      <td>yes</td>\n",
       "      <td>no</td>\n",
       "      <td>telephone</td>\n",
       "      <td>nov</td>\n",
       "      <td>wed</td>\n",
       "      <td>-0.556492</td>\n",
       "      <td>-0.565922</td>\n",
       "      <td>0.195414</td>\n",
       "      <td>1.671136</td>\n",
       "      <td>failure</td>\n",
       "      <td>yes</td>\n",
       "    </tr>\n",
       "    <tr>\n",
       "      <th>24108</th>\n",
       "      <td>-0.290186</td>\n",
       "      <td>admin.</td>\n",
       "      <td>married</td>\n",
       "      <td>university.degree</td>\n",
       "      <td>no</td>\n",
       "      <td>yes</td>\n",
       "      <td>no</td>\n",
       "      <td>telephone</td>\n",
       "      <td>nov</td>\n",
       "      <td>wed</td>\n",
       "      <td>-0.537207</td>\n",
       "      <td>-0.565922</td>\n",
       "      <td>-5.117342</td>\n",
       "      <td>1.671136</td>\n",
       "      <td>success</td>\n",
       "      <td>no</td>\n",
       "    </tr>\n",
       "    <tr>\n",
       "      <th>24113</th>\n",
       "      <td>-1.057857</td>\n",
       "      <td>self-employed</td>\n",
       "      <td>married</td>\n",
       "      <td>university.degree</td>\n",
       "      <td>no</td>\n",
       "      <td>yes</td>\n",
       "      <td>no</td>\n",
       "      <td>telephone</td>\n",
       "      <td>nov</td>\n",
       "      <td>thu</td>\n",
       "      <td>-0.664485</td>\n",
       "      <td>-0.565922</td>\n",
       "      <td>0.195414</td>\n",
       "      <td>1.671136</td>\n",
       "      <td>failure</td>\n",
       "      <td>no</td>\n",
       "    </tr>\n",
       "    <tr>\n",
       "      <th>...</th>\n",
       "      <td>...</td>\n",
       "      <td>...</td>\n",
       "      <td>...</td>\n",
       "      <td>...</td>\n",
       "      <td>...</td>\n",
       "      <td>...</td>\n",
       "      <td>...</td>\n",
       "      <td>...</td>\n",
       "      <td>...</td>\n",
       "      <td>...</td>\n",
       "      <td>...</td>\n",
       "      <td>...</td>\n",
       "      <td>...</td>\n",
       "      <td>...</td>\n",
       "      <td>...</td>\n",
       "      <td>...</td>\n",
       "    </tr>\n",
       "    <tr>\n",
       "      <th>41173</th>\n",
       "      <td>2.108788</td>\n",
       "      <td>retired</td>\n",
       "      <td>married</td>\n",
       "      <td>university.degree</td>\n",
       "      <td>no</td>\n",
       "      <td>yes</td>\n",
       "      <td>no</td>\n",
       "      <td>cellular</td>\n",
       "      <td>nov</td>\n",
       "      <td>thu</td>\n",
       "      <td>0.272740</td>\n",
       "      <td>-0.565922</td>\n",
       "      <td>0.195414</td>\n",
       "      <td>3.691766</td>\n",
       "      <td>failure</td>\n",
       "      <td>yes</td>\n",
       "    </tr>\n",
       "    <tr>\n",
       "      <th>41174</th>\n",
       "      <td>2.108788</td>\n",
       "      <td>retired</td>\n",
       "      <td>married</td>\n",
       "      <td>university.degree</td>\n",
       "      <td>no</td>\n",
       "      <td>yes</td>\n",
       "      <td>no</td>\n",
       "      <td>cellular</td>\n",
       "      <td>nov</td>\n",
       "      <td>thu</td>\n",
       "      <td>-0.193944</td>\n",
       "      <td>-0.565922</td>\n",
       "      <td>-5.144093</td>\n",
       "      <td>11.774288</td>\n",
       "      <td>success</td>\n",
       "      <td>yes</td>\n",
       "    </tr>\n",
       "    <tr>\n",
       "      <th>41178</th>\n",
       "      <td>2.108788</td>\n",
       "      <td>retired</td>\n",
       "      <td>married</td>\n",
       "      <td>university.degree</td>\n",
       "      <td>no</td>\n",
       "      <td>no</td>\n",
       "      <td>no</td>\n",
       "      <td>cellular</td>\n",
       "      <td>nov</td>\n",
       "      <td>thu</td>\n",
       "      <td>0.866702</td>\n",
       "      <td>-0.204909</td>\n",
       "      <td>-5.117342</td>\n",
       "      <td>5.712397</td>\n",
       "      <td>success</td>\n",
       "      <td>yes</td>\n",
       "    </tr>\n",
       "    <tr>\n",
       "      <th>41182</th>\n",
       "      <td>-1.057857</td>\n",
       "      <td>unemployed</td>\n",
       "      <td>single</td>\n",
       "      <td>basic.4y</td>\n",
       "      <td>no</td>\n",
       "      <td>yes</td>\n",
       "      <td>no</td>\n",
       "      <td>cellular</td>\n",
       "      <td>nov</td>\n",
       "      <td>fri</td>\n",
       "      <td>-0.564206</td>\n",
       "      <td>-0.565922</td>\n",
       "      <td>-5.101292</td>\n",
       "      <td>1.671136</td>\n",
       "      <td>success</td>\n",
       "      <td>no</td>\n",
       "    </tr>\n",
       "    <tr>\n",
       "      <th>41187</th>\n",
       "      <td>3.260295</td>\n",
       "      <td>retired</td>\n",
       "      <td>married</td>\n",
       "      <td>professional.course</td>\n",
       "      <td>no</td>\n",
       "      <td>yes</td>\n",
       "      <td>no</td>\n",
       "      <td>cellular</td>\n",
       "      <td>nov</td>\n",
       "      <td>fri</td>\n",
       "      <td>-0.074380</td>\n",
       "      <td>0.156105</td>\n",
       "      <td>0.195414</td>\n",
       "      <td>1.671136</td>\n",
       "      <td>failure</td>\n",
       "      <td>no</td>\n",
       "    </tr>\n",
       "  </tbody>\n",
       "</table>\n",
       "<p>4652 rows × 16 columns</p>\n",
       "</div>"
      ],
      "text/plain": [
       "            age            job  marital            education default housing  \\\n",
       "24019 -0.002309       services  married          high.school      no     yes   \n",
       "24076 -0.386145         admin.  married    university.degree      no     yes   \n",
       "24102 -0.386145         admin.  married          high.school      no     yes   \n",
       "24108 -0.290186         admin.  married    university.degree      no     yes   \n",
       "24113 -1.057857  self-employed  married    university.degree      no     yes   \n",
       "...         ...            ...      ...                  ...     ...     ...   \n",
       "41173  2.108788        retired  married    university.degree      no     yes   \n",
       "41174  2.108788        retired  married    university.degree      no     yes   \n",
       "41178  2.108788        retired  married    university.degree      no      no   \n",
       "41182 -1.057857     unemployed   single             basic.4y      no     yes   \n",
       "41187  3.260295        retired  married  professional.course      no     yes   \n",
       "\n",
       "      loan    contact month day_of_week  duration  campaign     pdays  \\\n",
       "24019   no  telephone   oct         tue -0.440785 -0.565922  0.195414   \n",
       "24076   no  telephone   nov         wed  0.735567 -0.565922  0.195414   \n",
       "24102   no  telephone   nov         wed -0.556492 -0.565922  0.195414   \n",
       "24108   no  telephone   nov         wed -0.537207 -0.565922 -5.117342   \n",
       "24113   no  telephone   nov         thu -0.664485 -0.565922  0.195414   \n",
       "...    ...        ...   ...         ...       ...       ...       ...   \n",
       "41173   no   cellular   nov         thu  0.272740 -0.565922  0.195414   \n",
       "41174   no   cellular   nov         thu -0.193944 -0.565922 -5.144093   \n",
       "41178   no   cellular   nov         thu  0.866702 -0.204909 -5.117342   \n",
       "41182   no   cellular   nov         fri -0.564206 -0.565922 -5.101292   \n",
       "41187   no   cellular   nov         fri -0.074380  0.156105  0.195414   \n",
       "\n",
       "        previous poutcome    y  \n",
       "24019   1.671136  failure  yes  \n",
       "24076   1.671136  failure   no  \n",
       "24102   1.671136  failure  yes  \n",
       "24108   1.671136  success   no  \n",
       "24113   1.671136  failure   no  \n",
       "...          ...      ...  ...  \n",
       "41173   3.691766  failure  yes  \n",
       "41174  11.774288  success  yes  \n",
       "41178   5.712397  success  yes  \n",
       "41182   1.671136  success   no  \n",
       "41187   1.671136  failure   no  \n",
       "\n",
       "[4652 rows x 16 columns]"
      ]
     },
     "execution_count": 1687,
     "metadata": {},
     "output_type": "execute_result"
    }
   ],
   "source": [
    "df1"
   ]
  },
  {
   "cell_type": "code",
   "execution_count": null,
   "metadata": {},
   "outputs": [],
   "source": []
  },
  {
   "cell_type": "markdown",
   "metadata": {},
   "source": [
    "#### Ragarding duration == 0\n",
    "<p>I did not find any entries with duration == 0 after removing samples with Nan/Unknown entries, therefore I will keep the duration feature</p>"
   ]
  },
  {
   "cell_type": "code",
   "execution_count": 1691,
   "metadata": {},
   "outputs": [
    {
     "data": {
      "text/html": [
       "<div>\n",
       "<style scoped>\n",
       "    .dataframe tbody tr th:only-of-type {\n",
       "        vertical-align: middle;\n",
       "    }\n",
       "\n",
       "    .dataframe tbody tr th {\n",
       "        vertical-align: top;\n",
       "    }\n",
       "\n",
       "    .dataframe thead th {\n",
       "        text-align: right;\n",
       "    }\n",
       "</style>\n",
       "<table border=\"1\" class=\"dataframe\">\n",
       "  <thead>\n",
       "    <tr style=\"text-align: right;\">\n",
       "      <th></th>\n",
       "      <th>age</th>\n",
       "      <th>job</th>\n",
       "      <th>marital</th>\n",
       "      <th>education</th>\n",
       "      <th>default</th>\n",
       "      <th>housing</th>\n",
       "      <th>loan</th>\n",
       "      <th>contact</th>\n",
       "      <th>month</th>\n",
       "      <th>day_of_week</th>\n",
       "      <th>duration</th>\n",
       "      <th>campaign</th>\n",
       "      <th>pdays</th>\n",
       "      <th>previous</th>\n",
       "      <th>poutcome</th>\n",
       "      <th>y</th>\n",
       "    </tr>\n",
       "  </thead>\n",
       "  <tbody>\n",
       "  </tbody>\n",
       "</table>\n",
       "</div>"
      ],
      "text/plain": [
       "Empty DataFrame\n",
       "Columns: [age, job, marital, education, default, housing, loan, contact, month, day_of_week, duration, campaign, pdays, previous, poutcome, y]\n",
       "Index: []"
      ]
     },
     "execution_count": 1691,
     "metadata": {},
     "output_type": "execute_result"
    }
   ],
   "source": [
    "df1.query('duration == 0')"
   ]
  },
  {
   "cell_type": "code",
   "execution_count": 1693,
   "metadata": {},
   "outputs": [
    {
     "data": {
      "text/plain": [
       "-0.9923205760168556"
      ]
     },
     "execution_count": 1693,
     "metadata": {},
     "output_type": "execute_result"
    }
   ],
   "source": [
    "df1['duration'].min()"
   ]
  },
  {
   "cell_type": "code",
   "execution_count": 1695,
   "metadata": {},
   "outputs": [
    {
     "data": {
      "text/html": [
       "<div>\n",
       "<style scoped>\n",
       "    .dataframe tbody tr th:only-of-type {\n",
       "        vertical-align: middle;\n",
       "    }\n",
       "\n",
       "    .dataframe tbody tr th {\n",
       "        vertical-align: top;\n",
       "    }\n",
       "\n",
       "    .dataframe thead th {\n",
       "        text-align: right;\n",
       "    }\n",
       "</style>\n",
       "<table border=\"1\" class=\"dataframe\">\n",
       "  <thead>\n",
       "    <tr style=\"text-align: right;\">\n",
       "      <th></th>\n",
       "      <th>age</th>\n",
       "      <th>job</th>\n",
       "      <th>marital</th>\n",
       "      <th>education</th>\n",
       "      <th>default</th>\n",
       "      <th>housing</th>\n",
       "      <th>loan</th>\n",
       "      <th>contact</th>\n",
       "      <th>month</th>\n",
       "      <th>day_of_week</th>\n",
       "      <th>duration</th>\n",
       "      <th>campaign</th>\n",
       "      <th>pdays</th>\n",
       "      <th>previous</th>\n",
       "      <th>poutcome</th>\n",
       "      <th>y</th>\n",
       "    </tr>\n",
       "  </thead>\n",
       "  <tbody>\n",
       "  </tbody>\n",
       "</table>\n",
       "</div>"
      ],
      "text/plain": [
       "Empty DataFrame\n",
       "Columns: [age, job, marital, education, default, housing, loan, contact, month, day_of_week, duration, campaign, pdays, previous, poutcome, y]\n",
       "Index: []"
      ]
     },
     "execution_count": 1695,
     "metadata": {},
     "output_type": "execute_result"
    }
   ],
   "source": [
    "df1.query('duration == 1')"
   ]
  },
  {
   "cell_type": "code",
   "execution_count": 1697,
   "metadata": {},
   "outputs": [
    {
     "data": {
      "text/plain": [
       "pdays\n",
       " 0.195414    3342\n",
       "-5.133393     381\n",
       "-5.117342     363\n",
       "-5.128043     102\n",
       "-5.138743      53\n",
       "-5.101292      53\n",
       "-5.111992      50\n",
       "-5.085241      50\n",
       "-5.122692      43\n",
       "-5.095941      40\n",
       "-5.079891      33\n",
       "-5.090591      25\n",
       "-5.069190      22\n",
       "-5.144093      21\n",
       "-5.074540      17\n",
       "-5.149443      14\n",
       "-5.106642      13\n",
       "-5.063840       8\n",
       "-5.058490       6\n",
       "-5.053140       5\n",
       "-5.031739       3\n",
       "-5.047789       3\n",
       "-5.037089       2\n",
       "-5.015688       1\n",
       "-5.010338       1\n",
       "-5.004988       1\n",
       "Name: count, dtype: int64"
      ]
     },
     "execution_count": 1697,
     "metadata": {},
     "output_type": "execute_result"
    }
   ],
   "source": [
    "df1['pdays'].value_counts()"
   ]
  },
  {
   "cell_type": "code",
   "execution_count": null,
   "metadata": {},
   "outputs": [],
   "source": []
  },
  {
   "cell_type": "markdown",
   "metadata": {},
   "source": [
    "#### Feature Encoding"
   ]
  },
  {
   "cell_type": "markdown",
   "metadata": {},
   "source": [
    "#### define a function to do feature encoding"
   ]
  },
  {
   "cell_type": "code",
   "execution_count": 1702,
   "metadata": {},
   "outputs": [],
   "source": [
    "def featureEncoding(df):\n",
    "    # Define column selectors\n",
    "    categorical_selector = make_column_selector(dtype_include=object)\n",
    "    numerical_selector = make_column_selector(dtype_include=['int64', 'float64'])\n",
    "    \n",
    "    # Identify categorical and numerical columns\n",
    "    categorical_columns = categorical_selector(df)\n",
    "    numerical_columns = numerical_selector(df)\n",
    "    \n",
    "    preprocessor = ColumnTransformer(verbose_feature_names_out=False,\n",
    "        transformers=[\n",
    "            ('onehot', OneHotEncoder(drop='if_binary', sparse_output=False), categorical_columns),\n",
    "            ('passthrough', 'passthrough', numerical_columns)  # Pass numerical columns\n",
    "        ])\n",
    "    \n",
    "    encoded_data = preprocessor.fit_transform(df)\n",
    "    return pd.DataFrame(encoded_data, columns = preprocessor.get_feature_names_out())\n",
    "    "
   ]
  },
  {
   "cell_type": "code",
   "execution_count": null,
   "metadata": {},
   "outputs": [],
   "source": []
  },
  {
   "cell_type": "code",
   "execution_count": 1705,
   "metadata": {},
   "outputs": [],
   "source": [
    "df1 = featureEncoding(df1)"
   ]
  },
  {
   "cell_type": "code",
   "execution_count": 1707,
   "metadata": {},
   "outputs": [
    {
     "data": {
      "text/html": [
       "<div>\n",
       "<style scoped>\n",
       "    .dataframe tbody tr th:only-of-type {\n",
       "        vertical-align: middle;\n",
       "    }\n",
       "\n",
       "    .dataframe tbody tr th {\n",
       "        vertical-align: top;\n",
       "    }\n",
       "\n",
       "    .dataframe thead th {\n",
       "        text-align: right;\n",
       "    }\n",
       "</style>\n",
       "<table border=\"1\" class=\"dataframe\">\n",
       "  <thead>\n",
       "    <tr style=\"text-align: right;\">\n",
       "      <th></th>\n",
       "      <th>job_admin.</th>\n",
       "      <th>job_blue-collar</th>\n",
       "      <th>job_entrepreneur</th>\n",
       "      <th>job_housemaid</th>\n",
       "      <th>job_management</th>\n",
       "      <th>job_retired</th>\n",
       "      <th>job_self-employed</th>\n",
       "      <th>job_services</th>\n",
       "      <th>job_student</th>\n",
       "      <th>job_technician</th>\n",
       "      <th>job_unemployed</th>\n",
       "      <th>marital_divorced</th>\n",
       "      <th>marital_married</th>\n",
       "      <th>marital_single</th>\n",
       "      <th>education_basic.4y</th>\n",
       "      <th>education_basic.6y</th>\n",
       "      <th>education_basic.9y</th>\n",
       "      <th>education_high.school</th>\n",
       "      <th>education_illiterate</th>\n",
       "      <th>education_professional.course</th>\n",
       "      <th>education_university.degree</th>\n",
       "      <th>default_yes</th>\n",
       "      <th>housing_yes</th>\n",
       "      <th>loan_yes</th>\n",
       "      <th>contact_telephone</th>\n",
       "      <th>month_apr</th>\n",
       "      <th>month_aug</th>\n",
       "      <th>month_dec</th>\n",
       "      <th>month_jul</th>\n",
       "      <th>month_jun</th>\n",
       "      <th>month_mar</th>\n",
       "      <th>month_may</th>\n",
       "      <th>month_nov</th>\n",
       "      <th>month_oct</th>\n",
       "      <th>month_sep</th>\n",
       "      <th>day_of_week_fri</th>\n",
       "      <th>day_of_week_mon</th>\n",
       "      <th>day_of_week_thu</th>\n",
       "      <th>day_of_week_tue</th>\n",
       "      <th>day_of_week_wed</th>\n",
       "      <th>poutcome_success</th>\n",
       "      <th>y_yes</th>\n",
       "      <th>age</th>\n",
       "      <th>duration</th>\n",
       "      <th>campaign</th>\n",
       "      <th>pdays</th>\n",
       "      <th>previous</th>\n",
       "    </tr>\n",
       "  </thead>\n",
       "  <tbody>\n",
       "    <tr>\n",
       "      <th>0</th>\n",
       "      <td>0.0</td>\n",
       "      <td>0.0</td>\n",
       "      <td>0.0</td>\n",
       "      <td>0.0</td>\n",
       "      <td>0.0</td>\n",
       "      <td>0.0</td>\n",
       "      <td>0.0</td>\n",
       "      <td>1.0</td>\n",
       "      <td>0.0</td>\n",
       "      <td>0.0</td>\n",
       "      <td>0.0</td>\n",
       "      <td>0.0</td>\n",
       "      <td>1.0</td>\n",
       "      <td>0.0</td>\n",
       "      <td>0.0</td>\n",
       "      <td>0.0</td>\n",
       "      <td>0.0</td>\n",
       "      <td>1.0</td>\n",
       "      <td>0.0</td>\n",
       "      <td>0.0</td>\n",
       "      <td>0.0</td>\n",
       "      <td>0.0</td>\n",
       "      <td>1.0</td>\n",
       "      <td>0.0</td>\n",
       "      <td>1.0</td>\n",
       "      <td>0.0</td>\n",
       "      <td>0.0</td>\n",
       "      <td>0.0</td>\n",
       "      <td>0.0</td>\n",
       "      <td>0.0</td>\n",
       "      <td>0.0</td>\n",
       "      <td>0.0</td>\n",
       "      <td>0.0</td>\n",
       "      <td>1.0</td>\n",
       "      <td>0.0</td>\n",
       "      <td>0.0</td>\n",
       "      <td>0.0</td>\n",
       "      <td>0.0</td>\n",
       "      <td>1.0</td>\n",
       "      <td>0.0</td>\n",
       "      <td>0.0</td>\n",
       "      <td>1.0</td>\n",
       "      <td>-0.002309</td>\n",
       "      <td>-0.440785</td>\n",
       "      <td>-0.565922</td>\n",
       "      <td>0.195414</td>\n",
       "      <td>1.671136</td>\n",
       "    </tr>\n",
       "    <tr>\n",
       "      <th>1</th>\n",
       "      <td>1.0</td>\n",
       "      <td>0.0</td>\n",
       "      <td>0.0</td>\n",
       "      <td>0.0</td>\n",
       "      <td>0.0</td>\n",
       "      <td>0.0</td>\n",
       "      <td>0.0</td>\n",
       "      <td>0.0</td>\n",
       "      <td>0.0</td>\n",
       "      <td>0.0</td>\n",
       "      <td>0.0</td>\n",
       "      <td>0.0</td>\n",
       "      <td>1.0</td>\n",
       "      <td>0.0</td>\n",
       "      <td>0.0</td>\n",
       "      <td>0.0</td>\n",
       "      <td>0.0</td>\n",
       "      <td>0.0</td>\n",
       "      <td>0.0</td>\n",
       "      <td>0.0</td>\n",
       "      <td>1.0</td>\n",
       "      <td>0.0</td>\n",
       "      <td>1.0</td>\n",
       "      <td>0.0</td>\n",
       "      <td>1.0</td>\n",
       "      <td>0.0</td>\n",
       "      <td>0.0</td>\n",
       "      <td>0.0</td>\n",
       "      <td>0.0</td>\n",
       "      <td>0.0</td>\n",
       "      <td>0.0</td>\n",
       "      <td>0.0</td>\n",
       "      <td>1.0</td>\n",
       "      <td>0.0</td>\n",
       "      <td>0.0</td>\n",
       "      <td>0.0</td>\n",
       "      <td>0.0</td>\n",
       "      <td>0.0</td>\n",
       "      <td>0.0</td>\n",
       "      <td>1.0</td>\n",
       "      <td>0.0</td>\n",
       "      <td>0.0</td>\n",
       "      <td>-0.386145</td>\n",
       "      <td>0.735567</td>\n",
       "      <td>-0.565922</td>\n",
       "      <td>0.195414</td>\n",
       "      <td>1.671136</td>\n",
       "    </tr>\n",
       "    <tr>\n",
       "      <th>2</th>\n",
       "      <td>1.0</td>\n",
       "      <td>0.0</td>\n",
       "      <td>0.0</td>\n",
       "      <td>0.0</td>\n",
       "      <td>0.0</td>\n",
       "      <td>0.0</td>\n",
       "      <td>0.0</td>\n",
       "      <td>0.0</td>\n",
       "      <td>0.0</td>\n",
       "      <td>0.0</td>\n",
       "      <td>0.0</td>\n",
       "      <td>0.0</td>\n",
       "      <td>1.0</td>\n",
       "      <td>0.0</td>\n",
       "      <td>0.0</td>\n",
       "      <td>0.0</td>\n",
       "      <td>0.0</td>\n",
       "      <td>1.0</td>\n",
       "      <td>0.0</td>\n",
       "      <td>0.0</td>\n",
       "      <td>0.0</td>\n",
       "      <td>0.0</td>\n",
       "      <td>1.0</td>\n",
       "      <td>0.0</td>\n",
       "      <td>1.0</td>\n",
       "      <td>0.0</td>\n",
       "      <td>0.0</td>\n",
       "      <td>0.0</td>\n",
       "      <td>0.0</td>\n",
       "      <td>0.0</td>\n",
       "      <td>0.0</td>\n",
       "      <td>0.0</td>\n",
       "      <td>1.0</td>\n",
       "      <td>0.0</td>\n",
       "      <td>0.0</td>\n",
       "      <td>0.0</td>\n",
       "      <td>0.0</td>\n",
       "      <td>0.0</td>\n",
       "      <td>0.0</td>\n",
       "      <td>1.0</td>\n",
       "      <td>0.0</td>\n",
       "      <td>1.0</td>\n",
       "      <td>-0.386145</td>\n",
       "      <td>-0.556492</td>\n",
       "      <td>-0.565922</td>\n",
       "      <td>0.195414</td>\n",
       "      <td>1.671136</td>\n",
       "    </tr>\n",
       "    <tr>\n",
       "      <th>3</th>\n",
       "      <td>1.0</td>\n",
       "      <td>0.0</td>\n",
       "      <td>0.0</td>\n",
       "      <td>0.0</td>\n",
       "      <td>0.0</td>\n",
       "      <td>0.0</td>\n",
       "      <td>0.0</td>\n",
       "      <td>0.0</td>\n",
       "      <td>0.0</td>\n",
       "      <td>0.0</td>\n",
       "      <td>0.0</td>\n",
       "      <td>0.0</td>\n",
       "      <td>1.0</td>\n",
       "      <td>0.0</td>\n",
       "      <td>0.0</td>\n",
       "      <td>0.0</td>\n",
       "      <td>0.0</td>\n",
       "      <td>0.0</td>\n",
       "      <td>0.0</td>\n",
       "      <td>0.0</td>\n",
       "      <td>1.0</td>\n",
       "      <td>0.0</td>\n",
       "      <td>1.0</td>\n",
       "      <td>0.0</td>\n",
       "      <td>1.0</td>\n",
       "      <td>0.0</td>\n",
       "      <td>0.0</td>\n",
       "      <td>0.0</td>\n",
       "      <td>0.0</td>\n",
       "      <td>0.0</td>\n",
       "      <td>0.0</td>\n",
       "      <td>0.0</td>\n",
       "      <td>1.0</td>\n",
       "      <td>0.0</td>\n",
       "      <td>0.0</td>\n",
       "      <td>0.0</td>\n",
       "      <td>0.0</td>\n",
       "      <td>0.0</td>\n",
       "      <td>0.0</td>\n",
       "      <td>1.0</td>\n",
       "      <td>1.0</td>\n",
       "      <td>0.0</td>\n",
       "      <td>-0.290186</td>\n",
       "      <td>-0.537207</td>\n",
       "      <td>-0.565922</td>\n",
       "      <td>-5.117342</td>\n",
       "      <td>1.671136</td>\n",
       "    </tr>\n",
       "    <tr>\n",
       "      <th>4</th>\n",
       "      <td>0.0</td>\n",
       "      <td>0.0</td>\n",
       "      <td>0.0</td>\n",
       "      <td>0.0</td>\n",
       "      <td>0.0</td>\n",
       "      <td>0.0</td>\n",
       "      <td>1.0</td>\n",
       "      <td>0.0</td>\n",
       "      <td>0.0</td>\n",
       "      <td>0.0</td>\n",
       "      <td>0.0</td>\n",
       "      <td>0.0</td>\n",
       "      <td>1.0</td>\n",
       "      <td>0.0</td>\n",
       "      <td>0.0</td>\n",
       "      <td>0.0</td>\n",
       "      <td>0.0</td>\n",
       "      <td>0.0</td>\n",
       "      <td>0.0</td>\n",
       "      <td>0.0</td>\n",
       "      <td>1.0</td>\n",
       "      <td>0.0</td>\n",
       "      <td>1.0</td>\n",
       "      <td>0.0</td>\n",
       "      <td>1.0</td>\n",
       "      <td>0.0</td>\n",
       "      <td>0.0</td>\n",
       "      <td>0.0</td>\n",
       "      <td>0.0</td>\n",
       "      <td>0.0</td>\n",
       "      <td>0.0</td>\n",
       "      <td>0.0</td>\n",
       "      <td>1.0</td>\n",
       "      <td>0.0</td>\n",
       "      <td>0.0</td>\n",
       "      <td>0.0</td>\n",
       "      <td>0.0</td>\n",
       "      <td>1.0</td>\n",
       "      <td>0.0</td>\n",
       "      <td>0.0</td>\n",
       "      <td>0.0</td>\n",
       "      <td>0.0</td>\n",
       "      <td>-1.057857</td>\n",
       "      <td>-0.664485</td>\n",
       "      <td>-0.565922</td>\n",
       "      <td>0.195414</td>\n",
       "      <td>1.671136</td>\n",
       "    </tr>\n",
       "    <tr>\n",
       "      <th>...</th>\n",
       "      <td>...</td>\n",
       "      <td>...</td>\n",
       "      <td>...</td>\n",
       "      <td>...</td>\n",
       "      <td>...</td>\n",
       "      <td>...</td>\n",
       "      <td>...</td>\n",
       "      <td>...</td>\n",
       "      <td>...</td>\n",
       "      <td>...</td>\n",
       "      <td>...</td>\n",
       "      <td>...</td>\n",
       "      <td>...</td>\n",
       "      <td>...</td>\n",
       "      <td>...</td>\n",
       "      <td>...</td>\n",
       "      <td>...</td>\n",
       "      <td>...</td>\n",
       "      <td>...</td>\n",
       "      <td>...</td>\n",
       "      <td>...</td>\n",
       "      <td>...</td>\n",
       "      <td>...</td>\n",
       "      <td>...</td>\n",
       "      <td>...</td>\n",
       "      <td>...</td>\n",
       "      <td>...</td>\n",
       "      <td>...</td>\n",
       "      <td>...</td>\n",
       "      <td>...</td>\n",
       "      <td>...</td>\n",
       "      <td>...</td>\n",
       "      <td>...</td>\n",
       "      <td>...</td>\n",
       "      <td>...</td>\n",
       "      <td>...</td>\n",
       "      <td>...</td>\n",
       "      <td>...</td>\n",
       "      <td>...</td>\n",
       "      <td>...</td>\n",
       "      <td>...</td>\n",
       "      <td>...</td>\n",
       "      <td>...</td>\n",
       "      <td>...</td>\n",
       "      <td>...</td>\n",
       "      <td>...</td>\n",
       "      <td>...</td>\n",
       "    </tr>\n",
       "    <tr>\n",
       "      <th>4647</th>\n",
       "      <td>0.0</td>\n",
       "      <td>0.0</td>\n",
       "      <td>0.0</td>\n",
       "      <td>0.0</td>\n",
       "      <td>0.0</td>\n",
       "      <td>1.0</td>\n",
       "      <td>0.0</td>\n",
       "      <td>0.0</td>\n",
       "      <td>0.0</td>\n",
       "      <td>0.0</td>\n",
       "      <td>0.0</td>\n",
       "      <td>0.0</td>\n",
       "      <td>1.0</td>\n",
       "      <td>0.0</td>\n",
       "      <td>0.0</td>\n",
       "      <td>0.0</td>\n",
       "      <td>0.0</td>\n",
       "      <td>0.0</td>\n",
       "      <td>0.0</td>\n",
       "      <td>0.0</td>\n",
       "      <td>1.0</td>\n",
       "      <td>0.0</td>\n",
       "      <td>1.0</td>\n",
       "      <td>0.0</td>\n",
       "      <td>0.0</td>\n",
       "      <td>0.0</td>\n",
       "      <td>0.0</td>\n",
       "      <td>0.0</td>\n",
       "      <td>0.0</td>\n",
       "      <td>0.0</td>\n",
       "      <td>0.0</td>\n",
       "      <td>0.0</td>\n",
       "      <td>1.0</td>\n",
       "      <td>0.0</td>\n",
       "      <td>0.0</td>\n",
       "      <td>0.0</td>\n",
       "      <td>0.0</td>\n",
       "      <td>1.0</td>\n",
       "      <td>0.0</td>\n",
       "      <td>0.0</td>\n",
       "      <td>0.0</td>\n",
       "      <td>1.0</td>\n",
       "      <td>2.108788</td>\n",
       "      <td>0.272740</td>\n",
       "      <td>-0.565922</td>\n",
       "      <td>0.195414</td>\n",
       "      <td>3.691766</td>\n",
       "    </tr>\n",
       "    <tr>\n",
       "      <th>4648</th>\n",
       "      <td>0.0</td>\n",
       "      <td>0.0</td>\n",
       "      <td>0.0</td>\n",
       "      <td>0.0</td>\n",
       "      <td>0.0</td>\n",
       "      <td>1.0</td>\n",
       "      <td>0.0</td>\n",
       "      <td>0.0</td>\n",
       "      <td>0.0</td>\n",
       "      <td>0.0</td>\n",
       "      <td>0.0</td>\n",
       "      <td>0.0</td>\n",
       "      <td>1.0</td>\n",
       "      <td>0.0</td>\n",
       "      <td>0.0</td>\n",
       "      <td>0.0</td>\n",
       "      <td>0.0</td>\n",
       "      <td>0.0</td>\n",
       "      <td>0.0</td>\n",
       "      <td>0.0</td>\n",
       "      <td>1.0</td>\n",
       "      <td>0.0</td>\n",
       "      <td>1.0</td>\n",
       "      <td>0.0</td>\n",
       "      <td>0.0</td>\n",
       "      <td>0.0</td>\n",
       "      <td>0.0</td>\n",
       "      <td>0.0</td>\n",
       "      <td>0.0</td>\n",
       "      <td>0.0</td>\n",
       "      <td>0.0</td>\n",
       "      <td>0.0</td>\n",
       "      <td>1.0</td>\n",
       "      <td>0.0</td>\n",
       "      <td>0.0</td>\n",
       "      <td>0.0</td>\n",
       "      <td>0.0</td>\n",
       "      <td>1.0</td>\n",
       "      <td>0.0</td>\n",
       "      <td>0.0</td>\n",
       "      <td>1.0</td>\n",
       "      <td>1.0</td>\n",
       "      <td>2.108788</td>\n",
       "      <td>-0.193944</td>\n",
       "      <td>-0.565922</td>\n",
       "      <td>-5.144093</td>\n",
       "      <td>11.774288</td>\n",
       "    </tr>\n",
       "    <tr>\n",
       "      <th>4649</th>\n",
       "      <td>0.0</td>\n",
       "      <td>0.0</td>\n",
       "      <td>0.0</td>\n",
       "      <td>0.0</td>\n",
       "      <td>0.0</td>\n",
       "      <td>1.0</td>\n",
       "      <td>0.0</td>\n",
       "      <td>0.0</td>\n",
       "      <td>0.0</td>\n",
       "      <td>0.0</td>\n",
       "      <td>0.0</td>\n",
       "      <td>0.0</td>\n",
       "      <td>1.0</td>\n",
       "      <td>0.0</td>\n",
       "      <td>0.0</td>\n",
       "      <td>0.0</td>\n",
       "      <td>0.0</td>\n",
       "      <td>0.0</td>\n",
       "      <td>0.0</td>\n",
       "      <td>0.0</td>\n",
       "      <td>1.0</td>\n",
       "      <td>0.0</td>\n",
       "      <td>0.0</td>\n",
       "      <td>0.0</td>\n",
       "      <td>0.0</td>\n",
       "      <td>0.0</td>\n",
       "      <td>0.0</td>\n",
       "      <td>0.0</td>\n",
       "      <td>0.0</td>\n",
       "      <td>0.0</td>\n",
       "      <td>0.0</td>\n",
       "      <td>0.0</td>\n",
       "      <td>1.0</td>\n",
       "      <td>0.0</td>\n",
       "      <td>0.0</td>\n",
       "      <td>0.0</td>\n",
       "      <td>0.0</td>\n",
       "      <td>1.0</td>\n",
       "      <td>0.0</td>\n",
       "      <td>0.0</td>\n",
       "      <td>1.0</td>\n",
       "      <td>1.0</td>\n",
       "      <td>2.108788</td>\n",
       "      <td>0.866702</td>\n",
       "      <td>-0.204909</td>\n",
       "      <td>-5.117342</td>\n",
       "      <td>5.712397</td>\n",
       "    </tr>\n",
       "    <tr>\n",
       "      <th>4650</th>\n",
       "      <td>0.0</td>\n",
       "      <td>0.0</td>\n",
       "      <td>0.0</td>\n",
       "      <td>0.0</td>\n",
       "      <td>0.0</td>\n",
       "      <td>0.0</td>\n",
       "      <td>0.0</td>\n",
       "      <td>0.0</td>\n",
       "      <td>0.0</td>\n",
       "      <td>0.0</td>\n",
       "      <td>1.0</td>\n",
       "      <td>0.0</td>\n",
       "      <td>0.0</td>\n",
       "      <td>1.0</td>\n",
       "      <td>1.0</td>\n",
       "      <td>0.0</td>\n",
       "      <td>0.0</td>\n",
       "      <td>0.0</td>\n",
       "      <td>0.0</td>\n",
       "      <td>0.0</td>\n",
       "      <td>0.0</td>\n",
       "      <td>0.0</td>\n",
       "      <td>1.0</td>\n",
       "      <td>0.0</td>\n",
       "      <td>0.0</td>\n",
       "      <td>0.0</td>\n",
       "      <td>0.0</td>\n",
       "      <td>0.0</td>\n",
       "      <td>0.0</td>\n",
       "      <td>0.0</td>\n",
       "      <td>0.0</td>\n",
       "      <td>0.0</td>\n",
       "      <td>1.0</td>\n",
       "      <td>0.0</td>\n",
       "      <td>0.0</td>\n",
       "      <td>1.0</td>\n",
       "      <td>0.0</td>\n",
       "      <td>0.0</td>\n",
       "      <td>0.0</td>\n",
       "      <td>0.0</td>\n",
       "      <td>1.0</td>\n",
       "      <td>0.0</td>\n",
       "      <td>-1.057857</td>\n",
       "      <td>-0.564206</td>\n",
       "      <td>-0.565922</td>\n",
       "      <td>-5.101292</td>\n",
       "      <td>1.671136</td>\n",
       "    </tr>\n",
       "    <tr>\n",
       "      <th>4651</th>\n",
       "      <td>0.0</td>\n",
       "      <td>0.0</td>\n",
       "      <td>0.0</td>\n",
       "      <td>0.0</td>\n",
       "      <td>0.0</td>\n",
       "      <td>1.0</td>\n",
       "      <td>0.0</td>\n",
       "      <td>0.0</td>\n",
       "      <td>0.0</td>\n",
       "      <td>0.0</td>\n",
       "      <td>0.0</td>\n",
       "      <td>0.0</td>\n",
       "      <td>1.0</td>\n",
       "      <td>0.0</td>\n",
       "      <td>0.0</td>\n",
       "      <td>0.0</td>\n",
       "      <td>0.0</td>\n",
       "      <td>0.0</td>\n",
       "      <td>0.0</td>\n",
       "      <td>1.0</td>\n",
       "      <td>0.0</td>\n",
       "      <td>0.0</td>\n",
       "      <td>1.0</td>\n",
       "      <td>0.0</td>\n",
       "      <td>0.0</td>\n",
       "      <td>0.0</td>\n",
       "      <td>0.0</td>\n",
       "      <td>0.0</td>\n",
       "      <td>0.0</td>\n",
       "      <td>0.0</td>\n",
       "      <td>0.0</td>\n",
       "      <td>0.0</td>\n",
       "      <td>1.0</td>\n",
       "      <td>0.0</td>\n",
       "      <td>0.0</td>\n",
       "      <td>1.0</td>\n",
       "      <td>0.0</td>\n",
       "      <td>0.0</td>\n",
       "      <td>0.0</td>\n",
       "      <td>0.0</td>\n",
       "      <td>0.0</td>\n",
       "      <td>0.0</td>\n",
       "      <td>3.260295</td>\n",
       "      <td>-0.074380</td>\n",
       "      <td>0.156105</td>\n",
       "      <td>0.195414</td>\n",
       "      <td>1.671136</td>\n",
       "    </tr>\n",
       "  </tbody>\n",
       "</table>\n",
       "<p>4652 rows × 47 columns</p>\n",
       "</div>"
      ],
      "text/plain": [
       "      job_admin.  job_blue-collar  job_entrepreneur  job_housemaid  \\\n",
       "0            0.0              0.0               0.0            0.0   \n",
       "1            1.0              0.0               0.0            0.0   \n",
       "2            1.0              0.0               0.0            0.0   \n",
       "3            1.0              0.0               0.0            0.0   \n",
       "4            0.0              0.0               0.0            0.0   \n",
       "...          ...              ...               ...            ...   \n",
       "4647         0.0              0.0               0.0            0.0   \n",
       "4648         0.0              0.0               0.0            0.0   \n",
       "4649         0.0              0.0               0.0            0.0   \n",
       "4650         0.0              0.0               0.0            0.0   \n",
       "4651         0.0              0.0               0.0            0.0   \n",
       "\n",
       "      job_management  job_retired  job_self-employed  job_services  \\\n",
       "0                0.0          0.0                0.0           1.0   \n",
       "1                0.0          0.0                0.0           0.0   \n",
       "2                0.0          0.0                0.0           0.0   \n",
       "3                0.0          0.0                0.0           0.0   \n",
       "4                0.0          0.0                1.0           0.0   \n",
       "...              ...          ...                ...           ...   \n",
       "4647             0.0          1.0                0.0           0.0   \n",
       "4648             0.0          1.0                0.0           0.0   \n",
       "4649             0.0          1.0                0.0           0.0   \n",
       "4650             0.0          0.0                0.0           0.0   \n",
       "4651             0.0          1.0                0.0           0.0   \n",
       "\n",
       "      job_student  job_technician  job_unemployed  marital_divorced  \\\n",
       "0             0.0             0.0             0.0               0.0   \n",
       "1             0.0             0.0             0.0               0.0   \n",
       "2             0.0             0.0             0.0               0.0   \n",
       "3             0.0             0.0             0.0               0.0   \n",
       "4             0.0             0.0             0.0               0.0   \n",
       "...           ...             ...             ...               ...   \n",
       "4647          0.0             0.0             0.0               0.0   \n",
       "4648          0.0             0.0             0.0               0.0   \n",
       "4649          0.0             0.0             0.0               0.0   \n",
       "4650          0.0             0.0             1.0               0.0   \n",
       "4651          0.0             0.0             0.0               0.0   \n",
       "\n",
       "      marital_married  marital_single  education_basic.4y  education_basic.6y  \\\n",
       "0                 1.0             0.0                 0.0                 0.0   \n",
       "1                 1.0             0.0                 0.0                 0.0   \n",
       "2                 1.0             0.0                 0.0                 0.0   \n",
       "3                 1.0             0.0                 0.0                 0.0   \n",
       "4                 1.0             0.0                 0.0                 0.0   \n",
       "...               ...             ...                 ...                 ...   \n",
       "4647              1.0             0.0                 0.0                 0.0   \n",
       "4648              1.0             0.0                 0.0                 0.0   \n",
       "4649              1.0             0.0                 0.0                 0.0   \n",
       "4650              0.0             1.0                 1.0                 0.0   \n",
       "4651              1.0             0.0                 0.0                 0.0   \n",
       "\n",
       "      education_basic.9y  education_high.school  education_illiterate  \\\n",
       "0                    0.0                    1.0                   0.0   \n",
       "1                    0.0                    0.0                   0.0   \n",
       "2                    0.0                    1.0                   0.0   \n",
       "3                    0.0                    0.0                   0.0   \n",
       "4                    0.0                    0.0                   0.0   \n",
       "...                  ...                    ...                   ...   \n",
       "4647                 0.0                    0.0                   0.0   \n",
       "4648                 0.0                    0.0                   0.0   \n",
       "4649                 0.0                    0.0                   0.0   \n",
       "4650                 0.0                    0.0                   0.0   \n",
       "4651                 0.0                    0.0                   0.0   \n",
       "\n",
       "      education_professional.course  education_university.degree  default_yes  \\\n",
       "0                               0.0                          0.0          0.0   \n",
       "1                               0.0                          1.0          0.0   \n",
       "2                               0.0                          0.0          0.0   \n",
       "3                               0.0                          1.0          0.0   \n",
       "4                               0.0                          1.0          0.0   \n",
       "...                             ...                          ...          ...   \n",
       "4647                            0.0                          1.0          0.0   \n",
       "4648                            0.0                          1.0          0.0   \n",
       "4649                            0.0                          1.0          0.0   \n",
       "4650                            0.0                          0.0          0.0   \n",
       "4651                            1.0                          0.0          0.0   \n",
       "\n",
       "      housing_yes  loan_yes  contact_telephone  month_apr  month_aug  \\\n",
       "0             1.0       0.0                1.0        0.0        0.0   \n",
       "1             1.0       0.0                1.0        0.0        0.0   \n",
       "2             1.0       0.0                1.0        0.0        0.0   \n",
       "3             1.0       0.0                1.0        0.0        0.0   \n",
       "4             1.0       0.0                1.0        0.0        0.0   \n",
       "...           ...       ...                ...        ...        ...   \n",
       "4647          1.0       0.0                0.0        0.0        0.0   \n",
       "4648          1.0       0.0                0.0        0.0        0.0   \n",
       "4649          0.0       0.0                0.0        0.0        0.0   \n",
       "4650          1.0       0.0                0.0        0.0        0.0   \n",
       "4651          1.0       0.0                0.0        0.0        0.0   \n",
       "\n",
       "      month_dec  month_jul  month_jun  month_mar  month_may  month_nov  \\\n",
       "0           0.0        0.0        0.0        0.0        0.0        0.0   \n",
       "1           0.0        0.0        0.0        0.0        0.0        1.0   \n",
       "2           0.0        0.0        0.0        0.0        0.0        1.0   \n",
       "3           0.0        0.0        0.0        0.0        0.0        1.0   \n",
       "4           0.0        0.0        0.0        0.0        0.0        1.0   \n",
       "...         ...        ...        ...        ...        ...        ...   \n",
       "4647        0.0        0.0        0.0        0.0        0.0        1.0   \n",
       "4648        0.0        0.0        0.0        0.0        0.0        1.0   \n",
       "4649        0.0        0.0        0.0        0.0        0.0        1.0   \n",
       "4650        0.0        0.0        0.0        0.0        0.0        1.0   \n",
       "4651        0.0        0.0        0.0        0.0        0.0        1.0   \n",
       "\n",
       "      month_oct  month_sep  day_of_week_fri  day_of_week_mon  day_of_week_thu  \\\n",
       "0           1.0        0.0              0.0              0.0              0.0   \n",
       "1           0.0        0.0              0.0              0.0              0.0   \n",
       "2           0.0        0.0              0.0              0.0              0.0   \n",
       "3           0.0        0.0              0.0              0.0              0.0   \n",
       "4           0.0        0.0              0.0              0.0              1.0   \n",
       "...         ...        ...              ...              ...              ...   \n",
       "4647        0.0        0.0              0.0              0.0              1.0   \n",
       "4648        0.0        0.0              0.0              0.0              1.0   \n",
       "4649        0.0        0.0              0.0              0.0              1.0   \n",
       "4650        0.0        0.0              1.0              0.0              0.0   \n",
       "4651        0.0        0.0              1.0              0.0              0.0   \n",
       "\n",
       "      day_of_week_tue  day_of_week_wed  poutcome_success  y_yes       age  \\\n",
       "0                 1.0              0.0               0.0    1.0 -0.002309   \n",
       "1                 0.0              1.0               0.0    0.0 -0.386145   \n",
       "2                 0.0              1.0               0.0    1.0 -0.386145   \n",
       "3                 0.0              1.0               1.0    0.0 -0.290186   \n",
       "4                 0.0              0.0               0.0    0.0 -1.057857   \n",
       "...               ...              ...               ...    ...       ...   \n",
       "4647              0.0              0.0               0.0    1.0  2.108788   \n",
       "4648              0.0              0.0               1.0    1.0  2.108788   \n",
       "4649              0.0              0.0               1.0    1.0  2.108788   \n",
       "4650              0.0              0.0               1.0    0.0 -1.057857   \n",
       "4651              0.0              0.0               0.0    0.0  3.260295   \n",
       "\n",
       "      duration  campaign     pdays   previous  \n",
       "0    -0.440785 -0.565922  0.195414   1.671136  \n",
       "1     0.735567 -0.565922  0.195414   1.671136  \n",
       "2    -0.556492 -0.565922  0.195414   1.671136  \n",
       "3    -0.537207 -0.565922 -5.117342   1.671136  \n",
       "4    -0.664485 -0.565922  0.195414   1.671136  \n",
       "...        ...       ...       ...        ...  \n",
       "4647  0.272740 -0.565922  0.195414   3.691766  \n",
       "4648 -0.193944 -0.565922 -5.144093  11.774288  \n",
       "4649  0.866702 -0.204909 -5.117342   5.712397  \n",
       "4650 -0.564206 -0.565922 -5.101292   1.671136  \n",
       "4651 -0.074380  0.156105  0.195414   1.671136  \n",
       "\n",
       "[4652 rows x 47 columns]"
      ]
     },
     "execution_count": 1707,
     "metadata": {},
     "output_type": "execute_result"
    }
   ],
   "source": [
    "df1"
   ]
  },
  {
   "cell_type": "code",
   "execution_count": null,
   "metadata": {},
   "outputs": [],
   "source": []
  },
  {
   "cell_type": "code",
   "execution_count": 1710,
   "metadata": {},
   "outputs": [
    {
     "data": {
      "text/html": [
       "<div>\n",
       "<style scoped>\n",
       "    .dataframe tbody tr th:only-of-type {\n",
       "        vertical-align: middle;\n",
       "    }\n",
       "\n",
       "    .dataframe tbody tr th {\n",
       "        vertical-align: top;\n",
       "    }\n",
       "\n",
       "    .dataframe thead th {\n",
       "        text-align: right;\n",
       "    }\n",
       "</style>\n",
       "<table border=\"1\" class=\"dataframe\">\n",
       "  <thead>\n",
       "    <tr style=\"text-align: right;\">\n",
       "      <th></th>\n",
       "      <th>job_admin.</th>\n",
       "      <th>job_blue-collar</th>\n",
       "      <th>job_entrepreneur</th>\n",
       "      <th>job_housemaid</th>\n",
       "      <th>job_management</th>\n",
       "      <th>job_retired</th>\n",
       "      <th>job_self-employed</th>\n",
       "      <th>job_services</th>\n",
       "      <th>job_student</th>\n",
       "      <th>job_technician</th>\n",
       "      <th>job_unemployed</th>\n",
       "      <th>marital_divorced</th>\n",
       "      <th>marital_married</th>\n",
       "      <th>marital_single</th>\n",
       "      <th>education_basic.4y</th>\n",
       "      <th>education_basic.6y</th>\n",
       "      <th>education_basic.9y</th>\n",
       "      <th>education_high.school</th>\n",
       "      <th>education_illiterate</th>\n",
       "      <th>education_professional.course</th>\n",
       "      <th>education_university.degree</th>\n",
       "      <th>default_yes</th>\n",
       "      <th>housing_yes</th>\n",
       "      <th>loan_yes</th>\n",
       "      <th>contact_telephone</th>\n",
       "      <th>month_apr</th>\n",
       "      <th>month_aug</th>\n",
       "      <th>month_dec</th>\n",
       "      <th>month_jul</th>\n",
       "      <th>month_jun</th>\n",
       "      <th>month_mar</th>\n",
       "      <th>month_may</th>\n",
       "      <th>month_nov</th>\n",
       "      <th>month_oct</th>\n",
       "      <th>month_sep</th>\n",
       "      <th>day_of_week_fri</th>\n",
       "      <th>day_of_week_mon</th>\n",
       "      <th>day_of_week_thu</th>\n",
       "      <th>day_of_week_tue</th>\n",
       "      <th>day_of_week_wed</th>\n",
       "      <th>poutcome_success</th>\n",
       "      <th>age</th>\n",
       "      <th>duration</th>\n",
       "      <th>campaign</th>\n",
       "      <th>pdays</th>\n",
       "      <th>previous</th>\n",
       "    </tr>\n",
       "  </thead>\n",
       "  <tbody>\n",
       "    <tr>\n",
       "      <th>0</th>\n",
       "      <td>0.0</td>\n",
       "      <td>0.0</td>\n",
       "      <td>0.0</td>\n",
       "      <td>0.0</td>\n",
       "      <td>0.0</td>\n",
       "      <td>0.0</td>\n",
       "      <td>0.0</td>\n",
       "      <td>1.0</td>\n",
       "      <td>0.0</td>\n",
       "      <td>0.0</td>\n",
       "      <td>0.0</td>\n",
       "      <td>0.0</td>\n",
       "      <td>1.0</td>\n",
       "      <td>0.0</td>\n",
       "      <td>0.0</td>\n",
       "      <td>0.0</td>\n",
       "      <td>0.0</td>\n",
       "      <td>1.0</td>\n",
       "      <td>0.0</td>\n",
       "      <td>0.0</td>\n",
       "      <td>0.0</td>\n",
       "      <td>0.0</td>\n",
       "      <td>1.0</td>\n",
       "      <td>0.0</td>\n",
       "      <td>1.0</td>\n",
       "      <td>0.0</td>\n",
       "      <td>0.0</td>\n",
       "      <td>0.0</td>\n",
       "      <td>0.0</td>\n",
       "      <td>0.0</td>\n",
       "      <td>0.0</td>\n",
       "      <td>0.0</td>\n",
       "      <td>0.0</td>\n",
       "      <td>1.0</td>\n",
       "      <td>0.0</td>\n",
       "      <td>0.0</td>\n",
       "      <td>0.0</td>\n",
       "      <td>0.0</td>\n",
       "      <td>1.0</td>\n",
       "      <td>0.0</td>\n",
       "      <td>0.0</td>\n",
       "      <td>-0.002309</td>\n",
       "      <td>-0.440785</td>\n",
       "      <td>-0.565922</td>\n",
       "      <td>0.195414</td>\n",
       "      <td>1.671136</td>\n",
       "    </tr>\n",
       "    <tr>\n",
       "      <th>1</th>\n",
       "      <td>1.0</td>\n",
       "      <td>0.0</td>\n",
       "      <td>0.0</td>\n",
       "      <td>0.0</td>\n",
       "      <td>0.0</td>\n",
       "      <td>0.0</td>\n",
       "      <td>0.0</td>\n",
       "      <td>0.0</td>\n",
       "      <td>0.0</td>\n",
       "      <td>0.0</td>\n",
       "      <td>0.0</td>\n",
       "      <td>0.0</td>\n",
       "      <td>1.0</td>\n",
       "      <td>0.0</td>\n",
       "      <td>0.0</td>\n",
       "      <td>0.0</td>\n",
       "      <td>0.0</td>\n",
       "      <td>0.0</td>\n",
       "      <td>0.0</td>\n",
       "      <td>0.0</td>\n",
       "      <td>1.0</td>\n",
       "      <td>0.0</td>\n",
       "      <td>1.0</td>\n",
       "      <td>0.0</td>\n",
       "      <td>1.0</td>\n",
       "      <td>0.0</td>\n",
       "      <td>0.0</td>\n",
       "      <td>0.0</td>\n",
       "      <td>0.0</td>\n",
       "      <td>0.0</td>\n",
       "      <td>0.0</td>\n",
       "      <td>0.0</td>\n",
       "      <td>1.0</td>\n",
       "      <td>0.0</td>\n",
       "      <td>0.0</td>\n",
       "      <td>0.0</td>\n",
       "      <td>0.0</td>\n",
       "      <td>0.0</td>\n",
       "      <td>0.0</td>\n",
       "      <td>1.0</td>\n",
       "      <td>0.0</td>\n",
       "      <td>-0.386145</td>\n",
       "      <td>0.735567</td>\n",
       "      <td>-0.565922</td>\n",
       "      <td>0.195414</td>\n",
       "      <td>1.671136</td>\n",
       "    </tr>\n",
       "    <tr>\n",
       "      <th>2</th>\n",
       "      <td>1.0</td>\n",
       "      <td>0.0</td>\n",
       "      <td>0.0</td>\n",
       "      <td>0.0</td>\n",
       "      <td>0.0</td>\n",
       "      <td>0.0</td>\n",
       "      <td>0.0</td>\n",
       "      <td>0.0</td>\n",
       "      <td>0.0</td>\n",
       "      <td>0.0</td>\n",
       "      <td>0.0</td>\n",
       "      <td>0.0</td>\n",
       "      <td>1.0</td>\n",
       "      <td>0.0</td>\n",
       "      <td>0.0</td>\n",
       "      <td>0.0</td>\n",
       "      <td>0.0</td>\n",
       "      <td>1.0</td>\n",
       "      <td>0.0</td>\n",
       "      <td>0.0</td>\n",
       "      <td>0.0</td>\n",
       "      <td>0.0</td>\n",
       "      <td>1.0</td>\n",
       "      <td>0.0</td>\n",
       "      <td>1.0</td>\n",
       "      <td>0.0</td>\n",
       "      <td>0.0</td>\n",
       "      <td>0.0</td>\n",
       "      <td>0.0</td>\n",
       "      <td>0.0</td>\n",
       "      <td>0.0</td>\n",
       "      <td>0.0</td>\n",
       "      <td>1.0</td>\n",
       "      <td>0.0</td>\n",
       "      <td>0.0</td>\n",
       "      <td>0.0</td>\n",
       "      <td>0.0</td>\n",
       "      <td>0.0</td>\n",
       "      <td>0.0</td>\n",
       "      <td>1.0</td>\n",
       "      <td>0.0</td>\n",
       "      <td>-0.386145</td>\n",
       "      <td>-0.556492</td>\n",
       "      <td>-0.565922</td>\n",
       "      <td>0.195414</td>\n",
       "      <td>1.671136</td>\n",
       "    </tr>\n",
       "    <tr>\n",
       "      <th>3</th>\n",
       "      <td>1.0</td>\n",
       "      <td>0.0</td>\n",
       "      <td>0.0</td>\n",
       "      <td>0.0</td>\n",
       "      <td>0.0</td>\n",
       "      <td>0.0</td>\n",
       "      <td>0.0</td>\n",
       "      <td>0.0</td>\n",
       "      <td>0.0</td>\n",
       "      <td>0.0</td>\n",
       "      <td>0.0</td>\n",
       "      <td>0.0</td>\n",
       "      <td>1.0</td>\n",
       "      <td>0.0</td>\n",
       "      <td>0.0</td>\n",
       "      <td>0.0</td>\n",
       "      <td>0.0</td>\n",
       "      <td>0.0</td>\n",
       "      <td>0.0</td>\n",
       "      <td>0.0</td>\n",
       "      <td>1.0</td>\n",
       "      <td>0.0</td>\n",
       "      <td>1.0</td>\n",
       "      <td>0.0</td>\n",
       "      <td>1.0</td>\n",
       "      <td>0.0</td>\n",
       "      <td>0.0</td>\n",
       "      <td>0.0</td>\n",
       "      <td>0.0</td>\n",
       "      <td>0.0</td>\n",
       "      <td>0.0</td>\n",
       "      <td>0.0</td>\n",
       "      <td>1.0</td>\n",
       "      <td>0.0</td>\n",
       "      <td>0.0</td>\n",
       "      <td>0.0</td>\n",
       "      <td>0.0</td>\n",
       "      <td>0.0</td>\n",
       "      <td>0.0</td>\n",
       "      <td>1.0</td>\n",
       "      <td>1.0</td>\n",
       "      <td>-0.290186</td>\n",
       "      <td>-0.537207</td>\n",
       "      <td>-0.565922</td>\n",
       "      <td>-5.117342</td>\n",
       "      <td>1.671136</td>\n",
       "    </tr>\n",
       "    <tr>\n",
       "      <th>4</th>\n",
       "      <td>0.0</td>\n",
       "      <td>0.0</td>\n",
       "      <td>0.0</td>\n",
       "      <td>0.0</td>\n",
       "      <td>0.0</td>\n",
       "      <td>0.0</td>\n",
       "      <td>1.0</td>\n",
       "      <td>0.0</td>\n",
       "      <td>0.0</td>\n",
       "      <td>0.0</td>\n",
       "      <td>0.0</td>\n",
       "      <td>0.0</td>\n",
       "      <td>1.0</td>\n",
       "      <td>0.0</td>\n",
       "      <td>0.0</td>\n",
       "      <td>0.0</td>\n",
       "      <td>0.0</td>\n",
       "      <td>0.0</td>\n",
       "      <td>0.0</td>\n",
       "      <td>0.0</td>\n",
       "      <td>1.0</td>\n",
       "      <td>0.0</td>\n",
       "      <td>1.0</td>\n",
       "      <td>0.0</td>\n",
       "      <td>1.0</td>\n",
       "      <td>0.0</td>\n",
       "      <td>0.0</td>\n",
       "      <td>0.0</td>\n",
       "      <td>0.0</td>\n",
       "      <td>0.0</td>\n",
       "      <td>0.0</td>\n",
       "      <td>0.0</td>\n",
       "      <td>1.0</td>\n",
       "      <td>0.0</td>\n",
       "      <td>0.0</td>\n",
       "      <td>0.0</td>\n",
       "      <td>0.0</td>\n",
       "      <td>1.0</td>\n",
       "      <td>0.0</td>\n",
       "      <td>0.0</td>\n",
       "      <td>0.0</td>\n",
       "      <td>-1.057857</td>\n",
       "      <td>-0.664485</td>\n",
       "      <td>-0.565922</td>\n",
       "      <td>0.195414</td>\n",
       "      <td>1.671136</td>\n",
       "    </tr>\n",
       "    <tr>\n",
       "      <th>...</th>\n",
       "      <td>...</td>\n",
       "      <td>...</td>\n",
       "      <td>...</td>\n",
       "      <td>...</td>\n",
       "      <td>...</td>\n",
       "      <td>...</td>\n",
       "      <td>...</td>\n",
       "      <td>...</td>\n",
       "      <td>...</td>\n",
       "      <td>...</td>\n",
       "      <td>...</td>\n",
       "      <td>...</td>\n",
       "      <td>...</td>\n",
       "      <td>...</td>\n",
       "      <td>...</td>\n",
       "      <td>...</td>\n",
       "      <td>...</td>\n",
       "      <td>...</td>\n",
       "      <td>...</td>\n",
       "      <td>...</td>\n",
       "      <td>...</td>\n",
       "      <td>...</td>\n",
       "      <td>...</td>\n",
       "      <td>...</td>\n",
       "      <td>...</td>\n",
       "      <td>...</td>\n",
       "      <td>...</td>\n",
       "      <td>...</td>\n",
       "      <td>...</td>\n",
       "      <td>...</td>\n",
       "      <td>...</td>\n",
       "      <td>...</td>\n",
       "      <td>...</td>\n",
       "      <td>...</td>\n",
       "      <td>...</td>\n",
       "      <td>...</td>\n",
       "      <td>...</td>\n",
       "      <td>...</td>\n",
       "      <td>...</td>\n",
       "      <td>...</td>\n",
       "      <td>...</td>\n",
       "      <td>...</td>\n",
       "      <td>...</td>\n",
       "      <td>...</td>\n",
       "      <td>...</td>\n",
       "      <td>...</td>\n",
       "    </tr>\n",
       "    <tr>\n",
       "      <th>4647</th>\n",
       "      <td>0.0</td>\n",
       "      <td>0.0</td>\n",
       "      <td>0.0</td>\n",
       "      <td>0.0</td>\n",
       "      <td>0.0</td>\n",
       "      <td>1.0</td>\n",
       "      <td>0.0</td>\n",
       "      <td>0.0</td>\n",
       "      <td>0.0</td>\n",
       "      <td>0.0</td>\n",
       "      <td>0.0</td>\n",
       "      <td>0.0</td>\n",
       "      <td>1.0</td>\n",
       "      <td>0.0</td>\n",
       "      <td>0.0</td>\n",
       "      <td>0.0</td>\n",
       "      <td>0.0</td>\n",
       "      <td>0.0</td>\n",
       "      <td>0.0</td>\n",
       "      <td>0.0</td>\n",
       "      <td>1.0</td>\n",
       "      <td>0.0</td>\n",
       "      <td>1.0</td>\n",
       "      <td>0.0</td>\n",
       "      <td>0.0</td>\n",
       "      <td>0.0</td>\n",
       "      <td>0.0</td>\n",
       "      <td>0.0</td>\n",
       "      <td>0.0</td>\n",
       "      <td>0.0</td>\n",
       "      <td>0.0</td>\n",
       "      <td>0.0</td>\n",
       "      <td>1.0</td>\n",
       "      <td>0.0</td>\n",
       "      <td>0.0</td>\n",
       "      <td>0.0</td>\n",
       "      <td>0.0</td>\n",
       "      <td>1.0</td>\n",
       "      <td>0.0</td>\n",
       "      <td>0.0</td>\n",
       "      <td>0.0</td>\n",
       "      <td>2.108788</td>\n",
       "      <td>0.272740</td>\n",
       "      <td>-0.565922</td>\n",
       "      <td>0.195414</td>\n",
       "      <td>3.691766</td>\n",
       "    </tr>\n",
       "    <tr>\n",
       "      <th>4648</th>\n",
       "      <td>0.0</td>\n",
       "      <td>0.0</td>\n",
       "      <td>0.0</td>\n",
       "      <td>0.0</td>\n",
       "      <td>0.0</td>\n",
       "      <td>1.0</td>\n",
       "      <td>0.0</td>\n",
       "      <td>0.0</td>\n",
       "      <td>0.0</td>\n",
       "      <td>0.0</td>\n",
       "      <td>0.0</td>\n",
       "      <td>0.0</td>\n",
       "      <td>1.0</td>\n",
       "      <td>0.0</td>\n",
       "      <td>0.0</td>\n",
       "      <td>0.0</td>\n",
       "      <td>0.0</td>\n",
       "      <td>0.0</td>\n",
       "      <td>0.0</td>\n",
       "      <td>0.0</td>\n",
       "      <td>1.0</td>\n",
       "      <td>0.0</td>\n",
       "      <td>1.0</td>\n",
       "      <td>0.0</td>\n",
       "      <td>0.0</td>\n",
       "      <td>0.0</td>\n",
       "      <td>0.0</td>\n",
       "      <td>0.0</td>\n",
       "      <td>0.0</td>\n",
       "      <td>0.0</td>\n",
       "      <td>0.0</td>\n",
       "      <td>0.0</td>\n",
       "      <td>1.0</td>\n",
       "      <td>0.0</td>\n",
       "      <td>0.0</td>\n",
       "      <td>0.0</td>\n",
       "      <td>0.0</td>\n",
       "      <td>1.0</td>\n",
       "      <td>0.0</td>\n",
       "      <td>0.0</td>\n",
       "      <td>1.0</td>\n",
       "      <td>2.108788</td>\n",
       "      <td>-0.193944</td>\n",
       "      <td>-0.565922</td>\n",
       "      <td>-5.144093</td>\n",
       "      <td>11.774288</td>\n",
       "    </tr>\n",
       "    <tr>\n",
       "      <th>4649</th>\n",
       "      <td>0.0</td>\n",
       "      <td>0.0</td>\n",
       "      <td>0.0</td>\n",
       "      <td>0.0</td>\n",
       "      <td>0.0</td>\n",
       "      <td>1.0</td>\n",
       "      <td>0.0</td>\n",
       "      <td>0.0</td>\n",
       "      <td>0.0</td>\n",
       "      <td>0.0</td>\n",
       "      <td>0.0</td>\n",
       "      <td>0.0</td>\n",
       "      <td>1.0</td>\n",
       "      <td>0.0</td>\n",
       "      <td>0.0</td>\n",
       "      <td>0.0</td>\n",
       "      <td>0.0</td>\n",
       "      <td>0.0</td>\n",
       "      <td>0.0</td>\n",
       "      <td>0.0</td>\n",
       "      <td>1.0</td>\n",
       "      <td>0.0</td>\n",
       "      <td>0.0</td>\n",
       "      <td>0.0</td>\n",
       "      <td>0.0</td>\n",
       "      <td>0.0</td>\n",
       "      <td>0.0</td>\n",
       "      <td>0.0</td>\n",
       "      <td>0.0</td>\n",
       "      <td>0.0</td>\n",
       "      <td>0.0</td>\n",
       "      <td>0.0</td>\n",
       "      <td>1.0</td>\n",
       "      <td>0.0</td>\n",
       "      <td>0.0</td>\n",
       "      <td>0.0</td>\n",
       "      <td>0.0</td>\n",
       "      <td>1.0</td>\n",
       "      <td>0.0</td>\n",
       "      <td>0.0</td>\n",
       "      <td>1.0</td>\n",
       "      <td>2.108788</td>\n",
       "      <td>0.866702</td>\n",
       "      <td>-0.204909</td>\n",
       "      <td>-5.117342</td>\n",
       "      <td>5.712397</td>\n",
       "    </tr>\n",
       "    <tr>\n",
       "      <th>4650</th>\n",
       "      <td>0.0</td>\n",
       "      <td>0.0</td>\n",
       "      <td>0.0</td>\n",
       "      <td>0.0</td>\n",
       "      <td>0.0</td>\n",
       "      <td>0.0</td>\n",
       "      <td>0.0</td>\n",
       "      <td>0.0</td>\n",
       "      <td>0.0</td>\n",
       "      <td>0.0</td>\n",
       "      <td>1.0</td>\n",
       "      <td>0.0</td>\n",
       "      <td>0.0</td>\n",
       "      <td>1.0</td>\n",
       "      <td>1.0</td>\n",
       "      <td>0.0</td>\n",
       "      <td>0.0</td>\n",
       "      <td>0.0</td>\n",
       "      <td>0.0</td>\n",
       "      <td>0.0</td>\n",
       "      <td>0.0</td>\n",
       "      <td>0.0</td>\n",
       "      <td>1.0</td>\n",
       "      <td>0.0</td>\n",
       "      <td>0.0</td>\n",
       "      <td>0.0</td>\n",
       "      <td>0.0</td>\n",
       "      <td>0.0</td>\n",
       "      <td>0.0</td>\n",
       "      <td>0.0</td>\n",
       "      <td>0.0</td>\n",
       "      <td>0.0</td>\n",
       "      <td>1.0</td>\n",
       "      <td>0.0</td>\n",
       "      <td>0.0</td>\n",
       "      <td>1.0</td>\n",
       "      <td>0.0</td>\n",
       "      <td>0.0</td>\n",
       "      <td>0.0</td>\n",
       "      <td>0.0</td>\n",
       "      <td>1.0</td>\n",
       "      <td>-1.057857</td>\n",
       "      <td>-0.564206</td>\n",
       "      <td>-0.565922</td>\n",
       "      <td>-5.101292</td>\n",
       "      <td>1.671136</td>\n",
       "    </tr>\n",
       "    <tr>\n",
       "      <th>4651</th>\n",
       "      <td>0.0</td>\n",
       "      <td>0.0</td>\n",
       "      <td>0.0</td>\n",
       "      <td>0.0</td>\n",
       "      <td>0.0</td>\n",
       "      <td>1.0</td>\n",
       "      <td>0.0</td>\n",
       "      <td>0.0</td>\n",
       "      <td>0.0</td>\n",
       "      <td>0.0</td>\n",
       "      <td>0.0</td>\n",
       "      <td>0.0</td>\n",
       "      <td>1.0</td>\n",
       "      <td>0.0</td>\n",
       "      <td>0.0</td>\n",
       "      <td>0.0</td>\n",
       "      <td>0.0</td>\n",
       "      <td>0.0</td>\n",
       "      <td>0.0</td>\n",
       "      <td>1.0</td>\n",
       "      <td>0.0</td>\n",
       "      <td>0.0</td>\n",
       "      <td>1.0</td>\n",
       "      <td>0.0</td>\n",
       "      <td>0.0</td>\n",
       "      <td>0.0</td>\n",
       "      <td>0.0</td>\n",
       "      <td>0.0</td>\n",
       "      <td>0.0</td>\n",
       "      <td>0.0</td>\n",
       "      <td>0.0</td>\n",
       "      <td>0.0</td>\n",
       "      <td>1.0</td>\n",
       "      <td>0.0</td>\n",
       "      <td>0.0</td>\n",
       "      <td>1.0</td>\n",
       "      <td>0.0</td>\n",
       "      <td>0.0</td>\n",
       "      <td>0.0</td>\n",
       "      <td>0.0</td>\n",
       "      <td>0.0</td>\n",
       "      <td>3.260295</td>\n",
       "      <td>-0.074380</td>\n",
       "      <td>0.156105</td>\n",
       "      <td>0.195414</td>\n",
       "      <td>1.671136</td>\n",
       "    </tr>\n",
       "  </tbody>\n",
       "</table>\n",
       "<p>4652 rows × 46 columns</p>\n",
       "</div>"
      ],
      "text/plain": [
       "      job_admin.  job_blue-collar  job_entrepreneur  job_housemaid  \\\n",
       "0            0.0              0.0               0.0            0.0   \n",
       "1            1.0              0.0               0.0            0.0   \n",
       "2            1.0              0.0               0.0            0.0   \n",
       "3            1.0              0.0               0.0            0.0   \n",
       "4            0.0              0.0               0.0            0.0   \n",
       "...          ...              ...               ...            ...   \n",
       "4647         0.0              0.0               0.0            0.0   \n",
       "4648         0.0              0.0               0.0            0.0   \n",
       "4649         0.0              0.0               0.0            0.0   \n",
       "4650         0.0              0.0               0.0            0.0   \n",
       "4651         0.0              0.0               0.0            0.0   \n",
       "\n",
       "      job_management  job_retired  job_self-employed  job_services  \\\n",
       "0                0.0          0.0                0.0           1.0   \n",
       "1                0.0          0.0                0.0           0.0   \n",
       "2                0.0          0.0                0.0           0.0   \n",
       "3                0.0          0.0                0.0           0.0   \n",
       "4                0.0          0.0                1.0           0.0   \n",
       "...              ...          ...                ...           ...   \n",
       "4647             0.0          1.0                0.0           0.0   \n",
       "4648             0.0          1.0                0.0           0.0   \n",
       "4649             0.0          1.0                0.0           0.0   \n",
       "4650             0.0          0.0                0.0           0.0   \n",
       "4651             0.0          1.0                0.0           0.0   \n",
       "\n",
       "      job_student  job_technician  job_unemployed  marital_divorced  \\\n",
       "0             0.0             0.0             0.0               0.0   \n",
       "1             0.0             0.0             0.0               0.0   \n",
       "2             0.0             0.0             0.0               0.0   \n",
       "3             0.0             0.0             0.0               0.0   \n",
       "4             0.0             0.0             0.0               0.0   \n",
       "...           ...             ...             ...               ...   \n",
       "4647          0.0             0.0             0.0               0.0   \n",
       "4648          0.0             0.0             0.0               0.0   \n",
       "4649          0.0             0.0             0.0               0.0   \n",
       "4650          0.0             0.0             1.0               0.0   \n",
       "4651          0.0             0.0             0.0               0.0   \n",
       "\n",
       "      marital_married  marital_single  education_basic.4y  education_basic.6y  \\\n",
       "0                 1.0             0.0                 0.0                 0.0   \n",
       "1                 1.0             0.0                 0.0                 0.0   \n",
       "2                 1.0             0.0                 0.0                 0.0   \n",
       "3                 1.0             0.0                 0.0                 0.0   \n",
       "4                 1.0             0.0                 0.0                 0.0   \n",
       "...               ...             ...                 ...                 ...   \n",
       "4647              1.0             0.0                 0.0                 0.0   \n",
       "4648              1.0             0.0                 0.0                 0.0   \n",
       "4649              1.0             0.0                 0.0                 0.0   \n",
       "4650              0.0             1.0                 1.0                 0.0   \n",
       "4651              1.0             0.0                 0.0                 0.0   \n",
       "\n",
       "      education_basic.9y  education_high.school  education_illiterate  \\\n",
       "0                    0.0                    1.0                   0.0   \n",
       "1                    0.0                    0.0                   0.0   \n",
       "2                    0.0                    1.0                   0.0   \n",
       "3                    0.0                    0.0                   0.0   \n",
       "4                    0.0                    0.0                   0.0   \n",
       "...                  ...                    ...                   ...   \n",
       "4647                 0.0                    0.0                   0.0   \n",
       "4648                 0.0                    0.0                   0.0   \n",
       "4649                 0.0                    0.0                   0.0   \n",
       "4650                 0.0                    0.0                   0.0   \n",
       "4651                 0.0                    0.0                   0.0   \n",
       "\n",
       "      education_professional.course  education_university.degree  default_yes  \\\n",
       "0                               0.0                          0.0          0.0   \n",
       "1                               0.0                          1.0          0.0   \n",
       "2                               0.0                          0.0          0.0   \n",
       "3                               0.0                          1.0          0.0   \n",
       "4                               0.0                          1.0          0.0   \n",
       "...                             ...                          ...          ...   \n",
       "4647                            0.0                          1.0          0.0   \n",
       "4648                            0.0                          1.0          0.0   \n",
       "4649                            0.0                          1.0          0.0   \n",
       "4650                            0.0                          0.0          0.0   \n",
       "4651                            1.0                          0.0          0.0   \n",
       "\n",
       "      housing_yes  loan_yes  contact_telephone  month_apr  month_aug  \\\n",
       "0             1.0       0.0                1.0        0.0        0.0   \n",
       "1             1.0       0.0                1.0        0.0        0.0   \n",
       "2             1.0       0.0                1.0        0.0        0.0   \n",
       "3             1.0       0.0                1.0        0.0        0.0   \n",
       "4             1.0       0.0                1.0        0.0        0.0   \n",
       "...           ...       ...                ...        ...        ...   \n",
       "4647          1.0       0.0                0.0        0.0        0.0   \n",
       "4648          1.0       0.0                0.0        0.0        0.0   \n",
       "4649          0.0       0.0                0.0        0.0        0.0   \n",
       "4650          1.0       0.0                0.0        0.0        0.0   \n",
       "4651          1.0       0.0                0.0        0.0        0.0   \n",
       "\n",
       "      month_dec  month_jul  month_jun  month_mar  month_may  month_nov  \\\n",
       "0           0.0        0.0        0.0        0.0        0.0        0.0   \n",
       "1           0.0        0.0        0.0        0.0        0.0        1.0   \n",
       "2           0.0        0.0        0.0        0.0        0.0        1.0   \n",
       "3           0.0        0.0        0.0        0.0        0.0        1.0   \n",
       "4           0.0        0.0        0.0        0.0        0.0        1.0   \n",
       "...         ...        ...        ...        ...        ...        ...   \n",
       "4647        0.0        0.0        0.0        0.0        0.0        1.0   \n",
       "4648        0.0        0.0        0.0        0.0        0.0        1.0   \n",
       "4649        0.0        0.0        0.0        0.0        0.0        1.0   \n",
       "4650        0.0        0.0        0.0        0.0        0.0        1.0   \n",
       "4651        0.0        0.0        0.0        0.0        0.0        1.0   \n",
       "\n",
       "      month_oct  month_sep  day_of_week_fri  day_of_week_mon  day_of_week_thu  \\\n",
       "0           1.0        0.0              0.0              0.0              0.0   \n",
       "1           0.0        0.0              0.0              0.0              0.0   \n",
       "2           0.0        0.0              0.0              0.0              0.0   \n",
       "3           0.0        0.0              0.0              0.0              0.0   \n",
       "4           0.0        0.0              0.0              0.0              1.0   \n",
       "...         ...        ...              ...              ...              ...   \n",
       "4647        0.0        0.0              0.0              0.0              1.0   \n",
       "4648        0.0        0.0              0.0              0.0              1.0   \n",
       "4649        0.0        0.0              0.0              0.0              1.0   \n",
       "4650        0.0        0.0              1.0              0.0              0.0   \n",
       "4651        0.0        0.0              1.0              0.0              0.0   \n",
       "\n",
       "      day_of_week_tue  day_of_week_wed  poutcome_success       age  duration  \\\n",
       "0                 1.0              0.0               0.0 -0.002309 -0.440785   \n",
       "1                 0.0              1.0               0.0 -0.386145  0.735567   \n",
       "2                 0.0              1.0               0.0 -0.386145 -0.556492   \n",
       "3                 0.0              1.0               1.0 -0.290186 -0.537207   \n",
       "4                 0.0              0.0               0.0 -1.057857 -0.664485   \n",
       "...               ...              ...               ...       ...       ...   \n",
       "4647              0.0              0.0               0.0  2.108788  0.272740   \n",
       "4648              0.0              0.0               1.0  2.108788 -0.193944   \n",
       "4649              0.0              0.0               1.0  2.108788  0.866702   \n",
       "4650              0.0              0.0               1.0 -1.057857 -0.564206   \n",
       "4651              0.0              0.0               0.0  3.260295 -0.074380   \n",
       "\n",
       "      campaign     pdays   previous  \n",
       "0    -0.565922  0.195414   1.671136  \n",
       "1    -0.565922  0.195414   1.671136  \n",
       "2    -0.565922  0.195414   1.671136  \n",
       "3    -0.565922 -5.117342   1.671136  \n",
       "4    -0.565922  0.195414   1.671136  \n",
       "...        ...       ...        ...  \n",
       "4647 -0.565922  0.195414   3.691766  \n",
       "4648 -0.565922 -5.144093  11.774288  \n",
       "4649 -0.204909 -5.117342   5.712397  \n",
       "4650 -0.565922 -5.101292   1.671136  \n",
       "4651  0.156105  0.195414   1.671136  \n",
       "\n",
       "[4652 rows x 46 columns]"
      ]
     },
     "execution_count": 1710,
     "metadata": {},
     "output_type": "execute_result"
    }
   ],
   "source": [
    "y1 = df1['y_yes']\n",
    "df1 = df1.drop(columns =['y_yes'])\n",
    "df1"
   ]
  },
  {
   "cell_type": "code",
   "execution_count": 1712,
   "metadata": {},
   "outputs": [
    {
     "data": {
      "text/plain": [
       "0       1.0\n",
       "1       0.0\n",
       "2       1.0\n",
       "3       0.0\n",
       "4       0.0\n",
       "       ... \n",
       "4647    1.0\n",
       "4648    1.0\n",
       "4649    1.0\n",
       "4650    0.0\n",
       "4651    0.0\n",
       "Name: y_yes, Length: 4652, dtype: float64"
      ]
     },
     "execution_count": 1712,
     "metadata": {},
     "output_type": "execute_result"
    }
   ],
   "source": [
    "y1"
   ]
  },
  {
   "cell_type": "code",
   "execution_count": null,
   "metadata": {},
   "outputs": [],
   "source": []
  },
  {
   "cell_type": "markdown",
   "metadata": {},
   "source": [
    "## Problem 6: Train/Test Split\n",
    "\n",
    "With your data prepared, split it into a train and test set."
   ]
  },
  {
   "cell_type": "code",
   "execution_count": 1716,
   "metadata": {},
   "outputs": [],
   "source": [
    "X1_train, X1_test, y1_train, y1_test = train_test_split(df1, y1, random_state=42)"
   ]
  },
  {
   "cell_type": "code",
   "execution_count": null,
   "metadata": {},
   "outputs": [],
   "source": []
  },
  {
   "cell_type": "markdown",
   "metadata": {},
   "source": [
    "#### Calculate the failure and success ratios"
   ]
  },
  {
   "cell_type": "code",
   "execution_count": 1720,
   "metadata": {},
   "outputs": [
    {
     "data": {
      "text/plain": [
       "y_yes\n",
       "0.0    855\n",
       "1.0    308\n",
       "Name: count, dtype: int64"
      ]
     },
     "execution_count": 1720,
     "metadata": {},
     "output_type": "execute_result"
    }
   ],
   "source": [
    "y1_test.value_counts()"
   ]
  },
  {
   "cell_type": "code",
   "execution_count": 1722,
   "metadata": {},
   "outputs": [
    {
     "data": {
      "text/plain": [
       "(0.7351676698194325, 0.2648323301805675)"
      ]
     },
     "execution_count": 1722,
     "metadata": {},
     "output_type": "execute_result"
    }
   ],
   "source": [
    "(855/(855+308), 308/(855+308))"
   ]
  },
  {
   "cell_type": "code",
   "execution_count": null,
   "metadata": {},
   "outputs": [],
   "source": []
  },
  {
   "cell_type": "markdown",
   "metadata": {},
   "source": [
    "## Problem 7: A Baseline Model\n",
    "\n",
    "Before we build our first model, we want to establish a baseline.  What is the baseline performance that our classifier should aim to beat?"
   ]
  },
  {
   "cell_type": "markdown",
   "metadata": {},
   "source": [
    "#### create a function to plot the confusion matrix and accuracy/precision/recall/specificity values"
   ]
  },
  {
   "cell_type": "code",
   "execution_count": 1727,
   "metadata": {},
   "outputs": [],
   "source": [
    "def plotConfusionMatrix(cm, model):\n",
    "    disp = ConfusionMatrixDisplay(confusion_matrix=cm, display_labels=model.classes_)\n",
    "    disp.plot()\n",
    "    plt.show()\n",
    "    if (cm[1][1] + cm[0][1]) != 0:\n",
    "        precision = cm[1][1]/(cm[1][1] + cm[0][1])\n",
    "    recall = cm[1][1]/(cm[1][1] + cm[1][0])\n",
    "    specificity = cm[0][0]/(cm[0][0] + cm[0][1])\n",
    "    accuracy = (cm[0][0] + cm[1][1])/(cm[0][0] + cm[1][1] + cm[0][1] + cm[1][0])\n",
    "    print('accuracy:', accuracy)\n",
    "    print('precision:', precision if (cm[1][1] + cm[0][1]) != 0 else \"Nan\")\n",
    "    print('recall:', recall)\n",
    "    print('specificity:', specificity)"
   ]
  },
  {
   "cell_type": "code",
   "execution_count": 1729,
   "metadata": {},
   "outputs": [],
   "source": [
    "dummy_clf = DummyClassifier().fit(X1_train, y1_train)"
   ]
  },
  {
   "cell_type": "code",
   "execution_count": 1731,
   "metadata": {},
   "outputs": [
    {
     "data": {
      "text/plain": [
       "0.7351676698194325"
      ]
     },
     "execution_count": 1731,
     "metadata": {},
     "output_type": "execute_result"
    }
   ],
   "source": [
    "accuracy_score(y1_test, dummy_clf.predict(X1_test))"
   ]
  },
  {
   "cell_type": "code",
   "execution_count": 1733,
   "metadata": {},
   "outputs": [],
   "source": [
    "cm = confusion_matrix(y1_test, dummy_clf.predict(X1_test))"
   ]
  },
  {
   "cell_type": "code",
   "execution_count": 1735,
   "metadata": {},
   "outputs": [
    {
     "data": {
      "image/png": "[encoded data removed]",
      "text/plain": [
       "<Figure size 640x480 with 2 Axes>"
      ]
     },
     "metadata": {},
     "output_type": "display_data"
    },
    {
     "name": "stdout",
     "output_type": "stream",
     "text": [
      "accuracy: 0.7351676698194325\n",
      "precision: Nan\n",
      "recall: 0.0\n",
      "specificity: 1.0\n"
     ]
    }
   ],
   "source": [
    "plotConfusionMatrix(cm, dummy_clf)"
   ]
  },
  {
   "cell_type": "code",
   "execution_count": null,
   "metadata": {},
   "outputs": [],
   "source": []
  },
  {
   "cell_type": "markdown",
   "metadata": {},
   "source": [
    "We see the dummy baseline model classify all samples as failures, its accuracy is the same as the the ratio of failue in the test data"
   ]
  },
  {
   "cell_type": "code",
   "execution_count": null,
   "metadata": {},
   "outputs": [],
   "source": []
  },
  {
   "cell_type": "markdown",
   "metadata": {},
   "source": [
    "## Problem 8: A Simple Model\n",
    "\n",
    "Use Logistic Regression to build a basic model on your data.  "
   ]
  },
  {
   "cell_type": "code",
   "execution_count": 1741,
   "metadata": {},
   "outputs": [
    {
     "name": "stdout",
     "output_type": "stream",
     "text": [
      "Training time: 0.2366 seconds\n"
     ]
    }
   ],
   "source": [
    "start_time = time.time()\n",
    "lgr1 = LogisticRegression(max_iter=1000).fit(X1_train, y1_train)\n",
    "end_time = time.time()\n",
    "training_time = end_time - start_time\n",
    "print(f\"Training time: {training_time:.4f} seconds\")"
   ]
  },
  {
   "cell_type": "code",
   "execution_count": 1743,
   "metadata": {},
   "outputs": [
    {
     "data": {
      "text/plain": [
       "0.825164803668673"
      ]
     },
     "execution_count": 1743,
     "metadata": {},
     "output_type": "execute_result"
    }
   ],
   "source": [
    "accuracy_score(y1_train, lgr1.predict(X1_train))"
   ]
  },
  {
   "cell_type": "code",
   "execution_count": 1745,
   "metadata": {},
   "outputs": [
    {
     "data": {
      "text/plain": [
       "0.8306104901117799"
      ]
     },
     "execution_count": 1745,
     "metadata": {},
     "output_type": "execute_result"
    }
   ],
   "source": [
    "accuracy_score(y1_test, lgr1.predict(X1_test))"
   ]
  },
  {
   "cell_type": "code",
   "execution_count": null,
   "metadata": {},
   "outputs": [],
   "source": []
  },
  {
   "cell_type": "code",
   "execution_count": null,
   "metadata": {},
   "outputs": [],
   "source": []
  },
  {
   "cell_type": "code",
   "execution_count": 1749,
   "metadata": {},
   "outputs": [
    {
     "data": {
      "text/plain": [
       "array([[ 0.17876255, -0.38698106, -0.46342035, -0.21907029, -0.05034802,\n",
       "         0.26785505, -0.24435173, -0.18653338,  0.50641496,  0.19551257,\n",
       "         0.39887847, -0.05950545,  0.03815821,  0.018066  , -0.06196977,\n",
       "        -0.0285049 , -0.08833048, -0.02894874,  0.        ,  0.10161755,\n",
       "         0.1028551 , -0.10368775,  0.01415378, -0.07202286, -0.27827587,\n",
       "        -0.73929244,  0.18575405, -0.20228828,  0.47305868,  0.38180625,\n",
       "         0.69739195, -0.91207171, -0.72141652,  0.51230677,  0.32147003,\n",
       "        -0.1323278 , -0.15091839,  0.07710345,  0.06089368,  0.14196782,\n",
       "         0.88271481,  0.13022914,  1.05744804, -0.30249735, -0.21769253,\n",
       "         0.06029324]])"
      ]
     },
     "execution_count": 1749,
     "metadata": {},
     "output_type": "execute_result"
    }
   ],
   "source": [
    "lgr1.coef_"
   ]
  },
  {
   "cell_type": "code",
   "execution_count": 1751,
   "metadata": {},
   "outputs": [
    {
     "data": {
      "text/plain": [
       "[(1.0574480378974689, 'duration'),\n",
       " (0.882714806798787, 'poutcome_success'),\n",
       " (0.6973919494750519, 'month_mar'),\n",
       " (0.5123067746897617, 'month_oct'),\n",
       " (0.5064149617452057, 'job_student'),\n",
       " (0.4730586771274644, 'month_jul'),\n",
       " (0.3988784687299772, 'job_unemployed'),\n",
       " (0.38180624549168046, 'month_jun'),\n",
       " (0.3214700274798208, 'month_sep'),\n",
       " (0.26785505485167665, 'job_retired'),\n",
       " (0.1955125745571387, 'job_technician'),\n",
       " (0.18575405091366523, 'month_aug'),\n",
       " (0.17876254829996552, 'job_admin.'),\n",
       " (0.14196782054843177, 'day_of_week_wed'),\n",
       " (0.1302291419285368, 'age'),\n",
       " (0.10285510439532165, 'education_university.degree'),\n",
       " (0.10161754887137565, 'education_professional.course'),\n",
       " (0.07710344970274265, 'day_of_week_thu'),\n",
       " (0.06089368310854164, 'day_of_week_tue'),\n",
       " (0.06029324141682057, 'previous'),\n",
       " (0.038158212700523296, 'marital_married'),\n",
       " (0.018066003374921945, 'marital_single'),\n",
       " (0.014153778004390997, 'housing_yes'),\n",
       " (0.0, 'education_illiterate'),\n",
       " (-0.02850489567628453, 'education_basic.6y'),\n",
       " (-0.02894874308077294, 'education_high.school'),\n",
       " (-0.05034802165434626, 'job_management'),\n",
       " (-0.059505446624990216, 'marital_divorced'),\n",
       " (-0.06196976636081426, 'education_basic.4y'),\n",
       " (-0.07202286449010675, 'loan_yes'),\n",
       " (-0.0883304786983779, 'education_basic.9y'),\n",
       " (-0.10368775355108485, 'default_yes'),\n",
       " (-0.1323277972010892, 'day_of_week_fri'),\n",
       " (-0.15091838670817628, 'day_of_week_mon'),\n",
       " (-0.18653338278430437, 'job_services'),\n",
       " (-0.20228828261729315, 'month_dec'),\n",
       " (-0.21769253025387855, 'pdays'),\n",
       " (-0.21907029251449495, 'job_housemaid'),\n",
       " (-0.2443517320631308, 'job_self-employed'),\n",
       " (-0.27827586821463834, 'contact_telephone'),\n",
       " (-0.30249734788688365, 'campaign'),\n",
       " (-0.38698106302996305, 'job_blue-collar'),\n",
       " (-0.46342034668726917, 'job_entrepreneur'),\n",
       " (-0.7214165189037064, 'month_nov'),\n",
       " (-0.7392924406358038, 'month_apr'),\n",
       " (-0.9120717135701591, 'month_may')]"
      ]
     },
     "execution_count": 1751,
     "metadata": {},
     "output_type": "execute_result"
    }
   ],
   "source": [
    "sorted(list(zip(lgr1.coef_[0], X1_test.columns.tolist())), reverse=True)"
   ]
  },
  {
   "cell_type": "markdown",
   "metadata": {},
   "source": [
    "duration and poutcome_success are most important features in this model, which makes sense"
   ]
  },
  {
   "cell_type": "code",
   "execution_count": null,
   "metadata": {},
   "outputs": [],
   "source": []
  },
  {
   "cell_type": "markdown",
   "metadata": {},
   "source": [
    "## Problem 9: Score the Model\n",
    "\n",
    "What is the accuracy of your model?"
   ]
  },
  {
   "cell_type": "code",
   "execution_count": 1756,
   "metadata": {},
   "outputs": [
    {
     "data": {
      "image/png": "[encoded data removed]",
      "text/plain": [
       "<Figure size 640x480 with 2 Axes>"
      ]
     },
     "metadata": {},
     "output_type": "display_data"
    },
    {
     "name": "stdout",
     "output_type": "stream",
     "text": [
      "accuracy: 0.8306104901117799\n",
      "precision: 0.7018181818181818\n",
      "recall: 0.6266233766233766\n",
      "specificity: 0.904093567251462\n"
     ]
    }
   ],
   "source": [
    "cm = confusion_matrix(y1_test, lgr1.predict(X1_test))\n",
    "plotConfusionMatrix(cm, lgr1)"
   ]
  },
  {
   "cell_type": "code",
   "execution_count": null,
   "metadata": {},
   "outputs": [],
   "source": []
  },
  {
   "cell_type": "markdown",
   "metadata": {},
   "source": [
    "The accuracy is 0.8306"
   ]
  },
  {
   "cell_type": "markdown",
   "metadata": {},
   "source": [
    "## Problem 10: Model Comparisons\n",
    "\n",
    "Now, we aim to compare the performance of the Logistic Regression model to our KNN algorithm, Decision Tree, and SVM models.  Using the default settings for each of the models, fit and score each.  Also, be sure to compare the fit time of each of the models.  Present your findings in a `DataFrame` similar to that below:\n",
    "\n",
    "| Model | Train Time | Train Accuracy | Test Accuracy |\n",
    "| ----- | ---------- | -------------  | -----------   |\n",
    "|     |    |.     |.     |"
   ]
  },
  {
   "cell_type": "code",
   "execution_count": 1761,
   "metadata": {},
   "outputs": [
    {
     "data": {
      "text/html": [
       "<div>\n",
       "<style scoped>\n",
       "    .dataframe tbody tr th:only-of-type {\n",
       "        vertical-align: middle;\n",
       "    }\n",
       "\n",
       "    .dataframe tbody tr th {\n",
       "        vertical-align: top;\n",
       "    }\n",
       "\n",
       "    .dataframe thead th {\n",
       "        text-align: right;\n",
       "    }\n",
       "</style>\n",
       "<table border=\"1\" class=\"dataframe\">\n",
       "  <thead>\n",
       "    <tr style=\"text-align: right;\">\n",
       "      <th></th>\n",
       "      <th>Model</th>\n",
       "      <th>Train Time\\t</th>\n",
       "      <th>Train Accuracy</th>\n",
       "      <th>Test Accuracy</th>\n",
       "    </tr>\n",
       "  </thead>\n",
       "  <tbody>\n",
       "    <tr>\n",
       "      <th>0</th>\n",
       "      <td>LogisticRegression</td>\n",
       "      <td>0.0782</td>\n",
       "      <td>0.825165</td>\n",
       "      <td>0.830610</td>\n",
       "    </tr>\n",
       "    <tr>\n",
       "      <th>1</th>\n",
       "      <td>SVM</td>\n",
       "      <td>0.1376</td>\n",
       "      <td>0.850387</td>\n",
       "      <td>0.845228</td>\n",
       "    </tr>\n",
       "    <tr>\n",
       "      <th>2</th>\n",
       "      <td>DecisionTree</td>\n",
       "      <td>0.0235</td>\n",
       "      <td>1.000000</td>\n",
       "      <td>0.777300</td>\n",
       "    </tr>\n",
       "    <tr>\n",
       "      <th>3</th>\n",
       "      <td>KNN</td>\n",
       "      <td>0.0057</td>\n",
       "      <td>0.858985</td>\n",
       "      <td>0.823732</td>\n",
       "    </tr>\n",
       "  </tbody>\n",
       "</table>\n",
       "</div>"
      ],
      "text/plain": [
       "                Model  Train Time\\t  Train Accuracy  Test Accuracy\n",
       "0  LogisticRegression        0.0782        0.825165       0.830610\n",
       "1                 SVM        0.1376        0.850387       0.845228\n",
       "2        DecisionTree        0.0235        1.000000       0.777300\n",
       "3                 KNN        0.0057        0.858985       0.823732"
      ]
     },
     "execution_count": 1761,
     "metadata": {},
     "output_type": "execute_result"
    }
   ],
   "source": [
    "data = {\n",
    "    'Model':['LogisticRegression', 'SVM', 'DecisionTree', 'KNN'],\n",
    "    'Train Time\t': [0.0782, 0.1376, 0.0235, 0.0057],\n",
    "    'Train Accuracy': [0.825164803668673, 0.8503869303525365, 1.0, 0.8589853826311264],\n",
    "    'Test Accuracy': [0.8306104901117799, 0.8452278589853827, 0.7773000859845228, 0.823731728288908]\n",
    "}\n",
    "# index_labels = ['LogisticRegression', 'SVM', 'DecisionTree-6', 'KNN-7']\n",
    "pd.DataFrame(data)"
   ]
  },
  {
   "cell_type": "code",
   "execution_count": null,
   "metadata": {},
   "outputs": [],
   "source": []
  },
  {
   "cell_type": "markdown",
   "metadata": {},
   "source": [
    "### SVM"
   ]
  },
  {
   "cell_type": "code",
   "execution_count": 1765,
   "metadata": {},
   "outputs": [
    {
     "name": "stdout",
     "output_type": "stream",
     "text": [
      "Training time: 0.1432 seconds\n",
      "0.8452278589853827\n"
     ]
    }
   ],
   "source": [
    "start_time = time.time()\n",
    "svc1 = SVC().fit(X1_train, y1_train)\n",
    "end_time = time.time()\n",
    "training_time = end_time - start_time\n",
    "print(f\"Training time: {training_time:.4f} seconds\")\n",
    "print(svc1.score(X1_test, y1_test))"
   ]
  },
  {
   "cell_type": "code",
   "execution_count": 1767,
   "metadata": {},
   "outputs": [
    {
     "data": {
      "text/plain": [
       "0.8503869303525365"
      ]
     },
     "execution_count": 1767,
     "metadata": {},
     "output_type": "execute_result"
    }
   ],
   "source": [
    "accuracy_score(y1_train, svc1.predict(X1_train))"
   ]
  },
  {
   "cell_type": "code",
   "execution_count": 1769,
   "metadata": {},
   "outputs": [
    {
     "data": {
      "image/png": "[encoded data removed]",
      "text/plain": [
       "<Figure size 640x480 with 2 Axes>"
      ]
     },
     "metadata": {},
     "output_type": "display_data"
    },
    {
     "name": "stdout",
     "output_type": "stream",
     "text": [
      "accuracy: 0.8452278589853827\n",
      "precision: 0.7269503546099291\n",
      "recall: 0.6655844155844156\n",
      "specificity: 0.9099415204678363\n"
     ]
    }
   ],
   "source": [
    "cm = confusion_matrix(y1_test, svc1.predict(X1_test))\n",
    "plotConfusionMatrix(cm, svc1)"
   ]
  },
  {
   "cell_type": "code",
   "execution_count": null,
   "metadata": {},
   "outputs": [],
   "source": []
  },
  {
   "cell_type": "markdown",
   "metadata": {},
   "source": [
    "### DecisionTree"
   ]
  },
  {
   "cell_type": "code",
   "execution_count": 1773,
   "metadata": {},
   "outputs": [
    {
     "name": "stdout",
     "output_type": "stream",
     "text": [
      "Training time: 0.0127 seconds\n"
     ]
    }
   ],
   "source": [
    "start_time = time.time()\n",
    "dtc1 = DecisionTreeClassifier().fit(X1_train, y1_train)\n",
    "end_time = time.time()\n",
    "training_time = end_time - start_time\n",
    "print(f\"Training time: {training_time:.4f} seconds\")"
   ]
  },
  {
   "cell_type": "code",
   "execution_count": 1775,
   "metadata": {},
   "outputs": [
    {
     "data": {
      "text/plain": [
       "1.0"
      ]
     },
     "execution_count": 1775,
     "metadata": {},
     "output_type": "execute_result"
    }
   ],
   "source": [
    "accuracy_score(y1_train, dtc1.predict(X1_train))"
   ]
  },
  {
   "cell_type": "code",
   "execution_count": 1777,
   "metadata": {},
   "outputs": [
    {
     "data": {
      "text/plain": [
       "0.7858985382631126"
      ]
     },
     "execution_count": 1777,
     "metadata": {},
     "output_type": "execute_result"
    }
   ],
   "source": [
    "accuracy_score(y1_test, dtc1.predict(X1_test))"
   ]
  },
  {
   "cell_type": "code",
   "execution_count": 1779,
   "metadata": {},
   "outputs": [
    {
     "data": {
      "image/png": "[encoded data removed]",
      "text/plain": [
       "<Figure size 640x480 with 2 Axes>"
      ]
     },
     "metadata": {},
     "output_type": "display_data"
    },
    {
     "name": "stdout",
     "output_type": "stream",
     "text": [
      "accuracy: 0.7858985382631126\n",
      "precision: 0.5880597014925373\n",
      "recall: 0.6396103896103896\n",
      "specificity: 0.8385964912280702\n"
     ]
    }
   ],
   "source": [
    "cm = confusion_matrix(y1_test, dtc1.predict(X1_test))\n",
    "plotConfusionMatrix(cm, dtc1)"
   ]
  },
  {
   "cell_type": "code",
   "execution_count": null,
   "metadata": {},
   "outputs": [],
   "source": []
  },
  {
   "cell_type": "markdown",
   "metadata": {},
   "source": [
    "#### check tree depth"
   ]
  },
  {
   "cell_type": "code",
   "execution_count": 1783,
   "metadata": {},
   "outputs": [
    {
     "data": {
      "text/plain": [
       "24"
      ]
     },
     "execution_count": 1783,
     "metadata": {},
     "output_type": "execute_result"
    }
   ],
   "source": [
    "dtc1.tree_.max_depth"
   ]
  },
  {
   "cell_type": "markdown",
   "metadata": {},
   "source": [
    "#### check feature importantance"
   ]
  },
  {
   "cell_type": "code",
   "execution_count": 1786,
   "metadata": {},
   "outputs": [
    {
     "data": {
      "text/plain": [
       "[(0.27742151416301, 'pdays'),\n",
       " (0.26059064564116224, 'duration'),\n",
       " (0.07681872543337902, 'age'),\n",
       " (0.030923352569738678, 'campaign'),\n",
       " (0.022105038522067043, 'housing_yes'),\n",
       " (0.020456080274740614, 'day_of_week_tue'),\n",
       " (0.019454112739984753, 'month_may'),\n",
       " (0.018902125213188486, 'month_apr'),\n",
       " (0.018046446051447743, 'day_of_week_wed'),\n",
       " (0.016175224776289573, 'previous'),\n",
       " (0.015080638395979453, 'job_admin.'),\n",
       " (0.01466918865094525, 'day_of_week_thu'),\n",
       " (0.012607914565690737, 'marital_single'),\n",
       " (0.012504150422362251, 'month_nov'),\n",
       " (0.01231662685463943, 'marital_married'),\n",
       " (0.011707762429261906, 'job_technician'),\n",
       " (0.011593875775758381, 'day_of_week_fri'),\n",
       " (0.010905026424745026, 'education_university.degree'),\n",
       " (0.010618932965858955, 'day_of_week_mon'),\n",
       " (0.009242012665474173, 'month_jun'),\n",
       " (0.009011743405454159, 'month_oct'),\n",
       " (0.008682114388175803, 'education_professional.course'),\n",
       " (0.007978893972058273, 'loan_yes'),\n",
       " (0.007891200382833535, 'marital_divorced'),\n",
       " (0.007613957815692595, 'education_high.school'),\n",
       " (0.0069753363837511935, 'job_services'),\n",
       " (0.005663659647841889, 'education_basic.4y'),\n",
       " (0.005376869200236479, 'month_sep'),\n",
       " (0.005288590197566723, 'job_entrepreneur'),\n",
       " (0.004972263366115252, 'month_mar'),\n",
       " (0.004881542841677345, 'job_management'),\n",
       " (0.00485285113371462, 'education_basic.9y'),\n",
       " (0.004397723706460714, 'contact_telephone'),\n",
       " (0.0042695892757524615, 'month_jul'),\n",
       " (0.004068366551294809, 'job_blue-collar'),\n",
       " (0.004008034166807015, 'education_basic.6y'),\n",
       " (0.0039879352282689694, 'month_aug'),\n",
       " (0.003604991577929827, 'job_retired'),\n",
       " (0.003068130042455417, 'month_dec'),\n",
       " (0.0030638399494643076, 'job_unemployed'),\n",
       " (0.002752068241877211, 'job_housemaid'),\n",
       " (0.0027386794834114857, 'job_self-employed'),\n",
       " (0.0017917241002428348, 'job_student'),\n",
       " (0.0009205004051935147, 'poutcome_success'),\n",
       " (0.0, 'education_illiterate'),\n",
       " (0.0, 'default_yes')]"
      ]
     },
     "execution_count": 1786,
     "metadata": {},
     "output_type": "execute_result"
    }
   ],
   "source": [
    "sorted(zip(dtc1.feature_importances_, X1_test.columns.tolist()), reverse=True)"
   ]
  },
  {
   "cell_type": "code",
   "execution_count": null,
   "metadata": {},
   "outputs": [],
   "source": []
  },
  {
   "cell_type": "code",
   "execution_count": null,
   "metadata": {},
   "outputs": [],
   "source": []
  },
  {
   "cell_type": "markdown",
   "metadata": {},
   "source": [
    "### KNN"
   ]
  },
  {
   "cell_type": "code",
   "execution_count": 1791,
   "metadata": {},
   "outputs": [
    {
     "name": "stdout",
     "output_type": "stream",
     "text": [
      "Training time: 0.0028 seconds\n"
     ]
    },
    {
     "data": {
      "text/plain": [
       "0.823731728288908"
      ]
     },
     "execution_count": 1791,
     "metadata": {},
     "output_type": "execute_result"
    }
   ],
   "source": [
    "knn1 = KNeighborsClassifier()\n",
    "start_time = time.time()\n",
    "knn1.fit(X1_train, y1_train)\n",
    "end_time = time.time()\n",
    "training_time = end_time - start_time\n",
    "print(f\"Training time: {training_time:.4f} seconds\")\n",
    "knn1_acc = knn1.score(X1_test, y1_test)\n",
    "knn1_acc"
   ]
  },
  {
   "cell_type": "code",
   "execution_count": 1793,
   "metadata": {},
   "outputs": [
    {
     "data": {
      "text/plain": [
       "0.8589853826311264"
      ]
     },
     "execution_count": 1793,
     "metadata": {},
     "output_type": "execute_result"
    }
   ],
   "source": [
    "knn1.score(X1_train, y1_train)"
   ]
  },
  {
   "cell_type": "code",
   "execution_count": null,
   "metadata": {},
   "outputs": [],
   "source": []
  },
  {
   "cell_type": "markdown",
   "metadata": {},
   "source": [
    "## Problem 11: Improving the Model\n",
    "\n",
    "Now that we have some basic models on the board, we want to try to improve these.  Below, we list a few things to explore in this pursuit.\n",
    "\n",
    "- More feature engineering and exploration.  For example, should we keep the gender feature?  Why or why not?\n",
    "- Hyperparameter tuning and grid search.  All of our models have additional hyperparameters to tune and explore.  For example the number of neighbors in KNN or the maximum depth of a Decision Tree.  \n",
    "- Adjust your performance metric"
   ]
  },
  {
   "cell_type": "code",
   "execution_count": null,
   "metadata": {},
   "outputs": [],
   "source": []
  },
  {
   "cell_type": "markdown",
   "metadata": {},
   "source": [
    "#### Note!!! There is no gender feature in the dataset"
   ]
  },
  {
   "cell_type": "markdown",
   "metadata": {},
   "source": [
    "#### Use PolynomialFeatures with degree=2 to transform numerical features"
   ]
  },
  {
   "cell_type": "markdown",
   "metadata": {},
   "source": [
    "#### Then try tuning the hyperparameters and grid search"
   ]
  },
  {
   "cell_type": "markdown",
   "metadata": {},
   "source": [
    "I think we should use a different performance metric which focus more on recall and specificity, also with recall being given higher weigh than specificity. Each FalseNegative sample means we lose the opportunity to contact and convince the customer to participate in the campaign. Slightly lower specificity is okay as long as the resource put in to contact each False Positive customer isn't very high."
   ]
  },
  {
   "cell_type": "markdown",
   "metadata": {},
   "source": [
    "LogisticRegression is tuned by grid searching on parameter C/regularization, SVM is tuned by grid searching on gama, DecisionTree is tuned by grid searching on max-depth, KNN is tuned by grid searching on n_neighbors."
   ]
  },
  {
   "cell_type": "code",
   "execution_count": null,
   "metadata": {},
   "outputs": [],
   "source": []
  },
  {
   "cell_type": "markdown",
   "metadata": {},
   "source": [
    "The following is the table of test result. They are all quite close, DecisionTree(max_depth == 4) has the best recall."
   ]
  },
  {
   "cell_type": "code",
   "execution_count": 1805,
   "metadata": {},
   "outputs": [
    {
     "data": {
      "text/html": [
       "<div>\n",
       "<style scoped>\n",
       "    .dataframe tbody tr th:only-of-type {\n",
       "        vertical-align: middle;\n",
       "    }\n",
       "\n",
       "    .dataframe tbody tr th {\n",
       "        vertical-align: top;\n",
       "    }\n",
       "\n",
       "    .dataframe thead th {\n",
       "        text-align: right;\n",
       "    }\n",
       "</style>\n",
       "<table border=\"1\" class=\"dataframe\">\n",
       "  <thead>\n",
       "    <tr style=\"text-align: right;\">\n",
       "      <th></th>\n",
       "      <th>accuracy</th>\n",
       "      <th>precision</th>\n",
       "      <th>recall</th>\n",
       "      <th>specificity</th>\n",
       "    </tr>\n",
       "  </thead>\n",
       "  <tbody>\n",
       "    <tr>\n",
       "      <th>LogisticRegression</th>\n",
       "      <td>0.836629</td>\n",
       "      <td>0.702055</td>\n",
       "      <td>0.665584</td>\n",
       "      <td>0.898246</td>\n",
       "    </tr>\n",
       "    <tr>\n",
       "      <th>SVM</th>\n",
       "      <td>0.840929</td>\n",
       "      <td>0.722022</td>\n",
       "      <td>0.649351</td>\n",
       "      <td>0.909942</td>\n",
       "    </tr>\n",
       "    <tr>\n",
       "      <th>DecisionTree-4</th>\n",
       "      <td>0.849527</td>\n",
       "      <td>0.719472</td>\n",
       "      <td>0.707792</td>\n",
       "      <td>0.900585</td>\n",
       "    </tr>\n",
       "    <tr>\n",
       "      <th>KNN-21</th>\n",
       "      <td>0.837489</td>\n",
       "      <td>0.700337</td>\n",
       "      <td>0.675325</td>\n",
       "      <td>0.895906</td>\n",
       "    </tr>\n",
       "  </tbody>\n",
       "</table>\n",
       "</div>"
      ],
      "text/plain": [
       "                    accuracy  precision    recall  specificity\n",
       "LogisticRegression  0.836629   0.702055  0.665584     0.898246\n",
       "SVM                 0.840929   0.722022  0.649351     0.909942\n",
       "DecisionTree-4      0.849527   0.719472  0.707792     0.900585\n",
       "KNN-21              0.837489   0.700337  0.675325     0.895906"
      ]
     },
     "execution_count": 1805,
     "metadata": {},
     "output_type": "execute_result"
    }
   ],
   "source": [
    "data = {\n",
    "    'accuracy':[0.8366294067067928, 0.8409286328460877, 0.8495270851246776, 0.8374892519346517],\n",
    "    'precision': [0.702054794520548, 0.7220216606498195, 0.7194719471947195, 0.7003367003367004],\n",
    "    'recall': [0.6655844155844156, 0.6493506493506493, 0.7077922077922078, 0.6753246753246753],\n",
    "    'specificity': [0.8982456140350877, 0.9099415204678363, 0.9005847953216374, 0.895906432748538]\n",
    "}\n",
    "index_labels = ['LogisticRegression', 'SVM', 'DecisionTree-4', 'KNN-21']\n",
    "pd.DataFrame(data, index = index_labels)"
   ]
  },
  {
   "cell_type": "code",
   "execution_count": null,
   "metadata": {},
   "outputs": [],
   "source": []
  },
  {
   "cell_type": "code",
   "execution_count": 1808,
   "metadata": {},
   "outputs": [],
   "source": [
    "df0 = df.copy()\n",
    "df0 = df0.drop(columns = ['emp.var.rate', 'cons.price.idx', 'cons.conf.idx',\t'euribor3m', 'nr.employed'])"
   ]
  },
  {
   "cell_type": "code",
   "execution_count": 1810,
   "metadata": {},
   "outputs": [],
   "source": [
    "# df9[clms] = StandardScaler().fit_transform(df9[clms])\n",
    "poly_transform = PolynomialFeatures(degree=2, include_bias=False)\n",
    "# pd.DataFrame(poly_transform.fit_transform(df7[['cylinders', 'odometer', 'age']]), columns=poly_transform.get_feature_names_out())"
   ]
  },
  {
   "cell_type": "code",
   "execution_count": 1812,
   "metadata": {},
   "outputs": [],
   "source": [
    "df2 = removeUnknown(df0)\n",
    "df21 = df2.drop(columns=['age', 'duration', 'campaign', 'pdays', 'previous']).reset_index(drop=True)\n",
    "df2 = pd.concat([df21, pd.DataFrame(poly_transform.fit_transform(df2[['age', 'duration', 'campaign', 'pdays', 'previous']]), columns=poly_transform.get_feature_names_out())], axis=1)\n",
    "clms = poly_transform.get_feature_names_out()\n",
    "df2[clms] = StandardScaler().fit_transform(df2[clms])"
   ]
  },
  {
   "cell_type": "code",
   "execution_count": 1814,
   "metadata": {},
   "outputs": [
    {
     "data": {
      "text/html": [
       "<div>\n",
       "<style scoped>\n",
       "    .dataframe tbody tr th:only-of-type {\n",
       "        vertical-align: middle;\n",
       "    }\n",
       "\n",
       "    .dataframe tbody tr th {\n",
       "        vertical-align: top;\n",
       "    }\n",
       "\n",
       "    .dataframe thead th {\n",
       "        text-align: right;\n",
       "    }\n",
       "</style>\n",
       "<table border=\"1\" class=\"dataframe\">\n",
       "  <thead>\n",
       "    <tr style=\"text-align: right;\">\n",
       "      <th></th>\n",
       "      <th>job_admin.</th>\n",
       "      <th>job_blue-collar</th>\n",
       "      <th>job_entrepreneur</th>\n",
       "      <th>job_housemaid</th>\n",
       "      <th>job_management</th>\n",
       "      <th>job_retired</th>\n",
       "      <th>job_self-employed</th>\n",
       "      <th>job_services</th>\n",
       "      <th>job_student</th>\n",
       "      <th>job_technician</th>\n",
       "      <th>job_unemployed</th>\n",
       "      <th>marital_divorced</th>\n",
       "      <th>marital_married</th>\n",
       "      <th>marital_single</th>\n",
       "      <th>education_basic.4y</th>\n",
       "      <th>education_basic.6y</th>\n",
       "      <th>education_basic.9y</th>\n",
       "      <th>education_high.school</th>\n",
       "      <th>education_illiterate</th>\n",
       "      <th>education_professional.course</th>\n",
       "      <th>education_university.degree</th>\n",
       "      <th>default_yes</th>\n",
       "      <th>housing_yes</th>\n",
       "      <th>loan_yes</th>\n",
       "      <th>contact_telephone</th>\n",
       "      <th>month_apr</th>\n",
       "      <th>month_aug</th>\n",
       "      <th>month_dec</th>\n",
       "      <th>month_jul</th>\n",
       "      <th>month_jun</th>\n",
       "      <th>month_mar</th>\n",
       "      <th>month_may</th>\n",
       "      <th>month_nov</th>\n",
       "      <th>month_oct</th>\n",
       "      <th>month_sep</th>\n",
       "      <th>day_of_week_fri</th>\n",
       "      <th>day_of_week_mon</th>\n",
       "      <th>day_of_week_thu</th>\n",
       "      <th>day_of_week_tue</th>\n",
       "      <th>day_of_week_wed</th>\n",
       "      <th>poutcome_success</th>\n",
       "      <th>age</th>\n",
       "      <th>duration</th>\n",
       "      <th>campaign</th>\n",
       "      <th>pdays</th>\n",
       "      <th>previous</th>\n",
       "      <th>age^2</th>\n",
       "      <th>age duration</th>\n",
       "      <th>age campaign</th>\n",
       "      <th>age pdays</th>\n",
       "      <th>age previous</th>\n",
       "      <th>duration^2</th>\n",
       "      <th>duration campaign</th>\n",
       "      <th>duration pdays</th>\n",
       "      <th>duration previous</th>\n",
       "      <th>campaign^2</th>\n",
       "      <th>campaign pdays</th>\n",
       "      <th>campaign previous</th>\n",
       "      <th>pdays^2</th>\n",
       "      <th>pdays previous</th>\n",
       "      <th>previous^2</th>\n",
       "    </tr>\n",
       "  </thead>\n",
       "  <tbody>\n",
       "    <tr>\n",
       "      <th>0</th>\n",
       "      <td>0.0</td>\n",
       "      <td>0.0</td>\n",
       "      <td>0.0</td>\n",
       "      <td>0.0</td>\n",
       "      <td>0.0</td>\n",
       "      <td>0.0</td>\n",
       "      <td>0.0</td>\n",
       "      <td>1.0</td>\n",
       "      <td>0.0</td>\n",
       "      <td>0.0</td>\n",
       "      <td>0.0</td>\n",
       "      <td>0.0</td>\n",
       "      <td>1.0</td>\n",
       "      <td>0.0</td>\n",
       "      <td>0.0</td>\n",
       "      <td>0.0</td>\n",
       "      <td>0.0</td>\n",
       "      <td>1.0</td>\n",
       "      <td>0.0</td>\n",
       "      <td>0.0</td>\n",
       "      <td>0.0</td>\n",
       "      <td>0.0</td>\n",
       "      <td>1.0</td>\n",
       "      <td>0.0</td>\n",
       "      <td>1.0</td>\n",
       "      <td>0.0</td>\n",
       "      <td>0.0</td>\n",
       "      <td>0.0</td>\n",
       "      <td>0.0</td>\n",
       "      <td>0.0</td>\n",
       "      <td>0.0</td>\n",
       "      <td>0.0</td>\n",
       "      <td>0.0</td>\n",
       "      <td>1.0</td>\n",
       "      <td>0.0</td>\n",
       "      <td>0.0</td>\n",
       "      <td>0.0</td>\n",
       "      <td>0.0</td>\n",
       "      <td>1.0</td>\n",
       "      <td>0.0</td>\n",
       "      <td>0.0</td>\n",
       "      <td>-0.005947</td>\n",
       "      <td>-0.510479</td>\n",
       "      <td>-0.669631</td>\n",
       "      <td>0.626077</td>\n",
       "      <td>-0.422892</td>\n",
       "      <td>-0.135593</td>\n",
       "      <td>-0.465690</td>\n",
       "      <td>-0.588856</td>\n",
       "      <td>0.573676</td>\n",
       "      <td>-0.337439</td>\n",
       "      <td>-0.314036</td>\n",
       "      <td>-0.538868</td>\n",
       "      <td>-0.147681</td>\n",
       "      <td>-0.526030</td>\n",
       "      <td>-0.423280</td>\n",
       "      <td>-0.282957</td>\n",
       "      <td>-0.656146</td>\n",
       "      <td>0.626084</td>\n",
       "      <td>0.309599</td>\n",
       "      <td>-0.346192</td>\n",
       "    </tr>\n",
       "    <tr>\n",
       "      <th>1</th>\n",
       "      <td>1.0</td>\n",
       "      <td>0.0</td>\n",
       "      <td>0.0</td>\n",
       "      <td>0.0</td>\n",
       "      <td>0.0</td>\n",
       "      <td>0.0</td>\n",
       "      <td>0.0</td>\n",
       "      <td>0.0</td>\n",
       "      <td>0.0</td>\n",
       "      <td>0.0</td>\n",
       "      <td>0.0</td>\n",
       "      <td>0.0</td>\n",
       "      <td>1.0</td>\n",
       "      <td>0.0</td>\n",
       "      <td>0.0</td>\n",
       "      <td>0.0</td>\n",
       "      <td>0.0</td>\n",
       "      <td>0.0</td>\n",
       "      <td>0.0</td>\n",
       "      <td>0.0</td>\n",
       "      <td>1.0</td>\n",
       "      <td>0.0</td>\n",
       "      <td>1.0</td>\n",
       "      <td>0.0</td>\n",
       "      <td>1.0</td>\n",
       "      <td>0.0</td>\n",
       "      <td>0.0</td>\n",
       "      <td>0.0</td>\n",
       "      <td>0.0</td>\n",
       "      <td>0.0</td>\n",
       "      <td>0.0</td>\n",
       "      <td>0.0</td>\n",
       "      <td>1.0</td>\n",
       "      <td>0.0</td>\n",
       "      <td>0.0</td>\n",
       "      <td>0.0</td>\n",
       "      <td>0.0</td>\n",
       "      <td>0.0</td>\n",
       "      <td>0.0</td>\n",
       "      <td>1.0</td>\n",
       "      <td>0.0</td>\n",
       "      <td>-0.328580</td>\n",
       "      <td>0.764835</td>\n",
       "      <td>-0.669631</td>\n",
       "      <td>0.626077</td>\n",
       "      <td>-0.422892</td>\n",
       "      <td>-0.393841</td>\n",
       "      <td>0.500219</td>\n",
       "      <td>-0.650912</td>\n",
       "      <td>0.374931</td>\n",
       "      <td>-0.455460</td>\n",
       "      <td>0.215496</td>\n",
       "      <td>-0.091389</td>\n",
       "      <td>1.198274</td>\n",
       "      <td>0.263487</td>\n",
       "      <td>-0.423280</td>\n",
       "      <td>-0.282957</td>\n",
       "      <td>-0.656146</td>\n",
       "      <td>0.626084</td>\n",
       "      <td>0.309599</td>\n",
       "      <td>-0.346192</td>\n",
       "    </tr>\n",
       "    <tr>\n",
       "      <th>2</th>\n",
       "      <td>1.0</td>\n",
       "      <td>0.0</td>\n",
       "      <td>0.0</td>\n",
       "      <td>0.0</td>\n",
       "      <td>0.0</td>\n",
       "      <td>0.0</td>\n",
       "      <td>0.0</td>\n",
       "      <td>0.0</td>\n",
       "      <td>0.0</td>\n",
       "      <td>0.0</td>\n",
       "      <td>0.0</td>\n",
       "      <td>0.0</td>\n",
       "      <td>1.0</td>\n",
       "      <td>0.0</td>\n",
       "      <td>0.0</td>\n",
       "      <td>0.0</td>\n",
       "      <td>0.0</td>\n",
       "      <td>1.0</td>\n",
       "      <td>0.0</td>\n",
       "      <td>0.0</td>\n",
       "      <td>0.0</td>\n",
       "      <td>0.0</td>\n",
       "      <td>1.0</td>\n",
       "      <td>0.0</td>\n",
       "      <td>1.0</td>\n",
       "      <td>0.0</td>\n",
       "      <td>0.0</td>\n",
       "      <td>0.0</td>\n",
       "      <td>0.0</td>\n",
       "      <td>0.0</td>\n",
       "      <td>0.0</td>\n",
       "      <td>0.0</td>\n",
       "      <td>1.0</td>\n",
       "      <td>0.0</td>\n",
       "      <td>0.0</td>\n",
       "      <td>0.0</td>\n",
       "      <td>0.0</td>\n",
       "      <td>0.0</td>\n",
       "      <td>0.0</td>\n",
       "      <td>1.0</td>\n",
       "      <td>0.0</td>\n",
       "      <td>-0.328580</td>\n",
       "      <td>-0.635920</td>\n",
       "      <td>-0.669631</td>\n",
       "      <td>0.626077</td>\n",
       "      <td>-0.422892</td>\n",
       "      <td>-0.393841</td>\n",
       "      <td>-0.619433</td>\n",
       "      <td>-0.650912</td>\n",
       "      <td>0.374931</td>\n",
       "      <td>-0.455460</td>\n",
       "      <td>-0.336697</td>\n",
       "      <td>-0.582882</td>\n",
       "      <td>-0.280070</td>\n",
       "      <td>-0.603688</td>\n",
       "      <td>-0.423280</td>\n",
       "      <td>-0.282957</td>\n",
       "      <td>-0.656146</td>\n",
       "      <td>0.626084</td>\n",
       "      <td>0.309599</td>\n",
       "      <td>-0.346192</td>\n",
       "    </tr>\n",
       "    <tr>\n",
       "      <th>3</th>\n",
       "      <td>1.0</td>\n",
       "      <td>0.0</td>\n",
       "      <td>0.0</td>\n",
       "      <td>0.0</td>\n",
       "      <td>0.0</td>\n",
       "      <td>0.0</td>\n",
       "      <td>0.0</td>\n",
       "      <td>0.0</td>\n",
       "      <td>0.0</td>\n",
       "      <td>0.0</td>\n",
       "      <td>0.0</td>\n",
       "      <td>0.0</td>\n",
       "      <td>1.0</td>\n",
       "      <td>0.0</td>\n",
       "      <td>0.0</td>\n",
       "      <td>0.0</td>\n",
       "      <td>0.0</td>\n",
       "      <td>0.0</td>\n",
       "      <td>0.0</td>\n",
       "      <td>0.0</td>\n",
       "      <td>1.0</td>\n",
       "      <td>0.0</td>\n",
       "      <td>1.0</td>\n",
       "      <td>0.0</td>\n",
       "      <td>1.0</td>\n",
       "      <td>0.0</td>\n",
       "      <td>0.0</td>\n",
       "      <td>0.0</td>\n",
       "      <td>0.0</td>\n",
       "      <td>0.0</td>\n",
       "      <td>0.0</td>\n",
       "      <td>0.0</td>\n",
       "      <td>1.0</td>\n",
       "      <td>0.0</td>\n",
       "      <td>0.0</td>\n",
       "      <td>0.0</td>\n",
       "      <td>0.0</td>\n",
       "      <td>0.0</td>\n",
       "      <td>0.0</td>\n",
       "      <td>1.0</td>\n",
       "      <td>1.0</td>\n",
       "      <td>-0.247921</td>\n",
       "      <td>-0.615013</td>\n",
       "      <td>-0.669631</td>\n",
       "      <td>-1.597175</td>\n",
       "      <td>-0.422892</td>\n",
       "      <td>-0.331827</td>\n",
       "      <td>-0.591674</td>\n",
       "      <td>-0.635398</td>\n",
       "      <td>-1.402730</td>\n",
       "      <td>-0.425954</td>\n",
       "      <td>-0.333286</td>\n",
       "      <td>-0.575547</td>\n",
       "      <td>-0.779994</td>\n",
       "      <td>-0.590745</td>\n",
       "      <td>-0.423280</td>\n",
       "      <td>-0.923213</td>\n",
       "      <td>-0.656146</td>\n",
       "      <td>-1.597262</td>\n",
       "      <td>-1.320385</td>\n",
       "      <td>-0.346192</td>\n",
       "    </tr>\n",
       "    <tr>\n",
       "      <th>4</th>\n",
       "      <td>0.0</td>\n",
       "      <td>0.0</td>\n",
       "      <td>0.0</td>\n",
       "      <td>0.0</td>\n",
       "      <td>0.0</td>\n",
       "      <td>0.0</td>\n",
       "      <td>1.0</td>\n",
       "      <td>0.0</td>\n",
       "      <td>0.0</td>\n",
       "      <td>0.0</td>\n",
       "      <td>0.0</td>\n",
       "      <td>0.0</td>\n",
       "      <td>1.0</td>\n",
       "      <td>0.0</td>\n",
       "      <td>0.0</td>\n",
       "      <td>0.0</td>\n",
       "      <td>0.0</td>\n",
       "      <td>0.0</td>\n",
       "      <td>0.0</td>\n",
       "      <td>0.0</td>\n",
       "      <td>1.0</td>\n",
       "      <td>0.0</td>\n",
       "      <td>1.0</td>\n",
       "      <td>0.0</td>\n",
       "      <td>1.0</td>\n",
       "      <td>0.0</td>\n",
       "      <td>0.0</td>\n",
       "      <td>0.0</td>\n",
       "      <td>0.0</td>\n",
       "      <td>0.0</td>\n",
       "      <td>0.0</td>\n",
       "      <td>0.0</td>\n",
       "      <td>1.0</td>\n",
       "      <td>0.0</td>\n",
       "      <td>0.0</td>\n",
       "      <td>0.0</td>\n",
       "      <td>0.0</td>\n",
       "      <td>1.0</td>\n",
       "      <td>0.0</td>\n",
       "      <td>0.0</td>\n",
       "      <td>0.0</td>\n",
       "      <td>-0.893186</td>\n",
       "      <td>-0.752998</td>\n",
       "      <td>-0.669631</td>\n",
       "      <td>0.626077</td>\n",
       "      <td>-0.422892</td>\n",
       "      <td>-0.780364</td>\n",
       "      <td>-0.768906</td>\n",
       "      <td>-0.759508</td>\n",
       "      <td>0.027128</td>\n",
       "      <td>-0.661996</td>\n",
       "      <td>-0.353092</td>\n",
       "      <td>-0.623962</td>\n",
       "      <td>-0.403633</td>\n",
       "      <td>-0.676168</td>\n",
       "      <td>-0.423280</td>\n",
       "      <td>-0.282957</td>\n",
       "      <td>-0.656146</td>\n",
       "      <td>0.626084</td>\n",
       "      <td>0.309599</td>\n",
       "      <td>-0.346192</td>\n",
       "    </tr>\n",
       "    <tr>\n",
       "      <th>...</th>\n",
       "      <td>...</td>\n",
       "      <td>...</td>\n",
       "      <td>...</td>\n",
       "      <td>...</td>\n",
       "      <td>...</td>\n",
       "      <td>...</td>\n",
       "      <td>...</td>\n",
       "      <td>...</td>\n",
       "      <td>...</td>\n",
       "      <td>...</td>\n",
       "      <td>...</td>\n",
       "      <td>...</td>\n",
       "      <td>...</td>\n",
       "      <td>...</td>\n",
       "      <td>...</td>\n",
       "      <td>...</td>\n",
       "      <td>...</td>\n",
       "      <td>...</td>\n",
       "      <td>...</td>\n",
       "      <td>...</td>\n",
       "      <td>...</td>\n",
       "      <td>...</td>\n",
       "      <td>...</td>\n",
       "      <td>...</td>\n",
       "      <td>...</td>\n",
       "      <td>...</td>\n",
       "      <td>...</td>\n",
       "      <td>...</td>\n",
       "      <td>...</td>\n",
       "      <td>...</td>\n",
       "      <td>...</td>\n",
       "      <td>...</td>\n",
       "      <td>...</td>\n",
       "      <td>...</td>\n",
       "      <td>...</td>\n",
       "      <td>...</td>\n",
       "      <td>...</td>\n",
       "      <td>...</td>\n",
       "      <td>...</td>\n",
       "      <td>...</td>\n",
       "      <td>...</td>\n",
       "      <td>...</td>\n",
       "      <td>...</td>\n",
       "      <td>...</td>\n",
       "      <td>...</td>\n",
       "      <td>...</td>\n",
       "      <td>...</td>\n",
       "      <td>...</td>\n",
       "      <td>...</td>\n",
       "      <td>...</td>\n",
       "      <td>...</td>\n",
       "      <td>...</td>\n",
       "      <td>...</td>\n",
       "      <td>...</td>\n",
       "      <td>...</td>\n",
       "      <td>...</td>\n",
       "      <td>...</td>\n",
       "      <td>...</td>\n",
       "      <td>...</td>\n",
       "      <td>...</td>\n",
       "      <td>...</td>\n",
       "    </tr>\n",
       "    <tr>\n",
       "      <th>4647</th>\n",
       "      <td>0.0</td>\n",
       "      <td>0.0</td>\n",
       "      <td>0.0</td>\n",
       "      <td>0.0</td>\n",
       "      <td>0.0</td>\n",
       "      <td>1.0</td>\n",
       "      <td>0.0</td>\n",
       "      <td>0.0</td>\n",
       "      <td>0.0</td>\n",
       "      <td>0.0</td>\n",
       "      <td>0.0</td>\n",
       "      <td>0.0</td>\n",
       "      <td>1.0</td>\n",
       "      <td>0.0</td>\n",
       "      <td>0.0</td>\n",
       "      <td>0.0</td>\n",
       "      <td>0.0</td>\n",
       "      <td>0.0</td>\n",
       "      <td>0.0</td>\n",
       "      <td>0.0</td>\n",
       "      <td>1.0</td>\n",
       "      <td>0.0</td>\n",
       "      <td>1.0</td>\n",
       "      <td>0.0</td>\n",
       "      <td>0.0</td>\n",
       "      <td>0.0</td>\n",
       "      <td>0.0</td>\n",
       "      <td>0.0</td>\n",
       "      <td>0.0</td>\n",
       "      <td>0.0</td>\n",
       "      <td>0.0</td>\n",
       "      <td>0.0</td>\n",
       "      <td>1.0</td>\n",
       "      <td>0.0</td>\n",
       "      <td>0.0</td>\n",
       "      <td>0.0</td>\n",
       "      <td>0.0</td>\n",
       "      <td>1.0</td>\n",
       "      <td>0.0</td>\n",
       "      <td>0.0</td>\n",
       "      <td>0.0</td>\n",
       "      <td>1.768532</td>\n",
       "      <td>0.263072</td>\n",
       "      <td>-0.669631</td>\n",
       "      <td>0.626077</td>\n",
       "      <td>1.124940</td>\n",
       "      <td>1.770687</td>\n",
       "      <td>0.893304</td>\n",
       "      <td>-0.247553</td>\n",
       "      <td>1.666772</td>\n",
       "      <td>2.140998</td>\n",
       "      <td>-0.057841</td>\n",
       "      <td>-0.267446</td>\n",
       "      <td>0.668718</td>\n",
       "      <td>0.804501</td>\n",
       "      <td>-0.423280</td>\n",
       "      <td>-0.282957</td>\n",
       "      <td>-0.206007</td>\n",
       "      <td>0.626084</td>\n",
       "      <td>1.949431</td>\n",
       "      <td>0.653902</td>\n",
       "    </tr>\n",
       "    <tr>\n",
       "      <th>4648</th>\n",
       "      <td>0.0</td>\n",
       "      <td>0.0</td>\n",
       "      <td>0.0</td>\n",
       "      <td>0.0</td>\n",
       "      <td>0.0</td>\n",
       "      <td>1.0</td>\n",
       "      <td>0.0</td>\n",
       "      <td>0.0</td>\n",
       "      <td>0.0</td>\n",
       "      <td>0.0</td>\n",
       "      <td>0.0</td>\n",
       "      <td>0.0</td>\n",
       "      <td>1.0</td>\n",
       "      <td>0.0</td>\n",
       "      <td>0.0</td>\n",
       "      <td>0.0</td>\n",
       "      <td>0.0</td>\n",
       "      <td>0.0</td>\n",
       "      <td>0.0</td>\n",
       "      <td>0.0</td>\n",
       "      <td>1.0</td>\n",
       "      <td>0.0</td>\n",
       "      <td>1.0</td>\n",
       "      <td>0.0</td>\n",
       "      <td>0.0</td>\n",
       "      <td>0.0</td>\n",
       "      <td>0.0</td>\n",
       "      <td>0.0</td>\n",
       "      <td>0.0</td>\n",
       "      <td>0.0</td>\n",
       "      <td>0.0</td>\n",
       "      <td>0.0</td>\n",
       "      <td>1.0</td>\n",
       "      <td>0.0</td>\n",
       "      <td>0.0</td>\n",
       "      <td>0.0</td>\n",
       "      <td>0.0</td>\n",
       "      <td>1.0</td>\n",
       "      <td>0.0</td>\n",
       "      <td>0.0</td>\n",
       "      <td>1.0</td>\n",
       "      <td>1.768532</td>\n",
       "      <td>-0.242872</td>\n",
       "      <td>-0.669631</td>\n",
       "      <td>-1.608369</td>\n",
       "      <td>7.316271</td>\n",
       "      <td>1.770687</td>\n",
       "      <td>0.196818</td>\n",
       "      <td>-0.247553</td>\n",
       "      <td>-1.410687</td>\n",
       "      <td>9.458288</td>\n",
       "      <td>-0.248079</td>\n",
       "      <td>-0.444971</td>\n",
       "      <td>-0.782229</td>\n",
       "      <td>2.331764</td>\n",
       "      <td>-0.423280</td>\n",
       "      <td>-0.926437</td>\n",
       "      <td>1.594549</td>\n",
       "      <td>-1.597340</td>\n",
       "      <td>-1.320385</td>\n",
       "      <td>11.321574</td>\n",
       "    </tr>\n",
       "    <tr>\n",
       "      <th>4649</th>\n",
       "      <td>0.0</td>\n",
       "      <td>0.0</td>\n",
       "      <td>0.0</td>\n",
       "      <td>0.0</td>\n",
       "      <td>0.0</td>\n",
       "      <td>1.0</td>\n",
       "      <td>0.0</td>\n",
       "      <td>0.0</td>\n",
       "      <td>0.0</td>\n",
       "      <td>0.0</td>\n",
       "      <td>0.0</td>\n",
       "      <td>0.0</td>\n",
       "      <td>1.0</td>\n",
       "      <td>0.0</td>\n",
       "      <td>0.0</td>\n",
       "      <td>0.0</td>\n",
       "      <td>0.0</td>\n",
       "      <td>0.0</td>\n",
       "      <td>0.0</td>\n",
       "      <td>0.0</td>\n",
       "      <td>1.0</td>\n",
       "      <td>0.0</td>\n",
       "      <td>0.0</td>\n",
       "      <td>0.0</td>\n",
       "      <td>0.0</td>\n",
       "      <td>0.0</td>\n",
       "      <td>0.0</td>\n",
       "      <td>0.0</td>\n",
       "      <td>0.0</td>\n",
       "      <td>0.0</td>\n",
       "      <td>0.0</td>\n",
       "      <td>0.0</td>\n",
       "      <td>1.0</td>\n",
       "      <td>0.0</td>\n",
       "      <td>0.0</td>\n",
       "      <td>0.0</td>\n",
       "      <td>0.0</td>\n",
       "      <td>1.0</td>\n",
       "      <td>0.0</td>\n",
       "      <td>0.0</td>\n",
       "      <td>1.0</td>\n",
       "      <td>1.768532</td>\n",
       "      <td>0.907002</td>\n",
       "      <td>0.035308</td>\n",
       "      <td>-1.597175</td>\n",
       "      <td>2.672773</td>\n",
       "      <td>1.770687</td>\n",
       "      <td>1.779742</td>\n",
       "      <td>0.714301</td>\n",
       "      <td>-1.395269</td>\n",
       "      <td>3.970320</td>\n",
       "      <td>0.308271</td>\n",
       "      <td>0.667124</td>\n",
       "      <td>-0.770346</td>\n",
       "      <td>2.852069</td>\n",
       "      <td>-0.159526</td>\n",
       "      <td>-0.919344</td>\n",
       "      <td>1.594549</td>\n",
       "      <td>-1.597262</td>\n",
       "      <td>-1.300688</td>\n",
       "      <td>2.320726</td>\n",
       "    </tr>\n",
       "    <tr>\n",
       "      <th>4650</th>\n",
       "      <td>0.0</td>\n",
       "      <td>0.0</td>\n",
       "      <td>0.0</td>\n",
       "      <td>0.0</td>\n",
       "      <td>0.0</td>\n",
       "      <td>0.0</td>\n",
       "      <td>0.0</td>\n",
       "      <td>0.0</td>\n",
       "      <td>0.0</td>\n",
       "      <td>0.0</td>\n",
       "      <td>1.0</td>\n",
       "      <td>0.0</td>\n",
       "      <td>0.0</td>\n",
       "      <td>1.0</td>\n",
       "      <td>1.0</td>\n",
       "      <td>0.0</td>\n",
       "      <td>0.0</td>\n",
       "      <td>0.0</td>\n",
       "      <td>0.0</td>\n",
       "      <td>0.0</td>\n",
       "      <td>0.0</td>\n",
       "      <td>0.0</td>\n",
       "      <td>1.0</td>\n",
       "      <td>0.0</td>\n",
       "      <td>0.0</td>\n",
       "      <td>0.0</td>\n",
       "      <td>0.0</td>\n",
       "      <td>0.0</td>\n",
       "      <td>0.0</td>\n",
       "      <td>0.0</td>\n",
       "      <td>0.0</td>\n",
       "      <td>0.0</td>\n",
       "      <td>1.0</td>\n",
       "      <td>0.0</td>\n",
       "      <td>0.0</td>\n",
       "      <td>1.0</td>\n",
       "      <td>0.0</td>\n",
       "      <td>0.0</td>\n",
       "      <td>0.0</td>\n",
       "      <td>0.0</td>\n",
       "      <td>1.0</td>\n",
       "      <td>-0.893186</td>\n",
       "      <td>-0.644283</td>\n",
       "      <td>-0.669631</td>\n",
       "      <td>-1.590458</td>\n",
       "      <td>-0.422892</td>\n",
       "      <td>-0.780364</td>\n",
       "      <td>-0.698904</td>\n",
       "      <td>-0.759508</td>\n",
       "      <td>-1.400790</td>\n",
       "      <td>-0.661996</td>\n",
       "      <td>-0.338020</td>\n",
       "      <td>-0.585817</td>\n",
       "      <td>-0.778695</td>\n",
       "      <td>-0.608865</td>\n",
       "      <td>-0.423280</td>\n",
       "      <td>-0.921279</td>\n",
       "      <td>-0.656146</td>\n",
       "      <td>-1.597162</td>\n",
       "      <td>-1.315461</td>\n",
       "      <td>-0.346192</td>\n",
       "    </tr>\n",
       "    <tr>\n",
       "      <th>4651</th>\n",
       "      <td>0.0</td>\n",
       "      <td>0.0</td>\n",
       "      <td>0.0</td>\n",
       "      <td>0.0</td>\n",
       "      <td>0.0</td>\n",
       "      <td>1.0</td>\n",
       "      <td>0.0</td>\n",
       "      <td>0.0</td>\n",
       "      <td>0.0</td>\n",
       "      <td>0.0</td>\n",
       "      <td>0.0</td>\n",
       "      <td>0.0</td>\n",
       "      <td>1.0</td>\n",
       "      <td>0.0</td>\n",
       "      <td>0.0</td>\n",
       "      <td>0.0</td>\n",
       "      <td>0.0</td>\n",
       "      <td>0.0</td>\n",
       "      <td>0.0</td>\n",
       "      <td>1.0</td>\n",
       "      <td>0.0</td>\n",
       "      <td>0.0</td>\n",
       "      <td>1.0</td>\n",
       "      <td>0.0</td>\n",
       "      <td>0.0</td>\n",
       "      <td>0.0</td>\n",
       "      <td>0.0</td>\n",
       "      <td>0.0</td>\n",
       "      <td>0.0</td>\n",
       "      <td>0.0</td>\n",
       "      <td>0.0</td>\n",
       "      <td>0.0</td>\n",
       "      <td>1.0</td>\n",
       "      <td>0.0</td>\n",
       "      <td>0.0</td>\n",
       "      <td>1.0</td>\n",
       "      <td>0.0</td>\n",
       "      <td>0.0</td>\n",
       "      <td>0.0</td>\n",
       "      <td>0.0</td>\n",
       "      <td>0.0</td>\n",
       "      <td>2.736429</td>\n",
       "      <td>-0.113250</td>\n",
       "      <td>0.740246</td>\n",
       "      <td>0.626077</td>\n",
       "      <td>-0.422892</td>\n",
       "      <td>3.157071</td>\n",
       "      <td>0.641522</td>\n",
       "      <td>2.234651</td>\n",
       "      <td>2.263006</td>\n",
       "      <td>0.665738</td>\n",
       "      <td>-0.207509</td>\n",
       "      <td>0.301805</td>\n",
       "      <td>0.271551</td>\n",
       "      <td>-0.280115</td>\n",
       "      <td>0.280064</td>\n",
       "      <td>1.005291</td>\n",
       "      <td>0.244132</td>\n",
       "      <td>0.626084</td>\n",
       "      <td>0.309599</td>\n",
       "      <td>-0.346192</td>\n",
       "    </tr>\n",
       "  </tbody>\n",
       "</table>\n",
       "<p>4652 rows × 61 columns</p>\n",
       "</div>"
      ],
      "text/plain": [
       "      job_admin.  job_blue-collar  job_entrepreneur  job_housemaid  \\\n",
       "0            0.0              0.0               0.0            0.0   \n",
       "1            1.0              0.0               0.0            0.0   \n",
       "2            1.0              0.0               0.0            0.0   \n",
       "3            1.0              0.0               0.0            0.0   \n",
       "4            0.0              0.0               0.0            0.0   \n",
       "...          ...              ...               ...            ...   \n",
       "4647         0.0              0.0               0.0            0.0   \n",
       "4648         0.0              0.0               0.0            0.0   \n",
       "4649         0.0              0.0               0.0            0.0   \n",
       "4650         0.0              0.0               0.0            0.0   \n",
       "4651         0.0              0.0               0.0            0.0   \n",
       "\n",
       "      job_management  job_retired  job_self-employed  job_services  \\\n",
       "0                0.0          0.0                0.0           1.0   \n",
       "1                0.0          0.0                0.0           0.0   \n",
       "2                0.0          0.0                0.0           0.0   \n",
       "3                0.0          0.0                0.0           0.0   \n",
       "4                0.0          0.0                1.0           0.0   \n",
       "...              ...          ...                ...           ...   \n",
       "4647             0.0          1.0                0.0           0.0   \n",
       "4648             0.0          1.0                0.0           0.0   \n",
       "4649             0.0          1.0                0.0           0.0   \n",
       "4650             0.0          0.0                0.0           0.0   \n",
       "4651             0.0          1.0                0.0           0.0   \n",
       "\n",
       "      job_student  job_technician  job_unemployed  marital_divorced  \\\n",
       "0             0.0             0.0             0.0               0.0   \n",
       "1             0.0             0.0             0.0               0.0   \n",
       "2             0.0             0.0             0.0               0.0   \n",
       "3             0.0             0.0             0.0               0.0   \n",
       "4             0.0             0.0             0.0               0.0   \n",
       "...           ...             ...             ...               ...   \n",
       "4647          0.0             0.0             0.0               0.0   \n",
       "4648          0.0             0.0             0.0               0.0   \n",
       "4649          0.0             0.0             0.0               0.0   \n",
       "4650          0.0             0.0             1.0               0.0   \n",
       "4651          0.0             0.0             0.0               0.0   \n",
       "\n",
       "      marital_married  marital_single  education_basic.4y  education_basic.6y  \\\n",
       "0                 1.0             0.0                 0.0                 0.0   \n",
       "1                 1.0             0.0                 0.0                 0.0   \n",
       "2                 1.0             0.0                 0.0                 0.0   \n",
       "3                 1.0             0.0                 0.0                 0.0   \n",
       "4                 1.0             0.0                 0.0                 0.0   \n",
       "...               ...             ...                 ...                 ...   \n",
       "4647              1.0             0.0                 0.0                 0.0   \n",
       "4648              1.0             0.0                 0.0                 0.0   \n",
       "4649              1.0             0.0                 0.0                 0.0   \n",
       "4650              0.0             1.0                 1.0                 0.0   \n",
       "4651              1.0             0.0                 0.0                 0.0   \n",
       "\n",
       "      education_basic.9y  education_high.school  education_illiterate  \\\n",
       "0                    0.0                    1.0                   0.0   \n",
       "1                    0.0                    0.0                   0.0   \n",
       "2                    0.0                    1.0                   0.0   \n",
       "3                    0.0                    0.0                   0.0   \n",
       "4                    0.0                    0.0                   0.0   \n",
       "...                  ...                    ...                   ...   \n",
       "4647                 0.0                    0.0                   0.0   \n",
       "4648                 0.0                    0.0                   0.0   \n",
       "4649                 0.0                    0.0                   0.0   \n",
       "4650                 0.0                    0.0                   0.0   \n",
       "4651                 0.0                    0.0                   0.0   \n",
       "\n",
       "      education_professional.course  education_university.degree  default_yes  \\\n",
       "0                               0.0                          0.0          0.0   \n",
       "1                               0.0                          1.0          0.0   \n",
       "2                               0.0                          0.0          0.0   \n",
       "3                               0.0                          1.0          0.0   \n",
       "4                               0.0                          1.0          0.0   \n",
       "...                             ...                          ...          ...   \n",
       "4647                            0.0                          1.0          0.0   \n",
       "4648                            0.0                          1.0          0.0   \n",
       "4649                            0.0                          1.0          0.0   \n",
       "4650                            0.0                          0.0          0.0   \n",
       "4651                            1.0                          0.0          0.0   \n",
       "\n",
       "      housing_yes  loan_yes  contact_telephone  month_apr  month_aug  \\\n",
       "0             1.0       0.0                1.0        0.0        0.0   \n",
       "1             1.0       0.0                1.0        0.0        0.0   \n",
       "2             1.0       0.0                1.0        0.0        0.0   \n",
       "3             1.0       0.0                1.0        0.0        0.0   \n",
       "4             1.0       0.0                1.0        0.0        0.0   \n",
       "...           ...       ...                ...        ...        ...   \n",
       "4647          1.0       0.0                0.0        0.0        0.0   \n",
       "4648          1.0       0.0                0.0        0.0        0.0   \n",
       "4649          0.0       0.0                0.0        0.0        0.0   \n",
       "4650          1.0       0.0                0.0        0.0        0.0   \n",
       "4651          1.0       0.0                0.0        0.0        0.0   \n",
       "\n",
       "      month_dec  month_jul  month_jun  month_mar  month_may  month_nov  \\\n",
       "0           0.0        0.0        0.0        0.0        0.0        0.0   \n",
       "1           0.0        0.0        0.0        0.0        0.0        1.0   \n",
       "2           0.0        0.0        0.0        0.0        0.0        1.0   \n",
       "3           0.0        0.0        0.0        0.0        0.0        1.0   \n",
       "4           0.0        0.0        0.0        0.0        0.0        1.0   \n",
       "...         ...        ...        ...        ...        ...        ...   \n",
       "4647        0.0        0.0        0.0        0.0        0.0        1.0   \n",
       "4648        0.0        0.0        0.0        0.0        0.0        1.0   \n",
       "4649        0.0        0.0        0.0        0.0        0.0        1.0   \n",
       "4650        0.0        0.0        0.0        0.0        0.0        1.0   \n",
       "4651        0.0        0.0        0.0        0.0        0.0        1.0   \n",
       "\n",
       "      month_oct  month_sep  day_of_week_fri  day_of_week_mon  day_of_week_thu  \\\n",
       "0           1.0        0.0              0.0              0.0              0.0   \n",
       "1           0.0        0.0              0.0              0.0              0.0   \n",
       "2           0.0        0.0              0.0              0.0              0.0   \n",
       "3           0.0        0.0              0.0              0.0              0.0   \n",
       "4           0.0        0.0              0.0              0.0              1.0   \n",
       "...         ...        ...              ...              ...              ...   \n",
       "4647        0.0        0.0              0.0              0.0              1.0   \n",
       "4648        0.0        0.0              0.0              0.0              1.0   \n",
       "4649        0.0        0.0              0.0              0.0              1.0   \n",
       "4650        0.0        0.0              1.0              0.0              0.0   \n",
       "4651        0.0        0.0              1.0              0.0              0.0   \n",
       "\n",
       "      day_of_week_tue  day_of_week_wed  poutcome_success       age  duration  \\\n",
       "0                 1.0              0.0               0.0 -0.005947 -0.510479   \n",
       "1                 0.0              1.0               0.0 -0.328580  0.764835   \n",
       "2                 0.0              1.0               0.0 -0.328580 -0.635920   \n",
       "3                 0.0              1.0               1.0 -0.247921 -0.615013   \n",
       "4                 0.0              0.0               0.0 -0.893186 -0.752998   \n",
       "...               ...              ...               ...       ...       ...   \n",
       "4647              0.0              0.0               0.0  1.768532  0.263072   \n",
       "4648              0.0              0.0               1.0  1.768532 -0.242872   \n",
       "4649              0.0              0.0               1.0  1.768532  0.907002   \n",
       "4650              0.0              0.0               1.0 -0.893186 -0.644283   \n",
       "4651              0.0              0.0               0.0  2.736429 -0.113250   \n",
       "\n",
       "      campaign     pdays  previous     age^2  age duration  age campaign  \\\n",
       "0    -0.669631  0.626077 -0.422892 -0.135593     -0.465690     -0.588856   \n",
       "1    -0.669631  0.626077 -0.422892 -0.393841      0.500219     -0.650912   \n",
       "2    -0.669631  0.626077 -0.422892 -0.393841     -0.619433     -0.650912   \n",
       "3    -0.669631 -1.597175 -0.422892 -0.331827     -0.591674     -0.635398   \n",
       "4    -0.669631  0.626077 -0.422892 -0.780364     -0.768906     -0.759508   \n",
       "...        ...       ...       ...       ...           ...           ...   \n",
       "4647 -0.669631  0.626077  1.124940  1.770687      0.893304     -0.247553   \n",
       "4648 -0.669631 -1.608369  7.316271  1.770687      0.196818     -0.247553   \n",
       "4649  0.035308 -1.597175  2.672773  1.770687      1.779742      0.714301   \n",
       "4650 -0.669631 -1.590458 -0.422892 -0.780364     -0.698904     -0.759508   \n",
       "4651  0.740246  0.626077 -0.422892  3.157071      0.641522      2.234651   \n",
       "\n",
       "      age pdays  age previous  duration^2  duration campaign  duration pdays  \\\n",
       "0      0.573676     -0.337439   -0.314036          -0.538868       -0.147681   \n",
       "1      0.374931     -0.455460    0.215496          -0.091389        1.198274   \n",
       "2      0.374931     -0.455460   -0.336697          -0.582882       -0.280070   \n",
       "3     -1.402730     -0.425954   -0.333286          -0.575547       -0.779994   \n",
       "4      0.027128     -0.661996   -0.353092          -0.623962       -0.403633   \n",
       "...         ...           ...         ...                ...             ...   \n",
       "4647   1.666772      2.140998   -0.057841          -0.267446        0.668718   \n",
       "4648  -1.410687      9.458288   -0.248079          -0.444971       -0.782229   \n",
       "4649  -1.395269      3.970320    0.308271           0.667124       -0.770346   \n",
       "4650  -1.400790     -0.661996   -0.338020          -0.585817       -0.778695   \n",
       "4651   2.263006      0.665738   -0.207509           0.301805        0.271551   \n",
       "\n",
       "      duration previous  campaign^2  campaign pdays  campaign previous  \\\n",
       "0             -0.526030   -0.423280       -0.282957          -0.656146   \n",
       "1              0.263487   -0.423280       -0.282957          -0.656146   \n",
       "2             -0.603688   -0.423280       -0.282957          -0.656146   \n",
       "3             -0.590745   -0.423280       -0.923213          -0.656146   \n",
       "4             -0.676168   -0.423280       -0.282957          -0.656146   \n",
       "...                 ...         ...             ...                ...   \n",
       "4647           0.804501   -0.423280       -0.282957          -0.206007   \n",
       "4648           2.331764   -0.423280       -0.926437           1.594549   \n",
       "4649           2.852069   -0.159526       -0.919344           1.594549   \n",
       "4650          -0.608865   -0.423280       -0.921279          -0.656146   \n",
       "4651          -0.280115    0.280064        1.005291           0.244132   \n",
       "\n",
       "       pdays^2  pdays previous  previous^2  \n",
       "0     0.626084        0.309599   -0.346192  \n",
       "1     0.626084        0.309599   -0.346192  \n",
       "2     0.626084        0.309599   -0.346192  \n",
       "3    -1.597262       -1.320385   -0.346192  \n",
       "4     0.626084        0.309599   -0.346192  \n",
       "...        ...             ...         ...  \n",
       "4647  0.626084        1.949431    0.653902  \n",
       "4648 -1.597340       -1.320385   11.321574  \n",
       "4649 -1.597262       -1.300688    2.320726  \n",
       "4650 -1.597162       -1.315461   -0.346192  \n",
       "4651  0.626084        0.309599   -0.346192  \n",
       "\n",
       "[4652 rows x 61 columns]"
      ]
     },
     "execution_count": 1814,
     "metadata": {},
     "output_type": "execute_result"
    }
   ],
   "source": [
    "df2 = featureEncoding(df2)\n",
    "y2 = df2['y_yes']\n",
    "df2 = df2.drop(columns =['y_yes'])\n",
    "df2"
   ]
  },
  {
   "cell_type": "code",
   "execution_count": 1816,
   "metadata": {},
   "outputs": [],
   "source": [
    "X2_train, X2_test, y2_train, y2_test = train_test_split(df2, y2, random_state=42)"
   ]
  },
  {
   "cell_type": "code",
   "execution_count": null,
   "metadata": {},
   "outputs": [],
   "source": []
  },
  {
   "cell_type": "markdown",
   "metadata": {},
   "source": [
    "### LogisticRegression"
   ]
  },
  {
   "cell_type": "code",
   "execution_count": 1820,
   "metadata": {},
   "outputs": [],
   "source": [
    "param_grid = {\n",
    "    'C': np.logspace(-4, 0, 50),\n",
    "    'solver': ['liblinear', 'lbfgs']\n",
    "}\n"
   ]
  },
  {
   "cell_type": "code",
   "execution_count": 1822,
   "metadata": {},
   "outputs": [
    {
     "name": "stdout",
     "output_type": "stream",
     "text": [
      "0.8366294067067928\n",
      "LogisticRegression(C=0.04941713361323833, max_iter=1000)\n",
      "lbfgs\n"
     ]
    }
   ],
   "source": [
    "grid_lgr2 = GridSearchCV(\n",
    "    estimator=LogisticRegression(max_iter=1000),\n",
    "    param_grid=param_grid\n",
    ")\n",
    "grid_lgr2.fit(X2_train, y2_train)\n",
    "print(grid_lgr2.score(X2_test, y2_test))\n",
    "print(grid_lgr2.best_estimator_)\n",
    "print(grid_lgr2.best_params_['solver'])"
   ]
  },
  {
   "cell_type": "code",
   "execution_count": 1824,
   "metadata": {},
   "outputs": [
    {
     "data": {
      "image/png": "[encoded data removed]",
      "text/plain": [
       "<Figure size 640x480 with 2 Axes>"
      ]
     },
     "metadata": {},
     "output_type": "display_data"
    },
    {
     "name": "stdout",
     "output_type": "stream",
     "text": [
      "accuracy: 0.8366294067067928\n",
      "precision: 0.702054794520548\n",
      "recall: 0.6655844155844156\n",
      "specificity: 0.8982456140350877\n"
     ]
    }
   ],
   "source": [
    "cm = confusion_matrix(y2_test, grid_lgr2.predict(X2_test))\n",
    "plotConfusionMatrix(cm, grid_lgr2)"
   ]
  },
  {
   "cell_type": "code",
   "execution_count": null,
   "metadata": {},
   "outputs": [],
   "source": []
  },
  {
   "cell_type": "code",
   "execution_count": null,
   "metadata": {},
   "outputs": [],
   "source": []
  },
  {
   "cell_type": "markdown",
   "metadata": {},
   "source": [
    "### SVM"
   ]
  },
  {
   "cell_type": "code",
   "execution_count": 1829,
   "metadata": {},
   "outputs": [
    {
     "name": "stdout",
     "output_type": "stream",
     "text": [
      "0.8409286328460877\n",
      "SVC(gamma=0.01484968262254465)\n",
      "rbf\n"
     ]
    }
   ],
   "source": [
    "params = {'kernel': ['rbf'],\n",
    "         'gamma': np.logspace(-4, 1, 100),}\n",
    "grid_svc2 = GridSearchCV(SVC(), params).fit(X2_train, y2_train)\n",
    "print(grid_svc2.score(X2_test, y2_test))\n",
    "print(grid_svc2.best_estimator_)\n",
    "print(grid_svc2.best_params_['kernel'])"
   ]
  },
  {
   "cell_type": "code",
   "execution_count": 1831,
   "metadata": {},
   "outputs": [
    {
     "data": {
      "text/plain": [
       "0.8409286328460877"
      ]
     },
     "execution_count": 1831,
     "metadata": {},
     "output_type": "execute_result"
    }
   ],
   "source": [
    "svc2 = SVC(kernel='rbf', gamma=0.01484968262254465).fit(X2_train, y2_train)\n",
    "svc2.score(X2_test, y2_test)"
   ]
  },
  {
   "cell_type": "code",
   "execution_count": 1833,
   "metadata": {},
   "outputs": [
    {
     "data": {
      "image/png": "[encoded data removed]",
      "text/plain": [
       "<Figure size 640x480 with 2 Axes>"
      ]
     },
     "metadata": {},
     "output_type": "display_data"
    },
    {
     "name": "stdout",
     "output_type": "stream",
     "text": [
      "accuracy: 0.8409286328460877\n",
      "precision: 0.7220216606498195\n",
      "recall: 0.6493506493506493\n",
      "specificity: 0.9099415204678363\n"
     ]
    }
   ],
   "source": [
    "cm = confusion_matrix(y2_test, svc2.predict(X2_test))\n",
    "plotConfusionMatrix(cm, svc2)"
   ]
  },
  {
   "cell_type": "code",
   "execution_count": null,
   "metadata": {},
   "outputs": [],
   "source": []
  },
  {
   "cell_type": "code",
   "execution_count": null,
   "metadata": {},
   "outputs": [],
   "source": []
  },
  {
   "cell_type": "markdown",
   "metadata": {},
   "source": [
    "### DecisioinTree"
   ]
  },
  {
   "cell_type": "code",
   "execution_count": 1838,
   "metadata": {},
   "outputs": [
    {
     "data": {
      "text/plain": [
       "[('maxDepth:', 2, 'accuracy:', 0.8443680137575237),\n",
       " ('maxDepth:', 3, 'accuracy:', 0.8460877042132416),\n",
       " ('maxDepth:', 4, 'accuracy:', 0.8495270851246776),\n",
       " ('maxDepth:', 5, 'accuracy:', 0.8460877042132416),\n",
       " ('maxDepth:', 6, 'accuracy:', 0.8417884780739467),\n",
       " ('maxDepth:', 7, 'accuracy:', 0.8314703353396389),\n",
       " ('maxDepth:', 8, 'accuracy:', 0.8134135855546002),\n",
       " ('maxDepth:', 9, 'accuracy:', 0.8013757523645744),\n",
       " ('maxDepth:', 10, 'accuracy:', 0.7979363714531384),\n",
       " ('maxDepth:', 11, 'accuracy:', 0.7936371453138436),\n",
       " ('maxDepth:', 12, 'accuracy:', 0.7867583834909716),\n",
       " ('maxDepth:', 13, 'accuracy:', 0.7738607050730868),\n",
       " ('maxDepth:', 14, 'accuracy:', 0.7755803955288049),\n",
       " ('maxDepth:', 15, 'accuracy:', 0.7876182287188306),\n",
       " ('maxDepth:', 16, 'accuracy:', 0.7841788478073947),\n",
       " ('maxDepth:', 17, 'accuracy:', 0.7833190025795357),\n",
       " ('maxDepth:', 18, 'accuracy:', 0.7807394668959587),\n",
       " ('maxDepth:', 19, 'accuracy:', 0.7893379191745485),\n",
       " ('maxDepth:', 20, 'accuracy:', 0.7790197764402408)]"
      ]
     },
     "execution_count": 1838,
     "metadata": {},
     "output_type": "execute_result"
    }
   ],
   "source": [
    "accu = []\n",
    "for i in range(2, 21):\n",
    "    dtci = DecisionTreeClassifier(max_depth = i).fit(X2_train, y2_train)\n",
    "    dtci_preds = dtci.predict(X2_test)\n",
    "    accu.append((\"maxDepth:\", i, \"accuracy:\", accuracy_score(y2_test, dtci_preds)))\n",
    "\n",
    "accu"
   ]
  },
  {
   "cell_type": "code",
   "execution_count": null,
   "metadata": {},
   "outputs": [],
   "source": []
  },
  {
   "cell_type": "code",
   "execution_count": 1841,
   "metadata": {},
   "outputs": [
    {
     "data": {
      "text/plain": [
       "0.8495270851246776"
      ]
     },
     "execution_count": 1841,
     "metadata": {},
     "output_type": "execute_result"
    }
   ],
   "source": [
    "dtc4 = DecisionTreeClassifier(max_depth = 4).fit(X2_train, y2_train)\n",
    "dtc4.score(X2_test, y2_test)"
   ]
  },
  {
   "cell_type": "code",
   "execution_count": 1843,
   "metadata": {},
   "outputs": [
    {
     "data": {
      "image/png": "[encoded data removed]",
      "text/plain": [
       "<Figure size 640x480 with 2 Axes>"
      ]
     },
     "metadata": {},
     "output_type": "display_data"
    },
    {
     "name": "stdout",
     "output_type": "stream",
     "text": [
      "accuracy: 0.8495270851246776\n",
      "precision: 0.7194719471947195\n",
      "recall: 0.7077922077922078\n",
      "specificity: 0.9005847953216374\n"
     ]
    }
   ],
   "source": [
    "cm = confusion_matrix(y2_test, dtc4.predict(X2_test))\n",
    "plotConfusionMatrix(cm, dtc4)"
   ]
  },
  {
   "cell_type": "code",
   "execution_count": null,
   "metadata": {},
   "outputs": [],
   "source": []
  },
  {
   "cell_type": "code",
   "execution_count": 1846,
   "metadata": {},
   "outputs": [
    {
     "data": {
      "image/png": "[encoded data removed]",
      "text/plain": [
       "<Figure size 2000x2000 with 1 Axes>"
      ]
     },
     "metadata": {},
     "output_type": "display_data"
    }
   ],
   "source": [
    "fig, ax = plt.subplots(figsize = (20, 20))\n",
    "plot_tree(dtc4, feature_names=list(X2_train.columns), filled=True, ax = ax, fontsize=8);"
   ]
  },
  {
   "cell_type": "code",
   "execution_count": null,
   "metadata": {},
   "outputs": [],
   "source": []
  },
  {
   "cell_type": "code",
   "execution_count": 1849,
   "metadata": {},
   "outputs": [
    {
     "data": {
      "text/plain": [
       "0.8426483233018057"
      ]
     },
     "execution_count": 1849,
     "metadata": {},
     "output_type": "execute_result"
    }
   ],
   "source": [
    "dtc6 = DecisionTreeClassifier(max_depth = 6).fit(X2_train, y2_train)\n",
    "dtc6.score(X2_test, y2_test)"
   ]
  },
  {
   "cell_type": "code",
   "execution_count": 1851,
   "metadata": {},
   "outputs": [
    {
     "data": {
      "image/png": "[encoded data removed]",
      "text/plain": [
       "<Figure size 640x480 with 2 Axes>"
      ]
     },
     "metadata": {},
     "output_type": "display_data"
    },
    {
     "name": "stdout",
     "output_type": "stream",
     "text": [
      "accuracy: 0.8426483233018057\n",
      "precision: 0.7022653721682848\n",
      "recall: 0.7045454545454546\n",
      "specificity: 0.8923976608187134\n"
     ]
    }
   ],
   "source": [
    "cm = confusion_matrix(y2_test, dtc6.predict(X2_test))\n",
    "plotConfusionMatrix(cm, dtc6)"
   ]
  },
  {
   "cell_type": "code",
   "execution_count": null,
   "metadata": {},
   "outputs": [],
   "source": []
  },
  {
   "cell_type": "code",
   "execution_count": 1854,
   "metadata": {},
   "outputs": [
    {
     "data": {
      "text/plain": [
       "0.8460877042132416"
      ]
     },
     "execution_count": 1854,
     "metadata": {},
     "output_type": "execute_result"
    }
   ],
   "source": [
    "dtc3 = DecisionTreeClassifier(max_depth = 3).fit(X2_train, y2_train)\n",
    "dtc3.score(X2_test, y2_test)"
   ]
  },
  {
   "cell_type": "code",
   "execution_count": 1856,
   "metadata": {},
   "outputs": [
    {
     "data": {
      "image/png": "[encoded data removed]",
      "text/plain": [
       "<Figure size 640x480 with 2 Axes>"
      ]
     },
     "metadata": {},
     "output_type": "display_data"
    },
    {
     "name": "stdout",
     "output_type": "stream",
     "text": [
      "accuracy: 0.8460877042132416\n",
      "precision: 0.7009345794392523\n",
      "recall: 0.7305194805194806\n",
      "specificity: 0.887719298245614\n"
     ]
    }
   ],
   "source": [
    "cm = confusion_matrix(y2_test, dtc3.predict(X2_test))\n",
    "plotConfusionMatrix(cm, dtc3)"
   ]
  },
  {
   "cell_type": "code",
   "execution_count": null,
   "metadata": {},
   "outputs": [],
   "source": []
  },
  {
   "cell_type": "code",
   "execution_count": null,
   "metadata": {},
   "outputs": [],
   "source": []
  },
  {
   "cell_type": "markdown",
   "metadata": {},
   "source": [
    "### KNN"
   ]
  },
  {
   "cell_type": "code",
   "execution_count": 1861,
   "metadata": {},
   "outputs": [
    {
     "data": {
      "text/plain": [
       "[('n_neighbors:', 3, 'accuracy:', 0.8030954428202923),\n",
       " ('n_neighbors:', 4, 'accuracy:', 0.8091143594153053),\n",
       " ('n_neighbors:', 5, 'accuracy:', 0.8091143594153053),\n",
       " ('n_neighbors:', 6, 'accuracy:', 0.8116938950988822),\n",
       " ('n_neighbors:', 7, 'accuracy:', 0.8159931212381771),\n",
       " ('n_neighbors:', 8, 'accuracy:', 0.8116938950988822),\n",
       " ('n_neighbors:', 9, 'accuracy:', 0.822871883061049),\n",
       " ('n_neighbors:', 10, 'accuracy:', 0.821152192605331),\n",
       " ('n_neighbors:', 11, 'accuracy:', 0.820292347377472),\n",
       " ('n_neighbors:', 12, 'accuracy:', 0.82201203783319),\n",
       " ('n_neighbors:', 13, 'accuracy:', 0.823731728288908),\n",
       " ('n_neighbors:', 14, 'accuracy:', 0.821152192605331),\n",
       " ('n_neighbors:', 15, 'accuracy:', 0.825451418744626),\n",
       " ('n_neighbors:', 16, 'accuracy:', 0.8245915735167669),\n",
       " ('n_neighbors:', 17, 'accuracy:', 0.828030954428203),\n",
       " ('n_neighbors:', 18, 'accuracy:', 0.827171109200344),\n",
       " ('n_neighbors:', 19, 'accuracy:', 0.8288907996560619),\n",
       " ('n_neighbors:', 20, 'accuracy:', 0.8288907996560619),\n",
       " ('n_neighbors:', 21, 'accuracy:', 0.8374892519346517),\n",
       " ('n_neighbors:', 22, 'accuracy:', 0.8331900257953568),\n",
       " ('n_neighbors:', 23, 'accuracy:', 0.826311263972485),\n",
       " ('n_neighbors:', 24, 'accuracy:', 0.823731728288908),\n",
       " ('n_neighbors:', 25, 'accuracy:', 0.822871883061049),\n",
       " ('n_neighbors:', 26, 'accuracy:', 0.822871883061049),\n",
       " ('n_neighbors:', 27, 'accuracy:', 0.8245915735167669),\n",
       " ('n_neighbors:', 28, 'accuracy:', 0.822871883061049),\n",
       " ('n_neighbors:', 29, 'accuracy:', 0.825451418744626)]"
      ]
     },
     "execution_count": 1861,
     "metadata": {},
     "output_type": "execute_result"
    }
   ],
   "source": [
    "accu = []\n",
    "for i in range(3, 30):\n",
    "    # pipe_i = Pipeline([('transform', StandardScaler()), ('knn', KNeighborsClassifier(i))])\n",
    "    knni = KNeighborsClassifier(i).fit(X2_train, y2_train)\n",
    "    # pipe_i.fit(X2_train, y2_train)\n",
    "    accu.append((\"n_neighbors:\", i, \"accuracy:\", knni.score(X2_test, y2_test)))\n",
    "accu"
   ]
  },
  {
   "cell_type": "code",
   "execution_count": null,
   "metadata": {},
   "outputs": [],
   "source": []
  },
  {
   "cell_type": "code",
   "execution_count": 1864,
   "metadata": {},
   "outputs": [
    {
     "data": {
      "text/plain": [
       "0.8091143594153053"
      ]
     },
     "execution_count": 1864,
     "metadata": {},
     "output_type": "execute_result"
    }
   ],
   "source": [
    "knn2 = KNeighborsClassifier(5).fit(X2_train, y2_train)\n",
    "# Knn2.fit(X2_train, y2_train)\n",
    "knn2.score(X2_test, y2_test)"
   ]
  },
  {
   "cell_type": "code",
   "execution_count": 1866,
   "metadata": {},
   "outputs": [
    {
     "data": {
      "image/png": "[encoded data removed]",
      "text/plain": [
       "<Figure size 640x480 with 2 Axes>"
      ]
     },
     "metadata": {},
     "output_type": "display_data"
    },
    {
     "name": "stdout",
     "output_type": "stream",
     "text": [
      "accuracy: 0.8091143594153053\n",
      "precision: 0.6557971014492754\n",
      "recall: 0.5876623376623377\n",
      "specificity: 0.8888888888888888\n"
     ]
    }
   ],
   "source": [
    "cm = confusion_matrix(y2_test, knn2.predict(X2_test))\n",
    "plotConfusionMatrix(cm, knn2)"
   ]
  },
  {
   "cell_type": "code",
   "execution_count": null,
   "metadata": {},
   "outputs": [],
   "source": []
  },
  {
   "cell_type": "code",
   "execution_count": 1869,
   "metadata": {},
   "outputs": [
    {
     "data": {
      "text/plain": [
       "0.8374892519346517"
      ]
     },
     "execution_count": 1869,
     "metadata": {},
     "output_type": "execute_result"
    }
   ],
   "source": [
    "knn2 = KNeighborsClassifier(21).fit(X2_train, y2_train)\n",
    "# Knn2.fit(X2_train, y2_train)\n",
    "knn2.score(X2_test, y2_test)"
   ]
  },
  {
   "cell_type": "code",
   "execution_count": 1871,
   "metadata": {},
   "outputs": [
    {
     "data": {
      "image/png": "[encoded data removed]",
      "text/plain": [
       "<Figure size 640x480 with 2 Axes>"
      ]
     },
     "metadata": {},
     "output_type": "display_data"
    },
    {
     "name": "stdout",
     "output_type": "stream",
     "text": [
      "accuracy: 0.8374892519346517\n",
      "precision: 0.7003367003367004\n",
      "recall: 0.6753246753246753\n",
      "specificity: 0.895906432748538\n"
     ]
    }
   ],
   "source": [
    "cm = confusion_matrix(y2_test, knn2.predict(X2_test))\n",
    "plotConfusionMatrix(cm, knn2)"
   ]
  },
  {
   "cell_type": "code",
   "execution_count": null,
   "metadata": {},
   "outputs": [],
   "source": []
  },
  {
   "cell_type": "code",
   "execution_count": null,
   "metadata": {},
   "outputs": [],
   "source": []
  },
  {
   "cell_type": "code",
   "execution_count": null,
   "metadata": {},
   "outputs": [],
   "source": []
  },
  {
   "cell_type": "markdown",
   "metadata": {},
   "source": [
    "## 12: Further Improvement\n",
    "### Use predict_proba of the classifier and custom threshold to tune the confusion matrix"
   ]
  },
  {
   "cell_type": "markdown",
   "metadata": {},
   "source": [
    "#### I would use a custom threshold of 0.3 to improve recall because each False Negative would likely cost us a campaign success"
   ]
  },
  {
   "cell_type": "markdown",
   "metadata": {},
   "source": [
    " LogisticRegresion is quite good for recall and specificity"
   ]
  },
  {
   "cell_type": "code",
   "execution_count": 1879,
   "metadata": {},
   "outputs": [
    {
     "data": {
      "text/html": [
       "<div>\n",
       "<style scoped>\n",
       "    .dataframe tbody tr th:only-of-type {\n",
       "        vertical-align: middle;\n",
       "    }\n",
       "\n",
       "    .dataframe tbody tr th {\n",
       "        vertical-align: top;\n",
       "    }\n",
       "\n",
       "    .dataframe thead th {\n",
       "        text-align: right;\n",
       "    }\n",
       "</style>\n",
       "<table border=\"1\" class=\"dataframe\">\n",
       "  <thead>\n",
       "    <tr style=\"text-align: right;\">\n",
       "      <th></th>\n",
       "      <th>accuracy</th>\n",
       "      <th>precision</th>\n",
       "      <th>recall</th>\n",
       "      <th>specificity</th>\n",
       "    </tr>\n",
       "  </thead>\n",
       "  <tbody>\n",
       "    <tr>\n",
       "      <th>LogisticRegression</th>\n",
       "      <td>0.819433</td>\n",
       "      <td>0.618932</td>\n",
       "      <td>0.827922</td>\n",
       "      <td>0.816374</td>\n",
       "    </tr>\n",
       "    <tr>\n",
       "      <th>SVM</th>\n",
       "      <td>0.843508</td>\n",
       "      <td>0.686391</td>\n",
       "      <td>0.753247</td>\n",
       "      <td>0.876023</td>\n",
       "    </tr>\n",
       "    <tr>\n",
       "      <th>DecisionTree-4</th>\n",
       "      <td>0.785899</td>\n",
       "      <td>0.565410</td>\n",
       "      <td>0.827922</td>\n",
       "      <td>0.770760</td>\n",
       "    </tr>\n",
       "    <tr>\n",
       "      <th>KNN-21</th>\n",
       "      <td>0.805675</td>\n",
       "      <td>0.599034</td>\n",
       "      <td>0.805195</td>\n",
       "      <td>0.805848</td>\n",
       "    </tr>\n",
       "  </tbody>\n",
       "</table>\n",
       "</div>"
      ],
      "text/plain": [
       "                    accuracy  precision    recall  specificity\n",
       "LogisticRegression  0.819433   0.618932  0.827922     0.816374\n",
       "SVM                 0.843508   0.686391  0.753247     0.876023\n",
       "DecisionTree-4      0.785899   0.565410  0.827922     0.770760\n",
       "KNN-21              0.805675   0.599034  0.805195     0.805848"
      ]
     },
     "execution_count": 1879,
     "metadata": {},
     "output_type": "execute_result"
    }
   ],
   "source": [
    "data = {\n",
    "    'accuracy':[0.819432502149613, 0.8435081685296647, 0.7858985382631126, 0.8056749785038693],\n",
    "    'precision': [0.6189320388349514, 0.6863905325443787, 0.565410199556541, 0.5990338164251208],\n",
    "    'recall': [0.827922077922078, 0.7532467532467533, 0.827922077922078, 0.8051948051948052],\n",
    "    'specificity': [0.816374269005848, 0.8760233918128655, 0.7707602339181286, 0.8058479532163743]\n",
    "}\n",
    "index_labels = ['LogisticRegression', 'SVM', 'DecisionTree-4', 'KNN-21']\n",
    "pd.DataFrame(data, index = index_labels)"
   ]
  },
  {
   "cell_type": "code",
   "execution_count": null,
   "metadata": {},
   "outputs": [],
   "source": []
  },
  {
   "cell_type": "code",
   "execution_count": null,
   "metadata": {},
   "outputs": [],
   "source": []
  },
  {
   "cell_type": "markdown",
   "metadata": {},
   "source": [
    "#### define a custome threshould predict function"
   ]
  },
  {
   "cell_type": "code",
   "execution_count": 1884,
   "metadata": {},
   "outputs": [],
   "source": [
    "def custom_predict(model, X, threshold):\n",
    "    probs = model.predict_proba(X) \n",
    "    return (probs[:, 1] > threshold).astype(int)\n",
    "    "
   ]
  },
  {
   "cell_type": "code",
   "execution_count": null,
   "metadata": {},
   "outputs": [],
   "source": []
  },
  {
   "cell_type": "markdown",
   "metadata": {},
   "source": [
    "#### LogisticRegression with custom threshold"
   ]
  },
  {
   "cell_type": "code",
   "execution_count": 1888,
   "metadata": {},
   "outputs": [],
   "source": [
    "lgr2 = LogisticRegression(C=0.04941713361323833, max_iter=1000).fit(X2_train, y2_train)\n",
    "lgr2_03_preds = custom_predict(lgr2, X2_test, threshold=0.3)"
   ]
  },
  {
   "cell_type": "code",
   "execution_count": 1890,
   "metadata": {},
   "outputs": [
    {
     "data": {
      "text/plain": [
       "array([1, 0, 0, ..., 0, 1, 0])"
      ]
     },
     "execution_count": 1890,
     "metadata": {},
     "output_type": "execute_result"
    }
   ],
   "source": [
    "lgr2_03_preds"
   ]
  },
  {
   "cell_type": "code",
   "execution_count": 1892,
   "metadata": {},
   "outputs": [
    {
     "data": {
      "image/png": "[encoded data removed]",
      "text/plain": [
       "<Figure size 640x480 with 2 Axes>"
      ]
     },
     "metadata": {},
     "output_type": "display_data"
    },
    {
     "name": "stdout",
     "output_type": "stream",
     "text": [
      "accuracy: 0.819432502149613\n",
      "precision: 0.6189320388349514\n",
      "recall: 0.827922077922078\n",
      "specificity: 0.816374269005848\n"
     ]
    }
   ],
   "source": [
    "cm = confusion_matrix(y2_test, lgr2_03_preds)\n",
    "plotConfusionMatrix(cm, lgr2)"
   ]
  },
  {
   "cell_type": "code",
   "execution_count": 1894,
   "metadata": {},
   "outputs": [
    {
     "data": {
      "text/plain": [
       "array([[698, 157],\n",
       "       [ 53, 255]])"
      ]
     },
     "execution_count": 1894,
     "metadata": {},
     "output_type": "execute_result"
    }
   ],
   "source": [
    "cm"
   ]
  },
  {
   "cell_type": "code",
   "execution_count": null,
   "metadata": {},
   "outputs": [],
   "source": []
  },
  {
   "cell_type": "code",
   "execution_count": null,
   "metadata": {},
   "outputs": [],
   "source": []
  },
  {
   "cell_type": "markdown",
   "metadata": {},
   "source": [
    "#### SVM with custom threshold"
   ]
  },
  {
   "cell_type": "code",
   "execution_count": 1899,
   "metadata": {},
   "outputs": [],
   "source": [
    "svc2 = SVC(kernel='rbf', probability=True, gamma=0.01484968262254465).fit(X2_train, y2_train)"
   ]
  },
  {
   "cell_type": "code",
   "execution_count": 1900,
   "metadata": {},
   "outputs": [
    {
     "data": {
      "image/png": "[encoded data removed]",
      "text/plain": [
       "<Figure size 640x480 with 2 Axes>"
      ]
     },
     "metadata": {},
     "output_type": "display_data"
    },
    {
     "name": "stdout",
     "output_type": "stream",
     "text": [
      "accuracy: 0.8435081685296647\n",
      "precision: 0.6852941176470588\n",
      "recall: 0.7564935064935064\n",
      "specificity: 0.8748538011695907\n"
     ]
    }
   ],
   "source": [
    "svc2_03_preds = custom_predict(svc2, X2_test, threshold=0.3)\n",
    "cm = confusion_matrix(y2_test, svc2_03_preds)\n",
    "plotConfusionMatrix(cm, svc2)"
   ]
  },
  {
   "cell_type": "code",
   "execution_count": null,
   "metadata": {},
   "outputs": [],
   "source": []
  },
  {
   "cell_type": "markdown",
   "metadata": {},
   "source": [
    "#### DecisionTree with custom threshold"
   ]
  },
  {
   "cell_type": "code",
   "execution_count": 1905,
   "metadata": {},
   "outputs": [
    {
     "data": {
      "image/png": "[encoded data removed]",
      "text/plain": [
       "<Figure size 640x480 with 2 Axes>"
      ]
     },
     "metadata": {},
     "output_type": "display_data"
    },
    {
     "name": "stdout",
     "output_type": "stream",
     "text": [
      "accuracy: 0.7850386930352536\n",
      "precision: 0.5644444444444444\n",
      "recall: 0.8246753246753247\n",
      "specificity: 0.7707602339181286\n"
     ]
    }
   ],
   "source": [
    "dtc6 = DecisionTreeClassifier(max_depth = 4).fit(X2_train, y2_train)\n",
    "dtc6_03_preds = custom_predict(dtc6, X2_test, threshold=0.3)\n",
    "cm = confusion_matrix(y2_test, dtc6_03_preds)\n",
    "plotConfusionMatrix(cm, dtc6)"
   ]
  },
  {
   "cell_type": "code",
   "execution_count": null,
   "metadata": {},
   "outputs": [],
   "source": []
  },
  {
   "cell_type": "markdown",
   "metadata": {},
   "source": [
    "#### KNN with custom threshold"
   ]
  },
  {
   "cell_type": "code",
   "execution_count": 1909,
   "metadata": {},
   "outputs": [
    {
     "data": {
      "image/png": "[encoded data removed]",
      "text/plain": [
       "<Figure size 640x480 with 2 Axes>"
      ]
     },
     "metadata": {},
     "output_type": "display_data"
    },
    {
     "name": "stdout",
     "output_type": "stream",
     "text": [
      "accuracy: 0.8056749785038693\n",
      "precision: 0.5990338164251208\n",
      "recall: 0.8051948051948052\n",
      "specificity: 0.8058479532163743\n"
     ]
    }
   ],
   "source": [
    "knn2 = KNeighborsClassifier(21).fit(X2_train, y2_train)\n",
    "knn2.score(X2_test, y2_test)\n",
    "knn2_03_preds = custom_predict(knn2, X2_test, threshold=0.3)\n",
    "cm = confusion_matrix(y2_test, knn2_03_preds)\n",
    "plotConfusionMatrix(cm, knn2)"
   ]
  },
  {
   "cell_type": "code",
   "execution_count": null,
   "metadata": {},
   "outputs": [],
   "source": []
  },
  {
   "cell_type": "code",
   "execution_count": null,
   "metadata": {},
   "outputs": [],
   "source": []
  },
  {
   "cell_type": "markdown",
   "metadata": {},
   "source": [
    "## 13: Another thought, simply the model by removing some features\n",
    "#### Try removing features month, day_of_week, job, education and martial"
   ]
  },
  {
   "cell_type": "markdown",
   "metadata": {},
   "source": [
    "These categorical features end up with more than 30 features after OneHot encoding, removing them leave us with a much smaller table, here I also use a custom threshold of 0.3 to improve recall."
   ]
  },
  {
   "cell_type": "markdown",
   "metadata": {},
   "source": [
    "DecisionTree stands out in recall, LogisticRegression and KNN have good balance between recall and specificity"
   ]
  },
  {
   "cell_type": "code",
   "execution_count": 1916,
   "metadata": {},
   "outputs": [
    {
     "data": {
      "text/html": [
       "<div>\n",
       "<style scoped>\n",
       "    .dataframe tbody tr th:only-of-type {\n",
       "        vertical-align: middle;\n",
       "    }\n",
       "\n",
       "    .dataframe tbody tr th {\n",
       "        vertical-align: top;\n",
       "    }\n",
       "\n",
       "    .dataframe thead th {\n",
       "        text-align: right;\n",
       "    }\n",
       "</style>\n",
       "<table border=\"1\" class=\"dataframe\">\n",
       "  <thead>\n",
       "    <tr style=\"text-align: right;\">\n",
       "      <th></th>\n",
       "      <th>accuracy</th>\n",
       "      <th>precision</th>\n",
       "      <th>recall</th>\n",
       "      <th>specificity</th>\n",
       "    </tr>\n",
       "  </thead>\n",
       "  <tbody>\n",
       "    <tr>\n",
       "      <th>LogisticRegression</th>\n",
       "      <td>0.795357</td>\n",
       "      <td>0.581395</td>\n",
       "      <td>0.811688</td>\n",
       "      <td>0.789474</td>\n",
       "    </tr>\n",
       "    <tr>\n",
       "      <th>SVM</th>\n",
       "      <td>0.841788</td>\n",
       "      <td>0.694969</td>\n",
       "      <td>0.717532</td>\n",
       "      <td>0.886550</td>\n",
       "    </tr>\n",
       "    <tr>\n",
       "      <th>DecisionTree-4</th>\n",
       "      <td>0.767842</td>\n",
       "      <td>0.539095</td>\n",
       "      <td>0.850649</td>\n",
       "      <td>0.738012</td>\n",
       "    </tr>\n",
       "    <tr>\n",
       "      <th>KNN-46</th>\n",
       "      <td>0.794497</td>\n",
       "      <td>0.579310</td>\n",
       "      <td>0.818182</td>\n",
       "      <td>0.785965</td>\n",
       "    </tr>\n",
       "  </tbody>\n",
       "</table>\n",
       "</div>"
      ],
      "text/plain": [
       "                    accuracy  precision    recall  specificity\n",
       "LogisticRegression  0.795357   0.581395  0.811688     0.789474\n",
       "SVM                 0.841788   0.694969  0.717532     0.886550\n",
       "DecisionTree-4      0.767842   0.539095  0.850649     0.738012\n",
       "KNN-46              0.794497   0.579310  0.818182     0.785965"
      ]
     },
     "execution_count": 1916,
     "metadata": {},
     "output_type": "execute_result"
    }
   ],
   "source": [
    "data = {\n",
    "    'accuracy':[0.7953568357695615, 0.8417884780739467, 0.7678417884780739, 0.7944969905417025],\n",
    "    'precision': [0.5813953488372093, 0.6949685534591195, 0.5390946502057613, 0.5793103448275863],\n",
    "    'recall': [0.8116883116883117, 0.7175324675324676, 0.8506493506493507, 0.8181818181818182],\n",
    "    'specificity': [0.7894736842105263, 0.8865497076023392, 0.7380116959064328, 0.7859649122807018]\n",
    "}\n",
    "index_labels = ['LogisticRegression', 'SVM', 'DecisionTree-4', 'KNN-46']\n",
    "pd.DataFrame(data, index = index_labels)"
   ]
  },
  {
   "cell_type": "code",
   "execution_count": null,
   "metadata": {},
   "outputs": [],
   "source": []
  },
  {
   "cell_type": "markdown",
   "metadata": {},
   "source": [
    "The purpose of removing these categorial features is to create a simpler model and possibility reduce overfitting."
   ]
  },
  {
   "cell_type": "code",
   "execution_count": 1920,
   "metadata": {},
   "outputs": [],
   "source": [
    "df0 = df.copy()\n",
    "df0 = df0.drop(columns = ['emp.var.rate', 'cons.price.idx', 'cons.conf.idx',\t'euribor3m', 'nr.employed'])"
   ]
  },
  {
   "cell_type": "code",
   "execution_count": 1922,
   "metadata": {},
   "outputs": [],
   "source": [
    "df3 = removeUnknown(df0)\n",
    "df3 = df3.drop(columns = ['month', 'day_of_week', 'job', 'marital', 'education'])\n",
    "df31 = df3.drop(columns=['age', 'duration', 'campaign', 'pdays', 'previous']).reset_index(drop=True)\n",
    "df3 = pd.concat([df31, pd.DataFrame(poly_transform.fit_transform(df3[['age', 'duration', 'campaign', 'pdays', 'previous']]), columns=poly_transform.get_feature_names_out())], axis=1)\n",
    "clms = poly_transform.get_feature_names_out()\n",
    "df3[clms] = StandardScaler().fit_transform(df3[clms])"
   ]
  },
  {
   "cell_type": "code",
   "execution_count": 1924,
   "metadata": {},
   "outputs": [],
   "source": [
    "df3 = featureEncoding(df3)"
   ]
  },
  {
   "cell_type": "code",
   "execution_count": 1926,
   "metadata": {},
   "outputs": [
    {
     "data": {
      "text/html": [
       "<div>\n",
       "<style scoped>\n",
       "    .dataframe tbody tr th:only-of-type {\n",
       "        vertical-align: middle;\n",
       "    }\n",
       "\n",
       "    .dataframe tbody tr th {\n",
       "        vertical-align: top;\n",
       "    }\n",
       "\n",
       "    .dataframe thead th {\n",
       "        text-align: right;\n",
       "    }\n",
       "</style>\n",
       "<table border=\"1\" class=\"dataframe\">\n",
       "  <thead>\n",
       "    <tr style=\"text-align: right;\">\n",
       "      <th></th>\n",
       "      <th>default_yes</th>\n",
       "      <th>housing_yes</th>\n",
       "      <th>loan_yes</th>\n",
       "      <th>contact_telephone</th>\n",
       "      <th>poutcome_success</th>\n",
       "      <th>age</th>\n",
       "      <th>duration</th>\n",
       "      <th>campaign</th>\n",
       "      <th>pdays</th>\n",
       "      <th>previous</th>\n",
       "      <th>age^2</th>\n",
       "      <th>age duration</th>\n",
       "      <th>age campaign</th>\n",
       "      <th>age pdays</th>\n",
       "      <th>age previous</th>\n",
       "      <th>duration^2</th>\n",
       "      <th>duration campaign</th>\n",
       "      <th>duration pdays</th>\n",
       "      <th>duration previous</th>\n",
       "      <th>campaign^2</th>\n",
       "      <th>campaign pdays</th>\n",
       "      <th>campaign previous</th>\n",
       "      <th>pdays^2</th>\n",
       "      <th>pdays previous</th>\n",
       "      <th>previous^2</th>\n",
       "    </tr>\n",
       "  </thead>\n",
       "  <tbody>\n",
       "    <tr>\n",
       "      <th>0</th>\n",
       "      <td>0.0</td>\n",
       "      <td>1.0</td>\n",
       "      <td>0.0</td>\n",
       "      <td>1.0</td>\n",
       "      <td>0.0</td>\n",
       "      <td>-0.005947</td>\n",
       "      <td>-0.510479</td>\n",
       "      <td>-0.669631</td>\n",
       "      <td>0.626077</td>\n",
       "      <td>-0.422892</td>\n",
       "      <td>-0.135593</td>\n",
       "      <td>-0.465690</td>\n",
       "      <td>-0.588856</td>\n",
       "      <td>0.573676</td>\n",
       "      <td>-0.337439</td>\n",
       "      <td>-0.314036</td>\n",
       "      <td>-0.538868</td>\n",
       "      <td>-0.147681</td>\n",
       "      <td>-0.526030</td>\n",
       "      <td>-0.423280</td>\n",
       "      <td>-0.282957</td>\n",
       "      <td>-0.656146</td>\n",
       "      <td>0.626084</td>\n",
       "      <td>0.309599</td>\n",
       "      <td>-0.346192</td>\n",
       "    </tr>\n",
       "    <tr>\n",
       "      <th>1</th>\n",
       "      <td>0.0</td>\n",
       "      <td>1.0</td>\n",
       "      <td>0.0</td>\n",
       "      <td>1.0</td>\n",
       "      <td>0.0</td>\n",
       "      <td>-0.328580</td>\n",
       "      <td>0.764835</td>\n",
       "      <td>-0.669631</td>\n",
       "      <td>0.626077</td>\n",
       "      <td>-0.422892</td>\n",
       "      <td>-0.393841</td>\n",
       "      <td>0.500219</td>\n",
       "      <td>-0.650912</td>\n",
       "      <td>0.374931</td>\n",
       "      <td>-0.455460</td>\n",
       "      <td>0.215496</td>\n",
       "      <td>-0.091389</td>\n",
       "      <td>1.198274</td>\n",
       "      <td>0.263487</td>\n",
       "      <td>-0.423280</td>\n",
       "      <td>-0.282957</td>\n",
       "      <td>-0.656146</td>\n",
       "      <td>0.626084</td>\n",
       "      <td>0.309599</td>\n",
       "      <td>-0.346192</td>\n",
       "    </tr>\n",
       "    <tr>\n",
       "      <th>2</th>\n",
       "      <td>0.0</td>\n",
       "      <td>1.0</td>\n",
       "      <td>0.0</td>\n",
       "      <td>1.0</td>\n",
       "      <td>0.0</td>\n",
       "      <td>-0.328580</td>\n",
       "      <td>-0.635920</td>\n",
       "      <td>-0.669631</td>\n",
       "      <td>0.626077</td>\n",
       "      <td>-0.422892</td>\n",
       "      <td>-0.393841</td>\n",
       "      <td>-0.619433</td>\n",
       "      <td>-0.650912</td>\n",
       "      <td>0.374931</td>\n",
       "      <td>-0.455460</td>\n",
       "      <td>-0.336697</td>\n",
       "      <td>-0.582882</td>\n",
       "      <td>-0.280070</td>\n",
       "      <td>-0.603688</td>\n",
       "      <td>-0.423280</td>\n",
       "      <td>-0.282957</td>\n",
       "      <td>-0.656146</td>\n",
       "      <td>0.626084</td>\n",
       "      <td>0.309599</td>\n",
       "      <td>-0.346192</td>\n",
       "    </tr>\n",
       "    <tr>\n",
       "      <th>3</th>\n",
       "      <td>0.0</td>\n",
       "      <td>1.0</td>\n",
       "      <td>0.0</td>\n",
       "      <td>1.0</td>\n",
       "      <td>1.0</td>\n",
       "      <td>-0.247921</td>\n",
       "      <td>-0.615013</td>\n",
       "      <td>-0.669631</td>\n",
       "      <td>-1.597175</td>\n",
       "      <td>-0.422892</td>\n",
       "      <td>-0.331827</td>\n",
       "      <td>-0.591674</td>\n",
       "      <td>-0.635398</td>\n",
       "      <td>-1.402730</td>\n",
       "      <td>-0.425954</td>\n",
       "      <td>-0.333286</td>\n",
       "      <td>-0.575547</td>\n",
       "      <td>-0.779994</td>\n",
       "      <td>-0.590745</td>\n",
       "      <td>-0.423280</td>\n",
       "      <td>-0.923213</td>\n",
       "      <td>-0.656146</td>\n",
       "      <td>-1.597262</td>\n",
       "      <td>-1.320385</td>\n",
       "      <td>-0.346192</td>\n",
       "    </tr>\n",
       "    <tr>\n",
       "      <th>4</th>\n",
       "      <td>0.0</td>\n",
       "      <td>1.0</td>\n",
       "      <td>0.0</td>\n",
       "      <td>1.0</td>\n",
       "      <td>0.0</td>\n",
       "      <td>-0.893186</td>\n",
       "      <td>-0.752998</td>\n",
       "      <td>-0.669631</td>\n",
       "      <td>0.626077</td>\n",
       "      <td>-0.422892</td>\n",
       "      <td>-0.780364</td>\n",
       "      <td>-0.768906</td>\n",
       "      <td>-0.759508</td>\n",
       "      <td>0.027128</td>\n",
       "      <td>-0.661996</td>\n",
       "      <td>-0.353092</td>\n",
       "      <td>-0.623962</td>\n",
       "      <td>-0.403633</td>\n",
       "      <td>-0.676168</td>\n",
       "      <td>-0.423280</td>\n",
       "      <td>-0.282957</td>\n",
       "      <td>-0.656146</td>\n",
       "      <td>0.626084</td>\n",
       "      <td>0.309599</td>\n",
       "      <td>-0.346192</td>\n",
       "    </tr>\n",
       "    <tr>\n",
       "      <th>...</th>\n",
       "      <td>...</td>\n",
       "      <td>...</td>\n",
       "      <td>...</td>\n",
       "      <td>...</td>\n",
       "      <td>...</td>\n",
       "      <td>...</td>\n",
       "      <td>...</td>\n",
       "      <td>...</td>\n",
       "      <td>...</td>\n",
       "      <td>...</td>\n",
       "      <td>...</td>\n",
       "      <td>...</td>\n",
       "      <td>...</td>\n",
       "      <td>...</td>\n",
       "      <td>...</td>\n",
       "      <td>...</td>\n",
       "      <td>...</td>\n",
       "      <td>...</td>\n",
       "      <td>...</td>\n",
       "      <td>...</td>\n",
       "      <td>...</td>\n",
       "      <td>...</td>\n",
       "      <td>...</td>\n",
       "      <td>...</td>\n",
       "      <td>...</td>\n",
       "    </tr>\n",
       "    <tr>\n",
       "      <th>4647</th>\n",
       "      <td>0.0</td>\n",
       "      <td>1.0</td>\n",
       "      <td>0.0</td>\n",
       "      <td>0.0</td>\n",
       "      <td>0.0</td>\n",
       "      <td>1.768532</td>\n",
       "      <td>0.263072</td>\n",
       "      <td>-0.669631</td>\n",
       "      <td>0.626077</td>\n",
       "      <td>1.124940</td>\n",
       "      <td>1.770687</td>\n",
       "      <td>0.893304</td>\n",
       "      <td>-0.247553</td>\n",
       "      <td>1.666772</td>\n",
       "      <td>2.140998</td>\n",
       "      <td>-0.057841</td>\n",
       "      <td>-0.267446</td>\n",
       "      <td>0.668718</td>\n",
       "      <td>0.804501</td>\n",
       "      <td>-0.423280</td>\n",
       "      <td>-0.282957</td>\n",
       "      <td>-0.206007</td>\n",
       "      <td>0.626084</td>\n",
       "      <td>1.949431</td>\n",
       "      <td>0.653902</td>\n",
       "    </tr>\n",
       "    <tr>\n",
       "      <th>4648</th>\n",
       "      <td>0.0</td>\n",
       "      <td>1.0</td>\n",
       "      <td>0.0</td>\n",
       "      <td>0.0</td>\n",
       "      <td>1.0</td>\n",
       "      <td>1.768532</td>\n",
       "      <td>-0.242872</td>\n",
       "      <td>-0.669631</td>\n",
       "      <td>-1.608369</td>\n",
       "      <td>7.316271</td>\n",
       "      <td>1.770687</td>\n",
       "      <td>0.196818</td>\n",
       "      <td>-0.247553</td>\n",
       "      <td>-1.410687</td>\n",
       "      <td>9.458288</td>\n",
       "      <td>-0.248079</td>\n",
       "      <td>-0.444971</td>\n",
       "      <td>-0.782229</td>\n",
       "      <td>2.331764</td>\n",
       "      <td>-0.423280</td>\n",
       "      <td>-0.926437</td>\n",
       "      <td>1.594549</td>\n",
       "      <td>-1.597340</td>\n",
       "      <td>-1.320385</td>\n",
       "      <td>11.321574</td>\n",
       "    </tr>\n",
       "    <tr>\n",
       "      <th>4649</th>\n",
       "      <td>0.0</td>\n",
       "      <td>0.0</td>\n",
       "      <td>0.0</td>\n",
       "      <td>0.0</td>\n",
       "      <td>1.0</td>\n",
       "      <td>1.768532</td>\n",
       "      <td>0.907002</td>\n",
       "      <td>0.035308</td>\n",
       "      <td>-1.597175</td>\n",
       "      <td>2.672773</td>\n",
       "      <td>1.770687</td>\n",
       "      <td>1.779742</td>\n",
       "      <td>0.714301</td>\n",
       "      <td>-1.395269</td>\n",
       "      <td>3.970320</td>\n",
       "      <td>0.308271</td>\n",
       "      <td>0.667124</td>\n",
       "      <td>-0.770346</td>\n",
       "      <td>2.852069</td>\n",
       "      <td>-0.159526</td>\n",
       "      <td>-0.919344</td>\n",
       "      <td>1.594549</td>\n",
       "      <td>-1.597262</td>\n",
       "      <td>-1.300688</td>\n",
       "      <td>2.320726</td>\n",
       "    </tr>\n",
       "    <tr>\n",
       "      <th>4650</th>\n",
       "      <td>0.0</td>\n",
       "      <td>1.0</td>\n",
       "      <td>0.0</td>\n",
       "      <td>0.0</td>\n",
       "      <td>1.0</td>\n",
       "      <td>-0.893186</td>\n",
       "      <td>-0.644283</td>\n",
       "      <td>-0.669631</td>\n",
       "      <td>-1.590458</td>\n",
       "      <td>-0.422892</td>\n",
       "      <td>-0.780364</td>\n",
       "      <td>-0.698904</td>\n",
       "      <td>-0.759508</td>\n",
       "      <td>-1.400790</td>\n",
       "      <td>-0.661996</td>\n",
       "      <td>-0.338020</td>\n",
       "      <td>-0.585817</td>\n",
       "      <td>-0.778695</td>\n",
       "      <td>-0.608865</td>\n",
       "      <td>-0.423280</td>\n",
       "      <td>-0.921279</td>\n",
       "      <td>-0.656146</td>\n",
       "      <td>-1.597162</td>\n",
       "      <td>-1.315461</td>\n",
       "      <td>-0.346192</td>\n",
       "    </tr>\n",
       "    <tr>\n",
       "      <th>4651</th>\n",
       "      <td>0.0</td>\n",
       "      <td>1.0</td>\n",
       "      <td>0.0</td>\n",
       "      <td>0.0</td>\n",
       "      <td>0.0</td>\n",
       "      <td>2.736429</td>\n",
       "      <td>-0.113250</td>\n",
       "      <td>0.740246</td>\n",
       "      <td>0.626077</td>\n",
       "      <td>-0.422892</td>\n",
       "      <td>3.157071</td>\n",
       "      <td>0.641522</td>\n",
       "      <td>2.234651</td>\n",
       "      <td>2.263006</td>\n",
       "      <td>0.665738</td>\n",
       "      <td>-0.207509</td>\n",
       "      <td>0.301805</td>\n",
       "      <td>0.271551</td>\n",
       "      <td>-0.280115</td>\n",
       "      <td>0.280064</td>\n",
       "      <td>1.005291</td>\n",
       "      <td>0.244132</td>\n",
       "      <td>0.626084</td>\n",
       "      <td>0.309599</td>\n",
       "      <td>-0.346192</td>\n",
       "    </tr>\n",
       "  </tbody>\n",
       "</table>\n",
       "<p>4652 rows × 25 columns</p>\n",
       "</div>"
      ],
      "text/plain": [
       "      default_yes  housing_yes  loan_yes  contact_telephone  poutcome_success  \\\n",
       "0             0.0          1.0       0.0                1.0               0.0   \n",
       "1             0.0          1.0       0.0                1.0               0.0   \n",
       "2             0.0          1.0       0.0                1.0               0.0   \n",
       "3             0.0          1.0       0.0                1.0               1.0   \n",
       "4             0.0          1.0       0.0                1.0               0.0   \n",
       "...           ...          ...       ...                ...               ...   \n",
       "4647          0.0          1.0       0.0                0.0               0.0   \n",
       "4648          0.0          1.0       0.0                0.0               1.0   \n",
       "4649          0.0          0.0       0.0                0.0               1.0   \n",
       "4650          0.0          1.0       0.0                0.0               1.0   \n",
       "4651          0.0          1.0       0.0                0.0               0.0   \n",
       "\n",
       "           age  duration  campaign     pdays  previous     age^2  \\\n",
       "0    -0.005947 -0.510479 -0.669631  0.626077 -0.422892 -0.135593   \n",
       "1    -0.328580  0.764835 -0.669631  0.626077 -0.422892 -0.393841   \n",
       "2    -0.328580 -0.635920 -0.669631  0.626077 -0.422892 -0.393841   \n",
       "3    -0.247921 -0.615013 -0.669631 -1.597175 -0.422892 -0.331827   \n",
       "4    -0.893186 -0.752998 -0.669631  0.626077 -0.422892 -0.780364   \n",
       "...        ...       ...       ...       ...       ...       ...   \n",
       "4647  1.768532  0.263072 -0.669631  0.626077  1.124940  1.770687   \n",
       "4648  1.768532 -0.242872 -0.669631 -1.608369  7.316271  1.770687   \n",
       "4649  1.768532  0.907002  0.035308 -1.597175  2.672773  1.770687   \n",
       "4650 -0.893186 -0.644283 -0.669631 -1.590458 -0.422892 -0.780364   \n",
       "4651  2.736429 -0.113250  0.740246  0.626077 -0.422892  3.157071   \n",
       "\n",
       "      age duration  age campaign  age pdays  age previous  duration^2  \\\n",
       "0        -0.465690     -0.588856   0.573676     -0.337439   -0.314036   \n",
       "1         0.500219     -0.650912   0.374931     -0.455460    0.215496   \n",
       "2        -0.619433     -0.650912   0.374931     -0.455460   -0.336697   \n",
       "3        -0.591674     -0.635398  -1.402730     -0.425954   -0.333286   \n",
       "4        -0.768906     -0.759508   0.027128     -0.661996   -0.353092   \n",
       "...            ...           ...        ...           ...         ...   \n",
       "4647      0.893304     -0.247553   1.666772      2.140998   -0.057841   \n",
       "4648      0.196818     -0.247553  -1.410687      9.458288   -0.248079   \n",
       "4649      1.779742      0.714301  -1.395269      3.970320    0.308271   \n",
       "4650     -0.698904     -0.759508  -1.400790     -0.661996   -0.338020   \n",
       "4651      0.641522      2.234651   2.263006      0.665738   -0.207509   \n",
       "\n",
       "      duration campaign  duration pdays  duration previous  campaign^2  \\\n",
       "0             -0.538868       -0.147681          -0.526030   -0.423280   \n",
       "1             -0.091389        1.198274           0.263487   -0.423280   \n",
       "2             -0.582882       -0.280070          -0.603688   -0.423280   \n",
       "3             -0.575547       -0.779994          -0.590745   -0.423280   \n",
       "4             -0.623962       -0.403633          -0.676168   -0.423280   \n",
       "...                 ...             ...                ...         ...   \n",
       "4647          -0.267446        0.668718           0.804501   -0.423280   \n",
       "4648          -0.444971       -0.782229           2.331764   -0.423280   \n",
       "4649           0.667124       -0.770346           2.852069   -0.159526   \n",
       "4650          -0.585817       -0.778695          -0.608865   -0.423280   \n",
       "4651           0.301805        0.271551          -0.280115    0.280064   \n",
       "\n",
       "      campaign pdays  campaign previous   pdays^2  pdays previous  previous^2  \n",
       "0          -0.282957          -0.656146  0.626084        0.309599   -0.346192  \n",
       "1          -0.282957          -0.656146  0.626084        0.309599   -0.346192  \n",
       "2          -0.282957          -0.656146  0.626084        0.309599   -0.346192  \n",
       "3          -0.923213          -0.656146 -1.597262       -1.320385   -0.346192  \n",
       "4          -0.282957          -0.656146  0.626084        0.309599   -0.346192  \n",
       "...              ...                ...       ...             ...         ...  \n",
       "4647       -0.282957          -0.206007  0.626084        1.949431    0.653902  \n",
       "4648       -0.926437           1.594549 -1.597340       -1.320385   11.321574  \n",
       "4649       -0.919344           1.594549 -1.597262       -1.300688    2.320726  \n",
       "4650       -0.921279          -0.656146 -1.597162       -1.315461   -0.346192  \n",
       "4651        1.005291           0.244132  0.626084        0.309599   -0.346192  \n",
       "\n",
       "[4652 rows x 25 columns]"
      ]
     },
     "execution_count": 1926,
     "metadata": {},
     "output_type": "execute_result"
    }
   ],
   "source": [
    "y3 = df3['y_yes']\n",
    "df3 = df3.drop(columns =['y_yes'])\n",
    "df3"
   ]
  },
  {
   "cell_type": "code",
   "execution_count": null,
   "metadata": {},
   "outputs": [],
   "source": []
  },
  {
   "cell_type": "code",
   "execution_count": 1929,
   "metadata": {},
   "outputs": [],
   "source": [
    "X3_train, X3_test, y3_train, y3_test = train_test_split(df3, y3, random_state=42)"
   ]
  },
  {
   "cell_type": "code",
   "execution_count": null,
   "metadata": {},
   "outputs": [],
   "source": []
  },
  {
   "cell_type": "markdown",
   "metadata": {},
   "source": [
    "#### LogisticRegression"
   ]
  },
  {
   "cell_type": "code",
   "execution_count": 1933,
   "metadata": {},
   "outputs": [
    {
     "name": "stdout",
     "output_type": "stream",
     "text": [
      "0.8374892519346517\n",
      "LogisticRegression(C=0.09102981779915217, max_iter=1000)\n"
     ]
    }
   ],
   "source": [
    "param_grid = {\n",
    "    'C': np.logspace(-3, 1, 50)\n",
    "}\n",
    "grid_lgr3 = GridSearchCV(\n",
    "    estimator=LogisticRegression(max_iter=1000),\n",
    "    param_grid=param_grid\n",
    ")\n",
    "grid_lgr3.fit(X3_train, y3_train)\n",
    "print(grid_lgr3.score(X3_test, y3_test))\n",
    "print(grid_lgr3.best_estimator_)"
   ]
  },
  {
   "cell_type": "code",
   "execution_count": 1934,
   "metadata": {},
   "outputs": [
    {
     "data": {
      "image/png": "[encoded data removed]",
      "text/plain": [
       "<Figure size 640x480 with 2 Axes>"
      ]
     },
     "metadata": {},
     "output_type": "display_data"
    },
    {
     "name": "stdout",
     "output_type": "stream",
     "text": [
      "accuracy: 0.7953568357695615\n",
      "precision: 0.5813953488372093\n",
      "recall: 0.8116883116883117\n",
      "specificity: 0.7894736842105263\n"
     ]
    }
   ],
   "source": [
    "lgr3 = LogisticRegression(C=0.09102981779915217, max_iter=1000).fit(X3_train, y3_train)\n",
    "lgr3_03_preds = custom_predict(lgr3, X3_test, threshold=0.3)\n",
    "cm = confusion_matrix(y3_test, lgr3_03_preds)\n",
    "plotConfusionMatrix(cm, lgr3)"
   ]
  },
  {
   "cell_type": "code",
   "execution_count": null,
   "metadata": {},
   "outputs": [],
   "source": []
  },
  {
   "cell_type": "markdown",
   "metadata": {},
   "source": [
    "#### SVM"
   ]
  },
  {
   "cell_type": "code",
   "execution_count": 1939,
   "metadata": {},
   "outputs": [
    {
     "name": "stdout",
     "output_type": "stream",
     "text": [
      "0.8400687876182287\n",
      "SVC(gamma=0.03351602650938841)\n",
      "rbf\n"
     ]
    }
   ],
   "source": [
    "params = {'kernel': ['rbf'],\n",
    "         'gamma': np.logspace(-4, 1, 100),}\n",
    "grid_svc3 = GridSearchCV(SVC(), params).fit(X3_train, y3_train)\n",
    "print(grid_svc3.score(X3_test, y3_test))\n",
    "print(grid_svc3.best_estimator_)\n",
    "print(grid_svc3.best_params_['kernel'])"
   ]
  },
  {
   "cell_type": "code",
   "execution_count": 1941,
   "metadata": {},
   "outputs": [
    {
     "data": {
      "image/png": "[encoded data removed]",
      "text/plain": [
       "<Figure size 640x480 with 2 Axes>"
      ]
     },
     "metadata": {},
     "output_type": "display_data"
    },
    {
     "name": "stdout",
     "output_type": "stream",
     "text": [
      "accuracy: 0.8417884780739467\n",
      "precision: 0.6949685534591195\n",
      "recall: 0.7175324675324676\n",
      "specificity: 0.8865497076023392\n"
     ]
    }
   ],
   "source": [
    "svc3 = SVC(kernel='rbf', probability=True, gamma=0.03351602650938841).fit(X3_train, y3_train)\n",
    "svc3_03_preds = custom_predict(svc3, X3_test, threshold=0.3)\n",
    "cm = confusion_matrix(y3_test, svc3_03_preds)\n",
    "plotConfusionMatrix(cm, svc3)"
   ]
  },
  {
   "cell_type": "code",
   "execution_count": null,
   "metadata": {},
   "outputs": [],
   "source": []
  },
  {
   "cell_type": "code",
   "execution_count": null,
   "metadata": {},
   "outputs": [],
   "source": []
  },
  {
   "cell_type": "markdown",
   "metadata": {},
   "source": [
    "#### DecisionTree"
   ]
  },
  {
   "cell_type": "code",
   "execution_count": 1946,
   "metadata": {},
   "outputs": [
    {
     "data": {
      "text/plain": [
       "[('maxDepth:', 2, 'accuracy:', 0.8443680137575237),\n",
       " ('maxDepth:', 3, 'accuracy:', 0.8460877042132416),\n",
       " ('maxDepth:', 4, 'accuracy:', 0.8495270851246776),\n",
       " ('maxDepth:', 5, 'accuracy:', 0.8469475494411006),\n",
       " ('maxDepth:', 6, 'accuracy:', 0.8417884780739467),\n",
       " ('maxDepth:', 7, 'accuracy:', 0.8340498710232158),\n",
       " ('maxDepth:', 8, 'accuracy:', 0.8288907996560619),\n",
       " ('maxDepth:', 9, 'accuracy:', 0.8082545141874462),\n",
       " ('maxDepth:', 10, 'accuracy:', 0.8056749785038693),\n",
       " ('maxDepth:', 11, 'accuracy:', 0.8013757523645744),\n",
       " ('maxDepth:', 12, 'accuracy:', 0.7979363714531384),\n",
       " ('maxDepth:', 13, 'accuracy:', 0.7953568357695615),\n",
       " ('maxDepth:', 14, 'accuracy:', 0.7876182287188306),\n",
       " ('maxDepth:', 15, 'accuracy:', 0.7841788478073947),\n",
       " ('maxDepth:', 16, 'accuracy:', 0.7712811693895099),\n",
       " ('maxDepth:', 17, 'accuracy:', 0.7704213241616509),\n",
       " ('maxDepth:', 18, 'accuracy:', 0.7790197764402408),\n",
       " ('maxDepth:', 19, 'accuracy:', 0.7730008598452278),\n",
       " ('maxDepth:', 20, 'accuracy:', 0.7721410146173688),\n",
       " ('maxDepth:', 21, 'accuracy:', 0.7790197764402408),\n",
       " ('maxDepth:', 22, 'accuracy:', 0.7764402407566638),\n",
       " ('maxDepth:', 23, 'accuracy:', 0.7738607050730868),\n",
       " ('maxDepth:', 24, 'accuracy:', 0.7721410146173688),\n",
       " ('maxDepth:', 25, 'accuracy:', 0.7678417884780739),\n",
       " ('maxDepth:', 26, 'accuracy:', 0.764402407566638),\n",
       " ('maxDepth:', 27, 'accuracy:', 0.7730008598452278),\n",
       " ('maxDepth:', 28, 'accuracy:', 0.765262252794497),\n",
       " ('maxDepth:', 29, 'accuracy:', 0.7712811693895099),\n",
       " ('maxDepth:', 30, 'accuracy:', 0.7695614789337919)]"
      ]
     },
     "execution_count": 1946,
     "metadata": {},
     "output_type": "execute_result"
    }
   ],
   "source": [
    "accu = []\n",
    "for i in range(2, 31):\n",
    "    dtci = DecisionTreeClassifier(max_depth = i).fit(X3_train, y3_train)\n",
    "    dtci_preds = dtci.predict(X3_test)\n",
    "    accu.append((\"maxDepth:\", i, \"accuracy:\", accuracy_score(y3_test, dtci_preds)))\n",
    "\n",
    "accu"
   ]
  },
  {
   "cell_type": "code",
   "execution_count": 1948,
   "metadata": {},
   "outputs": [],
   "source": [
    "dtc6 = DecisionTreeClassifier(max_depth = 4).fit(X3_train, y3_train)"
   ]
  },
  {
   "cell_type": "code",
   "execution_count": 1950,
   "metadata": {},
   "outputs": [
    {
     "data": {
      "image/png": "[encoded data removed]",
      "text/plain": [
       "<Figure size 640x480 with 2 Axes>"
      ]
     },
     "metadata": {},
     "output_type": "display_data"
    },
    {
     "name": "stdout",
     "output_type": "stream",
     "text": [
      "accuracy: 0.766981943250215\n",
      "precision: 0.5381443298969072\n",
      "recall: 0.8474025974025974\n",
      "specificity: 0.7380116959064328\n"
     ]
    }
   ],
   "source": [
    "dtc6_03_preds = custom_predict(dtc6, X3_test, threshold=0.3)\n",
    "cm = confusion_matrix(y3_test, dtc6_03_preds)\n",
    "plotConfusionMatrix(cm, dtc6)"
   ]
  },
  {
   "cell_type": "code",
   "execution_count": null,
   "metadata": {},
   "outputs": [],
   "source": []
  },
  {
   "cell_type": "code",
   "execution_count": null,
   "metadata": {},
   "outputs": [],
   "source": []
  },
  {
   "cell_type": "markdown",
   "metadata": {},
   "source": [
    "#### KNN"
   ]
  },
  {
   "cell_type": "code",
   "execution_count": 1955,
   "metadata": {},
   "outputs": [
    {
     "data": {
      "text/plain": [
       "[('n_neighbors:', 3, 'accuracy:', 0.7807394668959587),\n",
       " ('n_neighbors:', 4, 'accuracy:', 0.7927773000859846),\n",
       " ('n_neighbors:', 5, 'accuracy:', 0.7953568357695615),\n",
       " ('n_neighbors:', 6, 'accuracy:', 0.8022355975924333),\n",
       " ('n_neighbors:', 7, 'accuracy:', 0.7970765262252795),\n",
       " ('n_neighbors:', 8, 'accuracy:', 0.8125537403267412),\n",
       " ('n_neighbors:', 9, 'accuracy:', 0.8091143594153053),\n",
       " ('n_neighbors:', 10, 'accuracy:', 0.822871883061049),\n",
       " ('n_neighbors:', 11, 'accuracy:', 0.8288907996560619),\n",
       " ('n_neighbors:', 12, 'accuracy:', 0.822871883061049),\n",
       " ('n_neighbors:', 13, 'accuracy:', 0.8306104901117799),\n",
       " ('n_neighbors:', 14, 'accuracy:', 0.8340498710232158),\n",
       " ('n_neighbors:', 15, 'accuracy:', 0.8340498710232158),\n",
       " ('n_neighbors:', 16, 'accuracy:', 0.8357695614789338),\n",
       " ('n_neighbors:', 17, 'accuracy:', 0.8331900257953568),\n",
       " ('n_neighbors:', 18, 'accuracy:', 0.8306104901117799),\n",
       " ('n_neighbors:', 19, 'accuracy:', 0.827171109200344),\n",
       " ('n_neighbors:', 20, 'accuracy:', 0.828030954428203),\n",
       " ('n_neighbors:', 21, 'accuracy:', 0.8306104901117799),\n",
       " ('n_neighbors:', 22, 'accuracy:', 0.8297506448839209),\n",
       " ('n_neighbors:', 23, 'accuracy:', 0.8323301805674979),\n",
       " ('n_neighbors:', 24, 'accuracy:', 0.8306104901117799),\n",
       " ('n_neighbors:', 25, 'accuracy:', 0.8357695614789338),\n",
       " ('n_neighbors:', 26, 'accuracy:', 0.8349097162510748),\n",
       " ('n_neighbors:', 27, 'accuracy:', 0.8314703353396389),\n",
       " ('n_neighbors:', 28, 'accuracy:', 0.8331900257953568),\n",
       " ('n_neighbors:', 29, 'accuracy:', 0.8323301805674979),\n",
       " ('n_neighbors:', 30, 'accuracy:', 0.8357695614789338),\n",
       " ('n_neighbors:', 31, 'accuracy:', 0.8383490971625107),\n",
       " ('n_neighbors:', 32, 'accuracy:', 0.8366294067067928),\n",
       " ('n_neighbors:', 33, 'accuracy:', 0.8349097162510748),\n",
       " ('n_neighbors:', 34, 'accuracy:', 0.8383490971625107),\n",
       " ('n_neighbors:', 35, 'accuracy:', 0.8357695614789338),\n",
       " ('n_neighbors:', 36, 'accuracy:', 0.8357695614789338),\n",
       " ('n_neighbors:', 37, 'accuracy:', 0.8374892519346517),\n",
       " ('n_neighbors:', 38, 'accuracy:', 0.8349097162510748),\n",
       " ('n_neighbors:', 39, 'accuracy:', 0.8366294067067928),\n",
       " ('n_neighbors:', 40, 'accuracy:', 0.8349097162510748),\n",
       " ('n_neighbors:', 41, 'accuracy:', 0.8366294067067928),\n",
       " ('n_neighbors:', 42, 'accuracy:', 0.8366294067067928),\n",
       " ('n_neighbors:', 43, 'accuracy:', 0.8366294067067928),\n",
       " ('n_neighbors:', 44, 'accuracy:', 0.8374892519346517),\n",
       " ('n_neighbors:', 45, 'accuracy:', 0.8383490971625107),\n",
       " ('n_neighbors:', 46, 'accuracy:', 0.8392089423903697),\n",
       " ('n_neighbors:', 47, 'accuracy:', 0.8366294067067928),\n",
       " ('n_neighbors:', 48, 'accuracy:', 0.8349097162510748),\n",
       " ('n_neighbors:', 49, 'accuracy:', 0.8349097162510748),\n",
       " ('n_neighbors:', 50, 'accuracy:', 0.8357695614789338)]"
      ]
     },
     "execution_count": 1955,
     "metadata": {},
     "output_type": "execute_result"
    }
   ],
   "source": [
    "accu = []\n",
    "for i in range(3, 51):\n",
    "    # pipe_i = Pipeline([('transform', StandardScaler()), ('knn', KNeighborsClassifier(i))])\n",
    "    knni = KNeighborsClassifier(i).fit(X3_train, y3_train)\n",
    "    # pipe_i.fit(X2_train, y2_train)\n",
    "    accu.append((\"n_neighbors:\", i, \"accuracy:\", knni.score(X3_test, y3_test)))\n",
    "accu"
   ]
  },
  {
   "cell_type": "code",
   "execution_count": 1957,
   "metadata": {},
   "outputs": [
    {
     "data": {
      "image/png": "[encoded data removed]",
      "text/plain": [
       "<Figure size 640x480 with 2 Axes>"
      ]
     },
     "metadata": {},
     "output_type": "display_data"
    },
    {
     "name": "stdout",
     "output_type": "stream",
     "text": [
      "accuracy: 0.7944969905417025\n",
      "precision: 0.5793103448275863\n",
      "recall: 0.8181818181818182\n",
      "specificity: 0.7859649122807018\n"
     ]
    }
   ],
   "source": [
    "knn3 = KNeighborsClassifier(46).fit(X3_train, y3_train)\n",
    "knn3.score(X3_test, y3_test)\n",
    "knn3_03_preds = custom_predict(knn3, X3_test, threshold=0.3)\n",
    "cm = confusion_matrix(y3_test, knn3_03_preds)\n",
    "plotConfusionMatrix(cm, knn3)"
   ]
  },
  {
   "cell_type": "code",
   "execution_count": null,
   "metadata": {},
   "outputs": [],
   "source": []
  },
  {
   "cell_type": "code",
   "execution_count": null,
   "metadata": {},
   "outputs": [],
   "source": []
  },
  {
   "cell_type": "code",
   "execution_count": null,
   "metadata": {},
   "outputs": [],
   "source": []
  },
  {
   "cell_type": "code",
   "execution_count": null,
   "metadata": {},
   "outputs": [],
   "source": []
  },
  {
   "cell_type": "code",
   "execution_count": null,
   "metadata": {},
   "outputs": [],
   "source": []
  },
  {
   "cell_type": "code",
   "execution_count": null,
   "metadata": {},
   "outputs": [],
   "source": []
  },
  {
   "cell_type": "code",
   "execution_count": null,
   "metadata": {},
   "outputs": [],
   "source": []
  },
  {
   "cell_type": "code",
   "execution_count": null,
   "metadata": {},
   "outputs": [],
   "source": []
  },
  {
   "cell_type": "code",
   "execution_count": null,
   "metadata": {},
   "outputs": [],
   "source": []
  },
  {
   "cell_type": "code",
   "execution_count": null,
   "metadata": {},
   "outputs": [],
   "source": []
  },
  {
   "cell_type": "code",
   "execution_count": null,
   "metadata": {},
   "outputs": [],
   "source": []
  },
  {
   "cell_type": "code",
   "execution_count": null,
   "metadata": {},
   "outputs": [],
   "source": []
  },
  {
   "cell_type": "code",
   "execution_count": null,
   "metadata": {},
   "outputs": [],
   "source": []
  },
  {
   "cell_type": "code",
   "execution_count": null,
   "metadata": {},
   "outputs": [],
   "source": []
  },
  {
   "cell_type": "code",
   "execution_count": null,
   "metadata": {},
   "outputs": [],
   "source": []
  },
  {
   "cell_type": "code",
   "execution_count": null,
   "metadata": {},
   "outputs": [],
   "source": []
  },
  {
   "cell_type": "markdown",
   "metadata": {},
   "source": [
    "##### Questions"
   ]
  }
 ],
 "metadata": {
  "kernelspec": {
   "display_name": "Python 3 (ipykernel)",
   "language": "python",
   "name": "python3"
  },
  "language_info": {
   "codemirror_mode": {
    "name": "ipython",
    "version": 3
   },
   "file_extension": ".py",
   "mimetype": "text/x-python",
   "name": "python",
   "nbconvert_exporter": "python",
   "pygments_lexer": "ipython3",
   "version": "3.12.7"
  },
  "widgets": {
   "application/vnd.jupyter.widget-state+json": {
    "state": {},
    "version_major": 2,
    "version_minor": 0
   }
  }
 },
 "nbformat": 4,
 "nbformat_minor": 4
}
